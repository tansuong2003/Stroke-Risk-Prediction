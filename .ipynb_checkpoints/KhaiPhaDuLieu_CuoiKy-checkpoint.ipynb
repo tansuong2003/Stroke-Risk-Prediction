{
 "cells": [
  {
   "cell_type": "code",
   "execution_count": 2,
   "id": "3d288990",
   "metadata": {},
   "outputs": [],
   "source": [
    "import pandas as pd\n",
    "import matplotlib.pyplot as plt\n",
    "import seaborn as sns\n",
    "import numpy as np\n",
    "from scipy.stats import norm\n",
    "\n",
    "# Tránh cảnh báo\n",
    "import warnings\n",
    "warnings.filterwarnings('ignore')\n",
    "%matplotlib inline"
   ]
  },
  {
   "cell_type": "code",
   "execution_count": 3,
   "id": "5ae293d2",
   "metadata": {},
   "outputs": [
    {
     "name": "stdout",
     "output_type": "stream",
     "text": [
      "<class 'pandas.core.frame.DataFrame'>\n",
      "RangeIndex: 5110 entries, 0 to 5109\n",
      "Data columns (total 12 columns):\n",
      " #   Column             Non-Null Count  Dtype  \n",
      "---  ------             --------------  -----  \n",
      " 0   id                 5110 non-null   int64  \n",
      " 1   gender             5110 non-null   object \n",
      " 2   age                5110 non-null   float64\n",
      " 3   hypertension       5110 non-null   int64  \n",
      " 4   heart_disease      5110 non-null   int64  \n",
      " 5   ever_married       5110 non-null   object \n",
      " 6   work_type          5110 non-null   object \n",
      " 7   Residence_type     5110 non-null   object \n",
      " 8   avg_glucose_level  5110 non-null   float64\n",
      " 9   bmi                4909 non-null   float64\n",
      " 10  smoking_status     5110 non-null   object \n",
      " 11  stroke             5110 non-null   int64  \n",
      "dtypes: float64(3), int64(4), object(5)\n",
      "memory usage: 479.2+ KB\n"
     ]
    }
   ],
   "source": [
    "data = pd.read_csv(\"healthcare-dataset-stroke-data.csv\")\n",
    "data.info()"
   ]
  },
  {
   "cell_type": "code",
   "execution_count": 4,
   "id": "b23975df",
   "metadata": {},
   "outputs": [
    {
     "data": {
      "text/html": [
       "<div>\n",
       "<style scoped>\n",
       "    .dataframe tbody tr th:only-of-type {\n",
       "        vertical-align: middle;\n",
       "    }\n",
       "\n",
       "    .dataframe tbody tr th {\n",
       "        vertical-align: top;\n",
       "    }\n",
       "\n",
       "    .dataframe thead th {\n",
       "        text-align: right;\n",
       "    }\n",
       "</style>\n",
       "<table border=\"1\" class=\"dataframe\">\n",
       "  <thead>\n",
       "    <tr style=\"text-align: right;\">\n",
       "      <th></th>\n",
       "      <th>id</th>\n",
       "      <th>gender</th>\n",
       "      <th>age</th>\n",
       "      <th>hypertension</th>\n",
       "      <th>heart_disease</th>\n",
       "      <th>ever_married</th>\n",
       "      <th>work_type</th>\n",
       "      <th>Residence_type</th>\n",
       "      <th>avg_glucose_level</th>\n",
       "      <th>bmi</th>\n",
       "      <th>smoking_status</th>\n",
       "      <th>stroke</th>\n",
       "    </tr>\n",
       "  </thead>\n",
       "  <tbody>\n",
       "    <tr>\n",
       "      <th>0</th>\n",
       "      <td>9046</td>\n",
       "      <td>Male</td>\n",
       "      <td>67.0</td>\n",
       "      <td>0</td>\n",
       "      <td>1</td>\n",
       "      <td>Yes</td>\n",
       "      <td>Private</td>\n",
       "      <td>Urban</td>\n",
       "      <td>228.69</td>\n",
       "      <td>36.6</td>\n",
       "      <td>formerly smoked</td>\n",
       "      <td>1</td>\n",
       "    </tr>\n",
       "    <tr>\n",
       "      <th>1</th>\n",
       "      <td>51676</td>\n",
       "      <td>Female</td>\n",
       "      <td>61.0</td>\n",
       "      <td>0</td>\n",
       "      <td>0</td>\n",
       "      <td>Yes</td>\n",
       "      <td>Self-employed</td>\n",
       "      <td>Rural</td>\n",
       "      <td>202.21</td>\n",
       "      <td>NaN</td>\n",
       "      <td>never smoked</td>\n",
       "      <td>1</td>\n",
       "    </tr>\n",
       "    <tr>\n",
       "      <th>2</th>\n",
       "      <td>31112</td>\n",
       "      <td>Male</td>\n",
       "      <td>80.0</td>\n",
       "      <td>0</td>\n",
       "      <td>1</td>\n",
       "      <td>Yes</td>\n",
       "      <td>Private</td>\n",
       "      <td>Rural</td>\n",
       "      <td>105.92</td>\n",
       "      <td>32.5</td>\n",
       "      <td>never smoked</td>\n",
       "      <td>1</td>\n",
       "    </tr>\n",
       "    <tr>\n",
       "      <th>3</th>\n",
       "      <td>60182</td>\n",
       "      <td>Female</td>\n",
       "      <td>49.0</td>\n",
       "      <td>0</td>\n",
       "      <td>0</td>\n",
       "      <td>Yes</td>\n",
       "      <td>Private</td>\n",
       "      <td>Urban</td>\n",
       "      <td>171.23</td>\n",
       "      <td>34.4</td>\n",
       "      <td>smokes</td>\n",
       "      <td>1</td>\n",
       "    </tr>\n",
       "    <tr>\n",
       "      <th>4</th>\n",
       "      <td>1665</td>\n",
       "      <td>Female</td>\n",
       "      <td>79.0</td>\n",
       "      <td>1</td>\n",
       "      <td>0</td>\n",
       "      <td>Yes</td>\n",
       "      <td>Self-employed</td>\n",
       "      <td>Rural</td>\n",
       "      <td>174.12</td>\n",
       "      <td>24.0</td>\n",
       "      <td>never smoked</td>\n",
       "      <td>1</td>\n",
       "    </tr>\n",
       "  </tbody>\n",
       "</table>\n",
       "</div>"
      ],
      "text/plain": [
       "      id  gender   age  hypertension  heart_disease ever_married  \\\n",
       "0   9046    Male  67.0             0              1          Yes   \n",
       "1  51676  Female  61.0             0              0          Yes   \n",
       "2  31112    Male  80.0             0              1          Yes   \n",
       "3  60182  Female  49.0             0              0          Yes   \n",
       "4   1665  Female  79.0             1              0          Yes   \n",
       "\n",
       "       work_type Residence_type  avg_glucose_level   bmi   smoking_status  \\\n",
       "0        Private          Urban             228.69  36.6  formerly smoked   \n",
       "1  Self-employed          Rural             202.21   NaN     never smoked   \n",
       "2        Private          Rural             105.92  32.5     never smoked   \n",
       "3        Private          Urban             171.23  34.4           smokes   \n",
       "4  Self-employed          Rural             174.12  24.0     never smoked   \n",
       "\n",
       "   stroke  \n",
       "0       1  \n",
       "1       1  \n",
       "2       1  \n",
       "3       1  \n",
       "4       1  "
      ]
     },
     "execution_count": 4,
     "metadata": {},
     "output_type": "execute_result"
    }
   ],
   "source": [
    "data.head(5)"
   ]
  },
  {
   "cell_type": "markdown",
   "id": "b66c3f9e",
   "metadata": {},
   "source": [
    "# Xem số lượng hàng cột của tập dữ liệu"
   ]
  },
  {
   "cell_type": "code",
   "execution_count": 5,
   "id": "e3a7714e",
   "metadata": {},
   "outputs": [
    {
     "name": "stdout",
     "output_type": "stream",
     "text": [
      "5110\n"
     ]
    }
   ],
   "source": [
    "num_rows = len(data)\n",
    "print(num_rows)"
   ]
  },
  {
   "cell_type": "code",
   "execution_count": 6,
   "id": "3693e8e3",
   "metadata": {},
   "outputs": [
    {
     "name": "stdout",
     "output_type": "stream",
     "text": [
      "12\n"
     ]
    }
   ],
   "source": [
    "num_cols = len(data.columns)\n",
    "print(num_cols)"
   ]
  },
  {
   "cell_type": "markdown",
   "id": "75b3fd41",
   "metadata": {},
   "source": [
    "# Làm sạch dữ liệu"
   ]
  },
  {
   "cell_type": "code",
   "execution_count": 7,
   "id": "99eb13c1",
   "metadata": {},
   "outputs": [
    {
     "name": "stdout",
     "output_type": "stream",
     "text": [
      "gender                 0\n",
      "age                    0\n",
      "hypertension           0\n",
      "heart_disease          0\n",
      "ever_married           0\n",
      "work_type              0\n",
      "Residence_type         0\n",
      "avg_glucose_level      0\n",
      "bmi                  201\n",
      "smoking_status         0\n",
      "stroke                 0\n",
      "dtype: int64\n"
     ]
    }
   ],
   "source": [
    "# Bỏ đi cột ID vì không cần thiết\n",
    "stroke = data.drop(\"id\", axis=1)\n",
    "\n",
    "# Chuyển dữ liệu cột bmi sang dạng số để có thể tính toán\n",
    "stroke[\"bmi\"] = pd.to_numeric(stroke[\"bmi\"], errors='coerce')\n",
    "\n",
    "# Kiểm tra lại số null trong bộ dữ liệu\n",
    "print(stroke.isnull().sum())"
   ]
  },
  {
   "cell_type": "markdown",
   "id": "6ca78b57",
   "metadata": {},
   "source": [
    "# Outlier"
   ]
  },
  {
   "cell_type": "code",
   "execution_count": 8,
   "id": "59ac3659",
   "metadata": {},
   "outputs": [],
   "source": [
    "#bmi\n",
    "q3 = data[\"bmi\"].quantile(0.75)\n",
    "q1 = data[\"bmi\"].quantile(0.25)\n",
    "iqr = q3-q1\n",
    "mini = q1-1.5*iqr;maxi = q3+1.5*iqr\n",
    "data = data[(data[\"bmi\"]>=mini) & (data[\"bmi\"]<=maxi)]\n",
    "\n",
    "#avg_glucose_level\n",
    "q3 = data[\"avg_glucose_level\"].quantile(0.75)\n",
    "q1 = data[\"avg_glucose_level\"].quantile(0.25)\n",
    "iqr = q3-q1\n",
    "mini = q1-1.5*iqr;maxi = q3+1.5*iqr\n",
    "data = data[(data[\"avg_glucose_level\"]>=mini) & (data[\"avg_glucose_level\"]<=maxi)]"
   ]
  },
  {
   "cell_type": "markdown",
   "id": "8141f4c6",
   "metadata": {},
   "source": [
    "## Thay thế giá trị null của cột bmi bằng giá trị trung bình của các giá trị thực của cột"
   ]
  },
  {
   "cell_type": "code",
   "execution_count": 9,
   "id": "cf37c231",
   "metadata": {},
   "outputs": [
    {
     "name": "stdout",
     "output_type": "stream",
     "text": [
      "gender               0\n",
      "age                  0\n",
      "hypertension         0\n",
      "heart_disease        0\n",
      "ever_married         0\n",
      "work_type            0\n",
      "Residence_type       0\n",
      "avg_glucose_level    0\n",
      "bmi                  0\n",
      "smoking_status       0\n",
      "stroke               0\n",
      "dtype: int64\n"
     ]
    }
   ],
   "source": [
    "# Tính giá trị trung bình của cột \"bmi\" loại bỏ các giá trị null\n",
    "bmi_median = stroke[\"bmi\"].median(skipna=True)\n",
    "\n",
    "# Thay thế các giá trị null trong cột \"bmi\" bằng giá trị trung bình\n",
    "stroke[\"bmi\"] = stroke[\"bmi\"].fillna(bmi_median)\n",
    "\n",
    "# Kiểm tra lại số null trong bộ dữ liệu\n",
    "print(stroke.isnull().sum())"
   ]
  },
  {
   "cell_type": "code",
   "execution_count": 10,
   "id": "f03cdf58",
   "metadata": {},
   "outputs": [
    {
     "data": {
      "text/plain": [
       "Female    2994\n",
       "Male      2115\n",
       "Other        1\n",
       "Name: gender, dtype: int64"
      ]
     },
     "execution_count": 10,
     "metadata": {},
     "output_type": "execute_result"
    }
   ],
   "source": [
    "# Kiểm tra phân bố của cột \"gender\"\n",
    "gender_counts = stroke[\"gender\"].value_counts()\n",
    "gender_counts"
   ]
  },
  {
   "cell_type": "code",
   "execution_count": 11,
   "id": "2eb31a20",
   "metadata": {},
   "outputs": [],
   "source": [
    "# Loại bỏ các giá trị \"Other\" trong cột \"gender\"\n",
    "stroke = stroke[stroke[\"gender\"] != \"Other\"]"
   ]
  },
  {
   "cell_type": "code",
   "execution_count": 12,
   "id": "e10315dc",
   "metadata": {},
   "outputs": [
    {
     "name": "stdout",
     "output_type": "stream",
     "text": [
      "Work Type Counts:\n",
      "Private          2924\n",
      "Self-employed     819\n",
      "children          687\n",
      "Govt_job          657\n",
      "Never_worked       22\n",
      "Name: work_type, dtype: int64\n",
      "\n",
      "Residence Type Counts:\n",
      "Urban    2596\n",
      "Rural    2513\n",
      "Name: Residence_type, dtype: int64\n",
      "\n",
      "Ever Married Counts:\n",
      "Yes    3353\n",
      "No     1756\n",
      "Name: ever_married, dtype: int64\n",
      "\n",
      "Smoking Status Counts:\n",
      "never smoked       1892\n",
      "Unknown            1544\n",
      "formerly smoked     884\n",
      "smokes              789\n",
      "Name: smoking_status, dtype: int64\n",
      "\n"
     ]
    }
   ],
   "source": [
    "# Kiểm tra cột \"work_type\"\n",
    "work_type_counts = stroke[\"work_type\"].value_counts()\n",
    "\n",
    "# Kiểm tra cột \"Residence_type\"\n",
    "residence_type_counts = stroke[\"Residence_type\"].value_counts()\n",
    "\n",
    "# Kiểm tra cột \"ever_married\"\n",
    "ever_married_counts = stroke[\"ever_married\"].value_counts()\n",
    "\n",
    "# Kiểm tra cột \"smoking_status\"\n",
    "smoking_status_counts = stroke[\"smoking_status\"].value_counts()\n",
    "\n",
    "\n",
    "print(\"Work Type Counts:\")\n",
    "print(work_type_counts)\n",
    "print()\n",
    "\n",
    "print(\"Residence Type Counts:\")\n",
    "print(residence_type_counts)\n",
    "print()\n",
    "\n",
    "print(\"Ever Married Counts:\")\n",
    "print(ever_married_counts)\n",
    "print()\n",
    "\n",
    "print(\"Smoking Status Counts:\")\n",
    "print(smoking_status_counts)\n",
    "print()"
   ]
  },
  {
   "cell_type": "markdown",
   "id": "d67a1e41",
   "metadata": {},
   "source": [
    "## Vì cột smoking có các giá trị unknown nhưng để tiện phân tích ảnh hưởng của hút thuốc đối với tỷ lệ đột quỵ nên ta tiến hành thay thế các giá trị unknown thành giá trị có số lượng nhiều nhất là never smoked"
   ]
  },
  {
   "cell_type": "code",
   "execution_count": 13,
   "id": "e22d8b1e",
   "metadata": {},
   "outputs": [
    {
     "data": {
      "text/html": [
       "<div>\n",
       "<style scoped>\n",
       "    .dataframe tbody tr th:only-of-type {\n",
       "        vertical-align: middle;\n",
       "    }\n",
       "\n",
       "    .dataframe tbody tr th {\n",
       "        vertical-align: top;\n",
       "    }\n",
       "\n",
       "    .dataframe thead th {\n",
       "        text-align: right;\n",
       "    }\n",
       "</style>\n",
       "<table border=\"1\" class=\"dataframe\">\n",
       "  <thead>\n",
       "    <tr style=\"text-align: right;\">\n",
       "      <th></th>\n",
       "      <th>gender</th>\n",
       "      <th>age</th>\n",
       "      <th>hypertension</th>\n",
       "      <th>heart_disease</th>\n",
       "      <th>ever_married</th>\n",
       "      <th>work_type</th>\n",
       "      <th>Residence_type</th>\n",
       "      <th>avg_glucose_level</th>\n",
       "      <th>bmi</th>\n",
       "      <th>smoking_status</th>\n",
       "      <th>stroke</th>\n",
       "    </tr>\n",
       "  </thead>\n",
       "  <tbody>\n",
       "    <tr>\n",
       "      <th>0</th>\n",
       "      <td>Male</td>\n",
       "      <td>67.0</td>\n",
       "      <td>0</td>\n",
       "      <td>1</td>\n",
       "      <td>Yes</td>\n",
       "      <td>Private</td>\n",
       "      <td>Urban</td>\n",
       "      <td>228.69</td>\n",
       "      <td>36.6</td>\n",
       "      <td>formerly smoked</td>\n",
       "      <td>1</td>\n",
       "    </tr>\n",
       "    <tr>\n",
       "      <th>1</th>\n",
       "      <td>Female</td>\n",
       "      <td>61.0</td>\n",
       "      <td>0</td>\n",
       "      <td>0</td>\n",
       "      <td>Yes</td>\n",
       "      <td>Self-employed</td>\n",
       "      <td>Rural</td>\n",
       "      <td>202.21</td>\n",
       "      <td>28.1</td>\n",
       "      <td>never smoked</td>\n",
       "      <td>1</td>\n",
       "    </tr>\n",
       "    <tr>\n",
       "      <th>2</th>\n",
       "      <td>Male</td>\n",
       "      <td>80.0</td>\n",
       "      <td>0</td>\n",
       "      <td>1</td>\n",
       "      <td>Yes</td>\n",
       "      <td>Private</td>\n",
       "      <td>Rural</td>\n",
       "      <td>105.92</td>\n",
       "      <td>32.5</td>\n",
       "      <td>never smoked</td>\n",
       "      <td>1</td>\n",
       "    </tr>\n",
       "    <tr>\n",
       "      <th>3</th>\n",
       "      <td>Female</td>\n",
       "      <td>49.0</td>\n",
       "      <td>0</td>\n",
       "      <td>0</td>\n",
       "      <td>Yes</td>\n",
       "      <td>Private</td>\n",
       "      <td>Urban</td>\n",
       "      <td>171.23</td>\n",
       "      <td>34.4</td>\n",
       "      <td>smokes</td>\n",
       "      <td>1</td>\n",
       "    </tr>\n",
       "    <tr>\n",
       "      <th>4</th>\n",
       "      <td>Female</td>\n",
       "      <td>79.0</td>\n",
       "      <td>1</td>\n",
       "      <td>0</td>\n",
       "      <td>Yes</td>\n",
       "      <td>Self-employed</td>\n",
       "      <td>Rural</td>\n",
       "      <td>174.12</td>\n",
       "      <td>24.0</td>\n",
       "      <td>never smoked</td>\n",
       "      <td>1</td>\n",
       "    </tr>\n",
       "  </tbody>\n",
       "</table>\n",
       "</div>"
      ],
      "text/plain": [
       "   gender   age  hypertension  heart_disease ever_married      work_type  \\\n",
       "0    Male  67.0             0              1          Yes        Private   \n",
       "1  Female  61.0             0              0          Yes  Self-employed   \n",
       "2    Male  80.0             0              1          Yes        Private   \n",
       "3  Female  49.0             0              0          Yes        Private   \n",
       "4  Female  79.0             1              0          Yes  Self-employed   \n",
       "\n",
       "  Residence_type  avg_glucose_level   bmi   smoking_status  stroke  \n",
       "0          Urban             228.69  36.6  formerly smoked       1  \n",
       "1          Rural             202.21  28.1     never smoked       1  \n",
       "2          Rural             105.92  32.5     never smoked       1  \n",
       "3          Urban             171.23  34.4           smokes       1  \n",
       "4          Rural             174.12  24.0     never smoked       1  "
      ]
     },
     "execution_count": 13,
     "metadata": {},
     "output_type": "execute_result"
    }
   ],
   "source": [
    "# Thay thế các giá trị \"Unknown\" trong cột \"smoking_status\" thành \"never smoked\"\n",
    "stroke = stroke.replace({\"smoking_status\": {\"Unknown\": \"never smoked\"}})\n",
    "\n",
    "# Kiểm tra lại bộ dữ liệu\n",
    "stroke.head()"
   ]
  },
  {
   "cell_type": "markdown",
   "id": "13064c3c",
   "metadata": {},
   "source": [
    "## Check lại giá trị NA trong dữ liệu"
   ]
  },
  {
   "cell_type": "code",
   "execution_count": 14,
   "id": "47204435",
   "metadata": {},
   "outputs": [
    {
     "data": {
      "text/plain": [
       "gender               0\n",
       "age                  0\n",
       "hypertension         0\n",
       "heart_disease        0\n",
       "ever_married         0\n",
       "work_type            0\n",
       "Residence_type       0\n",
       "avg_glucose_level    0\n",
       "bmi                  0\n",
       "smoking_status       0\n",
       "stroke               0\n",
       "dtype: int64"
      ]
     },
     "execution_count": 14,
     "metadata": {},
     "output_type": "execute_result"
    }
   ],
   "source": [
    "# Kiểm tra số lượng giá trị NA trong từng cột\n",
    "stroke.isna().sum()"
   ]
  },
  {
   "cell_type": "code",
   "execution_count": 15,
   "id": "670ecb27",
   "metadata": {},
   "outputs": [],
   "source": [
    "stroke1 = stroke.copy()"
   ]
  },
  {
   "cell_type": "code",
   "execution_count": 16,
   "id": "80801fef",
   "metadata": {},
   "outputs": [],
   "source": [
    "import category_encoders as ce\n",
    "\n",
    "# Chuyển các biến phân loại thành biến factor\n",
    "stroke['stroke'] = stroke['stroke'].astype('category')\n",
    "stroke['hypertension'] = stroke['hypertension'].astype('category')\n",
    "stroke['heart_disease'] = stroke['heart_disease'].astype('category')\n",
    "stroke['ever_married'] = stroke['ever_married'].astype('category')\n",
    "stroke['Residence_type'] = stroke['Residence_type'].astype('category')"
   ]
  },
  {
   "cell_type": "code",
   "execution_count": 17,
   "id": "3d94d47f",
   "metadata": {},
   "outputs": [
    {
     "data": {
      "text/html": [
       "<div>\n",
       "<style scoped>\n",
       "    .dataframe tbody tr th:only-of-type {\n",
       "        vertical-align: middle;\n",
       "    }\n",
       "\n",
       "    .dataframe tbody tr th {\n",
       "        vertical-align: top;\n",
       "    }\n",
       "\n",
       "    .dataframe thead th {\n",
       "        text-align: right;\n",
       "    }\n",
       "</style>\n",
       "<table border=\"1\" class=\"dataframe\">\n",
       "  <thead>\n",
       "    <tr style=\"text-align: right;\">\n",
       "      <th></th>\n",
       "      <th>age</th>\n",
       "      <th>hypertension</th>\n",
       "      <th>heart_disease</th>\n",
       "      <th>avg_glucose_level</th>\n",
       "      <th>bmi</th>\n",
       "      <th>stroke</th>\n",
       "      <th>gender_Female</th>\n",
       "      <th>gender_Male</th>\n",
       "      <th>ever_married_No</th>\n",
       "      <th>ever_married_Yes</th>\n",
       "      <th>work_type_Govt_job</th>\n",
       "      <th>work_type_Never_worked</th>\n",
       "      <th>work_type_Private</th>\n",
       "      <th>work_type_Self-employed</th>\n",
       "      <th>work_type_children</th>\n",
       "      <th>Residence_type_Rural</th>\n",
       "      <th>Residence_type_Urban</th>\n",
       "      <th>smoking_status_formerly smoked</th>\n",
       "      <th>smoking_status_never smoked</th>\n",
       "      <th>smoking_status_smokes</th>\n",
       "    </tr>\n",
       "  </thead>\n",
       "  <tbody>\n",
       "    <tr>\n",
       "      <th>0</th>\n",
       "      <td>67</td>\n",
       "      <td>0</td>\n",
       "      <td>1</td>\n",
       "      <td>228</td>\n",
       "      <td>36</td>\n",
       "      <td>1</td>\n",
       "      <td>0</td>\n",
       "      <td>1</td>\n",
       "      <td>0</td>\n",
       "      <td>1</td>\n",
       "      <td>0</td>\n",
       "      <td>0</td>\n",
       "      <td>1</td>\n",
       "      <td>0</td>\n",
       "      <td>0</td>\n",
       "      <td>0</td>\n",
       "      <td>1</td>\n",
       "      <td>1</td>\n",
       "      <td>0</td>\n",
       "      <td>0</td>\n",
       "    </tr>\n",
       "    <tr>\n",
       "      <th>1</th>\n",
       "      <td>61</td>\n",
       "      <td>0</td>\n",
       "      <td>0</td>\n",
       "      <td>202</td>\n",
       "      <td>28</td>\n",
       "      <td>1</td>\n",
       "      <td>1</td>\n",
       "      <td>0</td>\n",
       "      <td>0</td>\n",
       "      <td>1</td>\n",
       "      <td>0</td>\n",
       "      <td>0</td>\n",
       "      <td>0</td>\n",
       "      <td>1</td>\n",
       "      <td>0</td>\n",
       "      <td>1</td>\n",
       "      <td>0</td>\n",
       "      <td>0</td>\n",
       "      <td>1</td>\n",
       "      <td>0</td>\n",
       "    </tr>\n",
       "    <tr>\n",
       "      <th>2</th>\n",
       "      <td>80</td>\n",
       "      <td>0</td>\n",
       "      <td>1</td>\n",
       "      <td>105</td>\n",
       "      <td>32</td>\n",
       "      <td>1</td>\n",
       "      <td>0</td>\n",
       "      <td>1</td>\n",
       "      <td>0</td>\n",
       "      <td>1</td>\n",
       "      <td>0</td>\n",
       "      <td>0</td>\n",
       "      <td>1</td>\n",
       "      <td>0</td>\n",
       "      <td>0</td>\n",
       "      <td>1</td>\n",
       "      <td>0</td>\n",
       "      <td>0</td>\n",
       "      <td>1</td>\n",
       "      <td>0</td>\n",
       "    </tr>\n",
       "    <tr>\n",
       "      <th>3</th>\n",
       "      <td>49</td>\n",
       "      <td>0</td>\n",
       "      <td>0</td>\n",
       "      <td>171</td>\n",
       "      <td>34</td>\n",
       "      <td>1</td>\n",
       "      <td>1</td>\n",
       "      <td>0</td>\n",
       "      <td>0</td>\n",
       "      <td>1</td>\n",
       "      <td>0</td>\n",
       "      <td>0</td>\n",
       "      <td>1</td>\n",
       "      <td>0</td>\n",
       "      <td>0</td>\n",
       "      <td>0</td>\n",
       "      <td>1</td>\n",
       "      <td>0</td>\n",
       "      <td>0</td>\n",
       "      <td>1</td>\n",
       "    </tr>\n",
       "    <tr>\n",
       "      <th>4</th>\n",
       "      <td>79</td>\n",
       "      <td>1</td>\n",
       "      <td>0</td>\n",
       "      <td>174</td>\n",
       "      <td>24</td>\n",
       "      <td>1</td>\n",
       "      <td>1</td>\n",
       "      <td>0</td>\n",
       "      <td>0</td>\n",
       "      <td>1</td>\n",
       "      <td>0</td>\n",
       "      <td>0</td>\n",
       "      <td>0</td>\n",
       "      <td>1</td>\n",
       "      <td>0</td>\n",
       "      <td>1</td>\n",
       "      <td>0</td>\n",
       "      <td>0</td>\n",
       "      <td>1</td>\n",
       "      <td>0</td>\n",
       "    </tr>\n",
       "  </tbody>\n",
       "</table>\n",
       "</div>"
      ],
      "text/plain": [
       "   age  hypertension  heart_disease  avg_glucose_level  bmi  stroke  \\\n",
       "0   67             0              1                228   36       1   \n",
       "1   61             0              0                202   28       1   \n",
       "2   80             0              1                105   32       1   \n",
       "3   49             0              0                171   34       1   \n",
       "4   79             1              0                174   24       1   \n",
       "\n",
       "   gender_Female  gender_Male  ever_married_No  ever_married_Yes  \\\n",
       "0              0            1                0                 1   \n",
       "1              1            0                0                 1   \n",
       "2              0            1                0                 1   \n",
       "3              1            0                0                 1   \n",
       "4              1            0                0                 1   \n",
       "\n",
       "   work_type_Govt_job  work_type_Never_worked  work_type_Private  \\\n",
       "0                   0                       0                  1   \n",
       "1                   0                       0                  0   \n",
       "2                   0                       0                  1   \n",
       "3                   0                       0                  1   \n",
       "4                   0                       0                  0   \n",
       "\n",
       "   work_type_Self-employed  work_type_children  Residence_type_Rural  \\\n",
       "0                        0                   0                     0   \n",
       "1                        1                   0                     1   \n",
       "2                        0                   0                     1   \n",
       "3                        0                   0                     0   \n",
       "4                        1                   0                     1   \n",
       "\n",
       "   Residence_type_Urban  smoking_status_formerly smoked  \\\n",
       "0                     1                               1   \n",
       "1                     0                               0   \n",
       "2                     0                               0   \n",
       "3                     1                               0   \n",
       "4                     0                               0   \n",
       "\n",
       "   smoking_status_never smoked  smoking_status_smokes  \n",
       "0                            0                      0  \n",
       "1                            1                      0  \n",
       "2                            1                      0  \n",
       "3                            0                      1  \n",
       "4                            1                      0  "
      ]
     },
     "execution_count": 17,
     "metadata": {},
     "output_type": "execute_result"
    }
   ],
   "source": [
    "# Tạo các biến giả (dummy) cho các biến đa cấp\n",
    "stroke_dummy = pd.get_dummies(stroke1).astype(int)\n",
    "\n",
    "# Xem đầu của tập dữ liệu mới\n",
    "stroke_dummy.head()"
   ]
  },
  {
   "cell_type": "markdown",
   "id": "04612e4c",
   "metadata": {},
   "source": [
    "## Trực quan hóa dữ liệu (EDA)"
   ]
  },
  {
   "cell_type": "code",
   "execution_count": 911,
   "id": "6bb7c533",
   "metadata": {},
   "outputs": [
    {
     "data": {
      "image/png": "[encoded data removed]",
      "text/plain": [
       "<Figure size 1200x800 with 4 Axes>"
      ]
     },
     "metadata": {},
     "output_type": "display_data"
    }
   ],
   "source": [
    "\n",
    "\n",
    "# Thiết lập màu chung cho tất cả biểu đồ\n",
    "my_color = \"#33FFFF\"\n",
    "\n",
    "# Tạo biểu đồ cho từng biến phân loại\n",
    "fig, axes = plt.subplots(2, 2, figsize=(12, 8))\n",
    "\n",
    "# Gender\n",
    "ax1 = axes[0, 0]\n",
    "sns.countplot(x='gender', data=stroke, ax=ax1, palette=[my_color])\n",
    "ax1.set_title('Gender')\n",
    "\n",
    "# Hypertension\n",
    "ax2 = axes[0, 1]\n",
    "sns.countplot(x='hypertension', data=stroke, ax=ax2, palette=[my_color])\n",
    "ax2.set_title('Hypertension')\n",
    "\n",
    "# Heart disease\n",
    "ax3 = axes[1, 0]\n",
    "sns.countplot(x='heart_disease', data=stroke, ax=ax3, palette=[my_color])\n",
    "ax3.set_title('Heart Disease')\n",
    "\n",
    "# Ever married\n",
    "ax4 = axes[1, 1]\n",
    "sns.countplot(x='ever_married', data=stroke, ax=ax4, palette=[my_color])\n",
    "ax4.set_title('Ever Married')\n",
    "\n",
    "plt.tight_layout()\n",
    "plt.show()"
   ]
  },
  {
   "cell_type": "markdown",
   "id": "899d96f4",
   "metadata": {},
   "source": [
    "### ===> Dựa vào biểu dồ trên, có thể thấy phần lớn trường hợp bệnh nhân không mắc bệnh tim và huyết áp, người đã kết hôn và nữ giới chiếm đa số trong tập dữ liệu."
   ]
  },
  {
   "cell_type": "code",
   "execution_count": 912,
   "id": "93b1ad56",
   "metadata": {},
   "outputs": [
    {
     "data": {
      "image/png": "[encoded data removed]",
      "text/plain": [
       "<Figure size 1200x800 with 4 Axes>"
      ]
     },
     "metadata": {},
     "output_type": "display_data"
    }
   ],
   "source": [
    "# Tạo biểu đồ cho từng biến phân loại\n",
    "fig, axes = plt.subplots(2, 2, figsize=(12, 8))\n",
    "\n",
    "# Work type\n",
    "ax1 = axes[0, 0]\n",
    "sns.countplot(x='work_type', data=stroke, ax=ax1, palette=[my_color])\n",
    "ax1.set_title('Work Type')\n",
    "\n",
    "# Residence type\n",
    "ax2 = axes[0, 1]\n",
    "sns.countplot(x='Residence_type', data=stroke, ax=ax2, palette=[my_color])\n",
    "ax2.set_title('Residence Type')\n",
    "\n",
    "# Smoking status\n",
    "ax3 = axes[1, 0]\n",
    "sns.countplot(x='smoking_status', data=stroke, ax=ax3, palette=[my_color])\n",
    "ax3.set_title('Smoking Status')\n",
    "\n",
    "# Stroke\n",
    "ax4 = axes[1, 1]\n",
    "sns.countplot(x='stroke', data=stroke, ax=ax4, palette=[my_color])\n",
    "ax4.set_title('Stroke')\n",
    "\n",
    "plt.tight_layout()\n",
    "plt.show()"
   ]
  },
  {
   "cell_type": "markdown",
   "id": "1ae14dd0",
   "metadata": {},
   "source": [
    "### ===> Hầu hết các trường hợp trong tập dữ liệu bệnh nhân không bị đột quỵ, công nhân tư nhân và không hút thuốc chiếm đa số, có sự chênh lệch thấp giữa nông thôn và thành thị."
   ]
  },
  {
   "cell_type": "markdown",
   "id": "3eee7a75",
   "metadata": {},
   "source": [
    "### Xem xét phân phối của các biến liên tục"
   ]
  },
  {
   "cell_type": "code",
   "execution_count": 913,
   "id": "2b172228",
   "metadata": {},
   "outputs": [
    {
     "data": {
      "image/png": "[encoded data removed]",
      "text/plain": [
       "<Figure size 1500x500 with 3 Axes>"
      ]
     },
     "metadata": {},
     "output_type": "display_data"
    }
   ],
   "source": [
    "# Tạo biểu đồ histogram cho các biến liên tục\n",
    "fig, axes = plt.subplots(1, 3, figsize=(15, 5))\n",
    "\n",
    "# Age\n",
    "ax1 = axes[0]\n",
    "sns.histplot(data=stroke, x='age', ax=ax1, binwidth=0.5, color='#33CCCC')\n",
    "ax1.set_title('Age')\n",
    "\n",
    "# Average Glucose Level\n",
    "ax2 = axes[1]\n",
    "sns.histplot(data=stroke, x='avg_glucose_level', ax=ax2, binwidth=0.5, color='#33CCCC')\n",
    "ax2.set_title('Average Glucose Level')\n",
    "\n",
    "# BMI\n",
    "ax3 = axes[2]\n",
    "sns.histplot(data=stroke, x='bmi', ax=ax3, binwidth=0.5, color='#33CCCC')\n",
    "ax3.set_title('BMI')\n",
    "\n",
    "plt.tight_layout()\n",
    "plt.show()"
   ]
  },
  {
   "cell_type": "markdown",
   "id": "48460418",
   "metadata": {},
   "source": [
    "### ===> Nhận xét: Tuổi tác có xu hướng lệch phải nhẹ nhưng vẫn phân bố khá đều hơn lượng đường và chỉ số bmi đang có xu hướng lệch trái rõ rệt"
   ]
  },
  {
   "cell_type": "markdown",
   "id": "2297729c",
   "metadata": {},
   "source": [
    "### Tiếp theo ta sẽ kiểm tra mối quan hệ giữa các biến đầu vào và biến kết quả của chúng thông qua boxplot và từ đó đưa ra nhận xét “CÁC YẾU TỐ ẢNH HƯỞNG ĐẾN TỶ LỆ ĐỘT QUỴ VÀ ẢNH HƯỞNG CỦA CHÚNG”.\n"
   ]
  },
  {
   "cell_type": "markdown",
   "id": "cb432ca2",
   "metadata": {},
   "source": [
    "## Đột quỵ với tuổi tác"
   ]
  },
  {
   "cell_type": "code",
   "execution_count": 914,
   "id": "8db98fed",
   "metadata": {},
   "outputs": [
    {
     "data": {
      "image/png": "[encoded data removed]",
      "text/plain": [
       "<Figure size 1500x500 with 3 Axes>"
      ]
     },
     "metadata": {},
     "output_type": "display_data"
    }
   ],
   "source": [
    "# Vẽ biểu đồ hộp cho các biến liên tục và biến lưỡng giá\n",
    "fig, axes = plt.subplots(1, 3, figsize=(15, 5))\n",
    "\n",
    "# Stroke on Age\n",
    "ax1 = axes[0]\n",
    "sns.boxplot(x='stroke', y='age', data=stroke, ax=ax1)\n",
    "ax1.set_title('Stroke on Age')\n",
    "\n",
    "# Stroke on Glucose Level\n",
    "ax2 = axes[1]\n",
    "sns.boxplot(x='stroke', y='avg_glucose_level', data=stroke, ax=ax2)\n",
    "ax2.set_title('Stroke on Glucose Level')\n",
    "\n",
    "# Stroke on BMI\n",
    "ax3 = axes[2]\n",
    "sns.boxplot(x='stroke', y='bmi', data=stroke, ax=ax3)\n",
    "ax3.set_title('Stroke on BMI')\n",
    "\n",
    "plt.tight_layout()\n",
    "plt.show()"
   ]
  },
  {
   "cell_type": "markdown",
   "id": "029b44ce",
   "metadata": {},
   "source": [
    "### ===>Từ những biểu đồ trên, có thể kết luận được những người bị đột quỵ có độ tuổi, lượng đường và chỉ số cơ thể cao hơn so với người không mắc bệnh."
   ]
  },
  {
   "cell_type": "markdown",
   "id": "8a1d7408",
   "metadata": {},
   "source": [
    "### Đột quỵ với loại hình việc làm"
   ]
  },
  {
   "cell_type": "code",
   "execution_count": 915,
   "id": "b9482b99",
   "metadata": {},
   "outputs": [
    {
     "data": {
      "text/plain": [
       "<seaborn.axisgrid.FacetGrid at 0x1d1103ad9d0>"
      ]
     },
     "execution_count": 915,
     "metadata": {},
     "output_type": "execute_result"
    },
    {
     "data": {
      "image/png": "[encoded data removed]",
      "text/plain": [
       "<Figure size 558.875x500 with 1 Axes>"
      ]
     },
     "metadata": {},
     "output_type": "display_data"
    }
   ],
   "source": [
    "sns.catplot(y=\"work_type\", hue=\"stroke\", kind=\"count\",\n",
    "            palette=\"pastel\", edgecolor=\".6\",\n",
    "            data=stroke)"
   ]
  },
  {
   "cell_type": "markdown",
   "id": "0db413ce",
   "metadata": {},
   "source": [
    "### ==> Xét về tỷ lệ, tư nhân và tự kinh doanhn đều có số lượng người bị đột quỵ cao. Tuy nhiên, những người từ chính phủ có khả năng ít bị đột quỵ hơn 2 nhóm trên và trẻ em cũng không có nhiều khả năng bị đột quỵ. Có lẽ điều đó có thể được giải thích do mức độ áp lực của người lao động"
   ]
  },
  {
   "cell_type": "markdown",
   "id": "7db793e8",
   "metadata": {},
   "source": [
    "## Đột quỵ với tình trạng hút thuốc"
   ]
  },
  {
   "cell_type": "code",
   "execution_count": 916,
   "id": "b7ae4fef",
   "metadata": {},
   "outputs": [
    {
     "data": {
      "text/plain": [
       "<seaborn.axisgrid.FacetGrid at 0x1d10acb8290>"
      ]
     },
     "execution_count": 916,
     "metadata": {},
     "output_type": "execute_result"
    },
    {
     "data": {
      "image/png": "[encoded data removed]",
      "text/plain": [
       "<Figure size 558.875x500 with 1 Axes>"
      ]
     },
     "metadata": {},
     "output_type": "display_data"
    }
   ],
   "source": [
    "sns.catplot(y=\"smoking_status\", hue=\"stroke\", kind=\"count\",\n",
    "            palette=\"pastel\", edgecolor=\".6\",\n",
    "            data=stroke)"
   ]
  },
  {
   "cell_type": "markdown",
   "id": "55abee27",
   "metadata": {},
   "source": [
    "### Đáng ngạc nhiên là có vẻ như đột quỵ không có mối tương quan cao với người hút thuốc vì tỷ lệ người bị đột quỵ là khá giống nhau giữa các tình trạng hút thuốc khác nhau."
   ]
  },
  {
   "cell_type": "code",
   "execution_count": 917,
   "id": "f8a1c4fe",
   "metadata": {},
   "outputs": [
    {
     "data": {
      "image/png": "[encoded data removed]",
      "text/plain": [
       "<Figure size 1700x700 with 3 Axes>"
      ]
     },
     "metadata": {},
     "output_type": "display_data"
    }
   ],
   "source": [
    "plt.figure(figsize=(17,7))\n",
    "\n",
    "# Plot 1: Gender vs Stroke\n",
    "ax1 = plt.subplot(1, 3, 1)\n",
    "sns.countplot(x=\"gender\", hue=\"heart_disease\", palette=\"pastel\", data=stroke, ax=ax1)\n",
    "ax1.set_title(\"Stroke by Gender and Heart Disease\")\n",
    "\n",
    "# Plot 2: Gender vs Stroke\n",
    "ax2 = plt.subplot(1, 3, 2)\n",
    "sns.countplot(x=\"gender\", hue=\"Residence_type\", palette=\"pastel\", data=stroke, ax=ax2)\n",
    "ax2.set_title(\"Stroke by Gender and Residence Type\")\n",
    "\n",
    "# Plot 3: Gender vs Stroke\n",
    "ax3 = plt.subplot(1, 3, 3)\n",
    "sns.countplot(x=\"gender\", hue=\"hypertension\", palette=\"pastel\", data=stroke, ax=ax3)\n",
    "ax3.set_title(\"Stroke by Gender and Hypertension\")\n",
    "\n",
    "plt.tight_layout()\n",
    "plt.show()"
   ]
  },
  {
   "cell_type": "markdown",
   "id": "1867856d",
   "metadata": {},
   "source": [
    "### 1. Từ các biểu đồ, chúng ta có thể thấy rằng giới tính không phải là đặc điểm phân biệt một người có bị đột quỵ hay không."
   ]
  },
  {
   "cell_type": "markdown",
   "id": "454d623f",
   "metadata": {},
   "source": [
    "### 2. Các đặc điểm về tăng huyết áp và bệnh tim có liên quan đến đột quỵ như chúng ta mong đợi."
   ]
  },
  {
   "cell_type": "markdown",
   "id": "6c26e7eb",
   "metadata": {},
   "source": [
    "### 3. Người nông thôn (Rural) ít bị đột quỵ hơn người thành thị (Urban) , dường như ô nhiễm có liên quan đến đột quỵ."
   ]
  },
  {
   "cell_type": "markdown",
   "id": "97710bde",
   "metadata": {},
   "source": [
    "## Để có cái nhìn cụ thể hơn về mối tương quan giữa các biến định lượng đầu vào với nhau và giữa các biến đầu vào với đột quỵ và tỷ lệ tương quan của từng biến, ta dùng biểu đồ nhiệt để hiển thị."
   ]
  },
  {
   "cell_type": "code",
   "execution_count": 918,
   "id": "bfa90839",
   "metadata": {},
   "outputs": [
    {
     "data": {
      "image/png": "[encoded data removed]",
      "text/plain": [
       "<Figure size 1000x800 with 2 Axes>"
      ]
     },
     "metadata": {},
     "output_type": "display_data"
    }
   ],
   "source": [
    "# Chuyển dữ liệu trong stroke1 nông thôn thành 0, thành thị là 1\n",
    "stroke1['Residence_type'] = stroke1['Residence_type'].map({'Urban': 0, 'Rural': 1})\n",
    "\n",
    "# Chuyển dữ liệu trong stroke1 đã kết hôn thành 0, đã kết hôn thành 1\n",
    "stroke1['ever_married'] = stroke1['ever_married'].map({'Yes': 1, 'No': 0})\n",
    "\n",
    "# Chuyển dữ liệu trong stroke1 nam: 0, nữ: 1\n",
    "stroke1['gender'] = stroke1['gender'].map({'Male': 0, 'Female': 1})\n",
    "\n",
    "# Tạo bảng đồ tương quan giữa các biến định lượng\n",
    "import matplotlib.pyplot as plt\n",
    "import seaborn as sns\n",
    "\n",
    "stroke_quant = stroke1.select_dtypes(include='number')\n",
    "stroke_cor = stroke_quant.corr().round(2)\n",
    "\n",
    "plt.figure(figsize=(10, 8))\n",
    "sns.heatmap(stroke_cor, annot=True, cmap='RdBu_r', center=0)\n",
    "plt.title('Correlation Matrix')\n",
    "plt.show()"
   ]
  },
  {
   "cell_type": "markdown",
   "id": "ee60fc0f",
   "metadata": {},
   "source": [
    "### ===> Kết luận rằng: có thể thấy từ biểu đồ nhiệt, hầu hết các biến không tương quan với nhau, mối tương quan đáng chú ý duy nhất là giữa tuổi tác và tình trạng hôn nhân. Trong số tất cả các đặc điểm, tuổi tác có hệ số tương quan lớn nhất với đột quỵ.Ta chú ý đến sự tương quan của các biến đối với đột quỵ (stroke) thì độ tuổi có hệ số tương quan lớn nhất (0.25) và residence_type có hệ số tương quan nhỏ nhất(-0.02)."
   ]
  },
  {
   "cell_type": "code",
   "execution_count": 919,
   "id": "0bfe3791",
   "metadata": {},
   "outputs": [
    {
     "name": "stdout",
     "output_type": "stream",
     "text": [
      "Trung bình tuổi của những người bị đột quỵ: 67.73\n"
     ]
    }
   ],
   "source": [
    "# Tính trung bình tuổi của những người bị đột quỵ\n",
    "strokeAge_mean = stroke.loc[stroke['stroke'] == 1, 'age'].mean()\n",
    "print(f\"Trung bình tuổi của những người bị đột quỵ: {strokeAge_mean:.2f}\")"
   ]
  },
  {
   "cell_type": "code",
   "execution_count": 920,
   "id": "40ffc194",
   "metadata": {},
   "outputs": [
    {
     "name": "stdout",
     "output_type": "stream",
     "text": [
      "Độ lệch chuẩn tuổi của những người bị đột quỵ: 12.73\n",
      "Sai số chuẩn tuổi của những người bị đột quỵ: 0.81\n",
      "Phạm vi sai số: ±1.58\n"
     ]
    }
   ],
   "source": [
    "\n",
    "\n",
    "# Tính độ lệch chuẩn\n",
    "strokeAge_std = stroke.loc[stroke['stroke'] == 1, 'age'].std()\n",
    "print(f\"Độ lệch chuẩn tuổi của những người bị đột quỵ: {strokeAge_std:.2f}\")\n",
    "\n",
    "# Độ tin cậy\n",
    "confidence_level = 0.95\n",
    "alpha = 1 - confidence_level\n",
    "z_alpha_2 = norm.ppf(1 - alpha / 2)\n",
    "\n",
    "# Tính sai số chuẩn\n",
    "strokeAge_n = stroke.loc[stroke['stroke'] == 1, 'age'].count()\n",
    "strokeAge_se = strokeAge_std / np.sqrt(strokeAge_n)\n",
    "print(f\"Sai số chuẩn tuổi của những người bị đột quỵ: {strokeAge_se:.2f}\")\n",
    "\n",
    "# Tính phạm vi sai số\n",
    "strokeAge_margin_error = z_alpha_2 * strokeAge_se\n",
    "print(f\"Phạm vi sai số: ±{strokeAge_margin_error:.2f}\")"
   ]
  },
  {
   "cell_type": "markdown",
   "id": "7f4d1940",
   "metadata": {},
   "source": [
    "### ===> Có thể xem độ tuổi trung bình của các bệnh nhân mắc đột quỵ sấp xỉ 68 tuổi và qua xử lý ta có được khoảng tin cậy là [68-1.58;68+1.58]. Vậy người thuộc khoảng trên có nguy cơ đột quỵ cao nhất.\n",
    "\n",
    "### *** Nhận xét: Qua các biểu đồ trực quan hoá, chúng ta sẽ có cái nhìn khách quan về bộ dữ liệu, thông qua đó ta xác định được biến nào có ý nghĩa cao nhất đối với đề tài và biến nào là không cần thiết. không những thế, các biểu đồ còn giúp nhóm đưa ra được kết luận và xác định được hướng đi để trả lời các nghiên cứu tiếp theo, vì dữ liệu rất rộng nếu không trực quan bằng biểu đồ ta không thể tập trung vào các biến có ý nghĩa nhất trong việc giải quyết bài toán."
   ]
  },
  {
   "cell_type": "markdown",
   "id": "6a4a257f",
   "metadata": {},
   "source": [
    "# 1. SVM"
   ]
  },
  {
   "cell_type": "code",
   "execution_count": 921,
   "id": "a264fad3",
   "metadata": {},
   "outputs": [],
   "source": [
    "X = stroke_dummy.drop([\"stroke\"], axis=1)\n",
    "y = stroke_dummy[\"stroke\"]"
   ]
  },
  {
   "cell_type": "code",
   "execution_count": 922,
   "id": "4454d595",
   "metadata": {},
   "outputs": [],
   "source": [
    "from imblearn.over_sampling import SMOTE\n",
    "oversample = SMOTE()\n",
    "X, y = oversample.fit_resample(X, y)"
   ]
  },
  {
   "cell_type": "code",
   "execution_count": 923,
   "id": "7667fdfc",
   "metadata": {},
   "outputs": [],
   "source": [
    "from sklearn.model_selection import train_test_split\n",
    "X_train, X_test, y_train, y_test = train_test_split(X, y, train_size=0.3, random_state=42)"
   ]
  },
  {
   "cell_type": "code",
   "execution_count": 924,
   "id": "dfbcbfe8",
   "metadata": {},
   "outputs": [],
   "source": [
    "from sklearn.preprocessing import StandardScaler\n",
    "sc = StandardScaler()\n",
    "\n",
    "X_train = sc.fit_transform(X_train)\n",
    "X_test = sc.transform(X_test)"
   ]
  },
  {
   "cell_type": "code",
   "execution_count": 925,
   "id": "33f610c9",
   "metadata": {},
   "outputs": [
    {
     "data": {
      "text/html": [
       "<style>#sk-container-id-41 {\n",
       "  /* Definition of color scheme common for light and dark mode */\n",
       "  --sklearn-color-text: black;\n",
       "  --sklearn-color-line: gray;\n",
       "  /* Definition of color scheme for unfitted estimators */\n",
       "  --sklearn-color-unfitted-level-0: #fff5e6;\n",
       "  --sklearn-color-unfitted-level-1: #f6e4d2;\n",
       "  --sklearn-color-unfitted-level-2: #ffe0b3;\n",
       "  --sklearn-color-unfitted-level-3: chocolate;\n",
       "  /* Definition of color scheme for fitted estimators */\n",
       "  --sklearn-color-fitted-level-0: #f0f8ff;\n",
       "  --sklearn-color-fitted-level-1: #d4ebff;\n",
       "  --sklearn-color-fitted-level-2: #b3dbfd;\n",
       "  --sklearn-color-fitted-level-3: cornflowerblue;\n",
       "\n",
       "  /* Specific color for light theme */\n",
       "  --sklearn-color-text-on-default-background: var(--sg-text-color, var(--theme-code-foreground, var(--jp-content-font-color1, black)));\n",
       "  --sklearn-color-background: var(--sg-background-color, var(--theme-background, var(--jp-layout-color0, white)));\n",
       "  --sklearn-color-border-box: var(--sg-text-color, var(--theme-code-foreground, var(--jp-content-font-color1, black)));\n",
       "  --sklearn-color-icon: #696969;\n",
       "\n",
       "  @media (prefers-color-scheme: dark) {\n",
       "    /* Redefinition of color scheme for dark theme */\n",
       "    --sklearn-color-text-on-default-background: var(--sg-text-color, var(--theme-code-foreground, var(--jp-content-font-color1, white)));\n",
       "    --sklearn-color-background: var(--sg-background-color, var(--theme-background, var(--jp-layout-color0, #111)));\n",
       "    --sklearn-color-border-box: var(--sg-text-color, var(--theme-code-foreground, var(--jp-content-font-color1, white)));\n",
       "    --sklearn-color-icon: #878787;\n",
       "  }\n",
       "}\n",
       "\n",
       "#sk-container-id-41 {\n",
       "  color: var(--sklearn-color-text);\n",
       "}\n",
       "\n",
       "#sk-container-id-41 pre {\n",
       "  padding: 0;\n",
       "}\n",
       "\n",
       "#sk-container-id-41 input.sk-hidden--visually {\n",
       "  border: 0;\n",
       "  clip: rect(1px 1px 1px 1px);\n",
       "  clip: rect(1px, 1px, 1px, 1px);\n",
       "  height: 1px;\n",
       "  margin: -1px;\n",
       "  overflow: hidden;\n",
       "  padding: 0;\n",
       "  position: absolute;\n",
       "  width: 1px;\n",
       "}\n",
       "\n",
       "#sk-container-id-41 div.sk-dashed-wrapped {\n",
       "  border: 1px dashed var(--sklearn-color-line);\n",
       "  margin: 0 0.4em 0.5em 0.4em;\n",
       "  box-sizing: border-box;\n",
       "  padding-bottom: 0.4em;\n",
       "  background-color: var(--sklearn-color-background);\n",
       "}\n",
       "\n",
       "#sk-container-id-41 div.sk-container {\n",
       "  /* jupyter's `normalize.less` sets `[hidden] { display: none; }`\n",
       "     but bootstrap.min.css set `[hidden] { display: none !important; }`\n",
       "     so we also need the `!important` here to be able to override the\n",
       "     default hidden behavior on the sphinx rendered scikit-learn.org.\n",
       "     See: https://github.com/scikit-learn/scikit-learn/issues/21755 */\n",
       "  display: inline-block !important;\n",
       "  position: relative;\n",
       "}\n",
       "\n",
       "#sk-container-id-41 div.sk-text-repr-fallback {\n",
       "  display: none;\n",
       "}\n",
       "\n",
       "div.sk-parallel-item,\n",
       "div.sk-serial,\n",
       "div.sk-item {\n",
       "  /* draw centered vertical line to link estimators */\n",
       "  background-image: linear-gradient(var(--sklearn-color-text-on-default-background), var(--sklearn-color-text-on-default-background));\n",
       "  background-size: 2px 100%;\n",
       "  background-repeat: no-repeat;\n",
       "  background-position: center center;\n",
       "}\n",
       "\n",
       "/* Parallel-specific style estimator block */\n",
       "\n",
       "#sk-container-id-41 div.sk-parallel-item::after {\n",
       "  content: \"\";\n",
       "  width: 100%;\n",
       "  border-bottom: 2px solid var(--sklearn-color-text-on-default-background);\n",
       "  flex-grow: 1;\n",
       "}\n",
       "\n",
       "#sk-container-id-41 div.sk-parallel {\n",
       "  display: flex;\n",
       "  align-items: stretch;\n",
       "  justify-content: center;\n",
       "  background-color: var(--sklearn-color-background);\n",
       "  position: relative;\n",
       "}\n",
       "\n",
       "#sk-container-id-41 div.sk-parallel-item {\n",
       "  display: flex;\n",
       "  flex-direction: column;\n",
       "}\n",
       "\n",
       "#sk-container-id-41 div.sk-parallel-item:first-child::after {\n",
       "  align-self: flex-end;\n",
       "  width: 50%;\n",
       "}\n",
       "\n",
       "#sk-container-id-41 div.sk-parallel-item:last-child::after {\n",
       "  align-self: flex-start;\n",
       "  width: 50%;\n",
       "}\n",
       "\n",
       "#sk-container-id-41 div.sk-parallel-item:only-child::after {\n",
       "  width: 0;\n",
       "}\n",
       "\n",
       "/* Serial-specific style estimator block */\n",
       "\n",
       "#sk-container-id-41 div.sk-serial {\n",
       "  display: flex;\n",
       "  flex-direction: column;\n",
       "  align-items: center;\n",
       "  background-color: var(--sklearn-color-background);\n",
       "  padding-right: 1em;\n",
       "  padding-left: 1em;\n",
       "}\n",
       "\n",
       "\n",
       "/* Toggleable style: style used for estimator/Pipeline/ColumnTransformer box that is\n",
       "clickable and can be expanded/collapsed.\n",
       "- Pipeline and ColumnTransformer use this feature and define the default style\n",
       "- Estimators will overwrite some part of the style using the `sk-estimator` class\n",
       "*/\n",
       "\n",
       "/* Pipeline and ColumnTransformer style (default) */\n",
       "\n",
       "#sk-container-id-41 div.sk-toggleable {\n",
       "  /* Default theme specific background. It is overwritten whether we have a\n",
       "  specific estimator or a Pipeline/ColumnTransformer */\n",
       "  background-color: var(--sklearn-color-background);\n",
       "}\n",
       "\n",
       "/* Toggleable label */\n",
       "#sk-container-id-41 label.sk-toggleable__label {\n",
       "  cursor: pointer;\n",
       "  display: block;\n",
       "  width: 100%;\n",
       "  margin-bottom: 0;\n",
       "  padding: 0.5em;\n",
       "  box-sizing: border-box;\n",
       "  text-align: center;\n",
       "}\n",
       "\n",
       "#sk-container-id-41 label.sk-toggleable__label-arrow:before {\n",
       "  /* Arrow on the left of the label */\n",
       "  content: \"▸\";\n",
       "  float: left;\n",
       "  margin-right: 0.25em;\n",
       "  color: var(--sklearn-color-icon);\n",
       "}\n",
       "\n",
       "#sk-container-id-41 label.sk-toggleable__label-arrow:hover:before {\n",
       "  color: var(--sklearn-color-text);\n",
       "}\n",
       "\n",
       "/* Toggleable content - dropdown */\n",
       "\n",
       "#sk-container-id-41 div.sk-toggleable__content {\n",
       "  max-height: 0;\n",
       "  max-width: 0;\n",
       "  overflow: hidden;\n",
       "  text-align: left;\n",
       "  /* unfitted */\n",
       "  background-color: var(--sklearn-color-unfitted-level-0);\n",
       "}\n",
       "\n",
       "#sk-container-id-41 div.sk-toggleable__content.fitted {\n",
       "  /* fitted */\n",
       "  background-color: var(--sklearn-color-fitted-level-0);\n",
       "}\n",
       "\n",
       "#sk-container-id-41 div.sk-toggleable__content pre {\n",
       "  margin: 0.2em;\n",
       "  border-radius: 0.25em;\n",
       "  color: var(--sklearn-color-text);\n",
       "  /* unfitted */\n",
       "  background-color: var(--sklearn-color-unfitted-level-0);\n",
       "}\n",
       "\n",
       "#sk-container-id-41 div.sk-toggleable__content.fitted pre {\n",
       "  /* unfitted */\n",
       "  background-color: var(--sklearn-color-fitted-level-0);\n",
       "}\n",
       "\n",
       "#sk-container-id-41 input.sk-toggleable__control:checked~div.sk-toggleable__content {\n",
       "  /* Expand drop-down */\n",
       "  max-height: 200px;\n",
       "  max-width: 100%;\n",
       "  overflow: auto;\n",
       "}\n",
       "\n",
       "#sk-container-id-41 input.sk-toggleable__control:checked~label.sk-toggleable__label-arrow:before {\n",
       "  content: \"▾\";\n",
       "}\n",
       "\n",
       "/* Pipeline/ColumnTransformer-specific style */\n",
       "\n",
       "#sk-container-id-41 div.sk-label input.sk-toggleable__control:checked~label.sk-toggleable__label {\n",
       "  color: var(--sklearn-color-text);\n",
       "  background-color: var(--sklearn-color-unfitted-level-2);\n",
       "}\n",
       "\n",
       "#sk-container-id-41 div.sk-label.fitted input.sk-toggleable__control:checked~label.sk-toggleable__label {\n",
       "  background-color: var(--sklearn-color-fitted-level-2);\n",
       "}\n",
       "\n",
       "/* Estimator-specific style */\n",
       "\n",
       "/* Colorize estimator box */\n",
       "#sk-container-id-41 div.sk-estimator input.sk-toggleable__control:checked~label.sk-toggleable__label {\n",
       "  /* unfitted */\n",
       "  background-color: var(--sklearn-color-unfitted-level-2);\n",
       "}\n",
       "\n",
       "#sk-container-id-41 div.sk-estimator.fitted input.sk-toggleable__control:checked~label.sk-toggleable__label {\n",
       "  /* fitted */\n",
       "  background-color: var(--sklearn-color-fitted-level-2);\n",
       "}\n",
       "\n",
       "#sk-container-id-41 div.sk-label label.sk-toggleable__label,\n",
       "#sk-container-id-41 div.sk-label label {\n",
       "  /* The background is the default theme color */\n",
       "  color: var(--sklearn-color-text-on-default-background);\n",
       "}\n",
       "\n",
       "/* On hover, darken the color of the background */\n",
       "#sk-container-id-41 div.sk-label:hover label.sk-toggleable__label {\n",
       "  color: var(--sklearn-color-text);\n",
       "  background-color: var(--sklearn-color-unfitted-level-2);\n",
       "}\n",
       "\n",
       "/* Label box, darken color on hover, fitted */\n",
       "#sk-container-id-41 div.sk-label.fitted:hover label.sk-toggleable__label.fitted {\n",
       "  color: var(--sklearn-color-text);\n",
       "  background-color: var(--sklearn-color-fitted-level-2);\n",
       "}\n",
       "\n",
       "/* Estimator label */\n",
       "\n",
       "#sk-container-id-41 div.sk-label label {\n",
       "  font-family: monospace;\n",
       "  font-weight: bold;\n",
       "  display: inline-block;\n",
       "  line-height: 1.2em;\n",
       "}\n",
       "\n",
       "#sk-container-id-41 div.sk-label-container {\n",
       "  text-align: center;\n",
       "}\n",
       "\n",
       "/* Estimator-specific */\n",
       "#sk-container-id-41 div.sk-estimator {\n",
       "  font-family: monospace;\n",
       "  border: 1px dotted var(--sklearn-color-border-box);\n",
       "  border-radius: 0.25em;\n",
       "  box-sizing: border-box;\n",
       "  margin-bottom: 0.5em;\n",
       "  /* unfitted */\n",
       "  background-color: var(--sklearn-color-unfitted-level-0);\n",
       "}\n",
       "\n",
       "#sk-container-id-41 div.sk-estimator.fitted {\n",
       "  /* fitted */\n",
       "  background-color: var(--sklearn-color-fitted-level-0);\n",
       "}\n",
       "\n",
       "/* on hover */\n",
       "#sk-container-id-41 div.sk-estimator:hover {\n",
       "  /* unfitted */\n",
       "  background-color: var(--sklearn-color-unfitted-level-2);\n",
       "}\n",
       "\n",
       "#sk-container-id-41 div.sk-estimator.fitted:hover {\n",
       "  /* fitted */\n",
       "  background-color: var(--sklearn-color-fitted-level-2);\n",
       "}\n",
       "\n",
       "/* Specification for estimator info (e.g. \"i\" and \"?\") */\n",
       "\n",
       "/* Common style for \"i\" and \"?\" */\n",
       "\n",
       ".sk-estimator-doc-link,\n",
       "a:link.sk-estimator-doc-link,\n",
       "a:visited.sk-estimator-doc-link {\n",
       "  float: right;\n",
       "  font-size: smaller;\n",
       "  line-height: 1em;\n",
       "  font-family: monospace;\n",
       "  background-color: var(--sklearn-color-background);\n",
       "  border-radius: 1em;\n",
       "  height: 1em;\n",
       "  width: 1em;\n",
       "  text-decoration: none !important;\n",
       "  margin-left: 1ex;\n",
       "  /* unfitted */\n",
       "  border: var(--sklearn-color-unfitted-level-1) 1pt solid;\n",
       "  color: var(--sklearn-color-unfitted-level-1);\n",
       "}\n",
       "\n",
       ".sk-estimator-doc-link.fitted,\n",
       "a:link.sk-estimator-doc-link.fitted,\n",
       "a:visited.sk-estimator-doc-link.fitted {\n",
       "  /* fitted */\n",
       "  border: var(--sklearn-color-fitted-level-1) 1pt solid;\n",
       "  color: var(--sklearn-color-fitted-level-1);\n",
       "}\n",
       "\n",
       "/* On hover */\n",
       "div.sk-estimator:hover .sk-estimator-doc-link:hover,\n",
       ".sk-estimator-doc-link:hover,\n",
       "div.sk-label-container:hover .sk-estimator-doc-link:hover,\n",
       ".sk-estimator-doc-link:hover {\n",
       "  /* unfitted */\n",
       "  background-color: var(--sklearn-color-unfitted-level-3);\n",
       "  color: var(--sklearn-color-background);\n",
       "  text-decoration: none;\n",
       "}\n",
       "\n",
       "div.sk-estimator.fitted:hover .sk-estimator-doc-link.fitted:hover,\n",
       ".sk-estimator-doc-link.fitted:hover,\n",
       "div.sk-label-container:hover .sk-estimator-doc-link.fitted:hover,\n",
       ".sk-estimator-doc-link.fitted:hover {\n",
       "  /* fitted */\n",
       "  background-color: var(--sklearn-color-fitted-level-3);\n",
       "  color: var(--sklearn-color-background);\n",
       "  text-decoration: none;\n",
       "}\n",
       "\n",
       "/* Span, style for the box shown on hovering the info icon */\n",
       ".sk-estimator-doc-link span {\n",
       "  display: none;\n",
       "  z-index: 9999;\n",
       "  position: relative;\n",
       "  font-weight: normal;\n",
       "  right: .2ex;\n",
       "  padding: .5ex;\n",
       "  margin: .5ex;\n",
       "  width: min-content;\n",
       "  min-width: 20ex;\n",
       "  max-width: 50ex;\n",
       "  color: var(--sklearn-color-text);\n",
       "  box-shadow: 2pt 2pt 4pt #999;\n",
       "  /* unfitted */\n",
       "  background: var(--sklearn-color-unfitted-level-0);\n",
       "  border: .5pt solid var(--sklearn-color-unfitted-level-3);\n",
       "}\n",
       "\n",
       ".sk-estimator-doc-link.fitted span {\n",
       "  /* fitted */\n",
       "  background: var(--sklearn-color-fitted-level-0);\n",
       "  border: var(--sklearn-color-fitted-level-3);\n",
       "}\n",
       "\n",
       ".sk-estimator-doc-link:hover span {\n",
       "  display: block;\n",
       "}\n",
       "\n",
       "/* \"?\"-specific style due to the `<a>` HTML tag */\n",
       "\n",
       "#sk-container-id-41 a.estimator_doc_link {\n",
       "  float: right;\n",
       "  font-size: 1rem;\n",
       "  line-height: 1em;\n",
       "  font-family: monospace;\n",
       "  background-color: var(--sklearn-color-background);\n",
       "  border-radius: 1rem;\n",
       "  height: 1rem;\n",
       "  width: 1rem;\n",
       "  text-decoration: none;\n",
       "  /* unfitted */\n",
       "  color: var(--sklearn-color-unfitted-level-1);\n",
       "  border: var(--sklearn-color-unfitted-level-1) 1pt solid;\n",
       "}\n",
       "\n",
       "#sk-container-id-41 a.estimator_doc_link.fitted {\n",
       "  /* fitted */\n",
       "  border: var(--sklearn-color-fitted-level-1) 1pt solid;\n",
       "  color: var(--sklearn-color-fitted-level-1);\n",
       "}\n",
       "\n",
       "/* On hover */\n",
       "#sk-container-id-41 a.estimator_doc_link:hover {\n",
       "  /* unfitted */\n",
       "  background-color: var(--sklearn-color-unfitted-level-3);\n",
       "  color: var(--sklearn-color-background);\n",
       "  text-decoration: none;\n",
       "}\n",
       "\n",
       "#sk-container-id-41 a.estimator_doc_link.fitted:hover {\n",
       "  /* fitted */\n",
       "  background-color: var(--sklearn-color-fitted-level-3);\n",
       "}\n",
       "</style><div id=\"sk-container-id-41\" class=\"sk-top-container\"><div class=\"sk-text-repr-fallback\"><pre>SVC()</pre><b>In a Jupyter environment, please rerun this cell to show the HTML representation or trust the notebook. <br />On GitHub, the HTML representation is unable to render, please try loading this page with nbviewer.org.</b></div><div class=\"sk-container\" hidden><div class=\"sk-item\"><div class=\"sk-estimator fitted sk-toggleable\"><input class=\"sk-toggleable__control sk-hidden--visually\" id=\"sk-estimator-id-41\" type=\"checkbox\" checked><label for=\"sk-estimator-id-41\" class=\"sk-toggleable__label fitted sk-toggleable__label-arrow fitted\">&nbsp;&nbsp;SVC<a class=\"sk-estimator-doc-link fitted\" rel=\"noreferrer\" target=\"_blank\" href=\"https://scikit-learn.org/1.4/modules/generated/sklearn.svm.SVC.html\">?<span>Documentation for SVC</span></a><span class=\"sk-estimator-doc-link fitted\">i<span>Fitted</span></span></label><div class=\"sk-toggleable__content fitted\"><pre>SVC()</pre></div> </div></div></div></div>"
      ],
      "text/plain": [
       "SVC()"
      ]
     },
     "execution_count": 925,
     "metadata": {},
     "output_type": "execute_result"
    }
   ],
   "source": [
    "from sklearn.svm import SVC\n",
    "model = SVC()\n",
    "model.fit(X_train,y_train)"
   ]
  },
  {
   "cell_type": "code",
   "execution_count": 926,
   "id": "11cd204c",
   "metadata": {},
   "outputs": [],
   "source": [
    "svc_pred = model.predict(X_test)"
   ]
  },
  {
   "cell_type": "code",
   "execution_count": 927,
   "id": "eada896c",
   "metadata": {},
   "outputs": [
    {
     "name": "stdout",
     "output_type": "stream",
     "text": [
      "      Metric     Score\n",
      "0   Accuracy  0.952234\n",
      "1  Precision  0.995466\n",
      "2     Recall  0.908124\n",
      "3   F1 Score  0.949791\n"
     ]
    }
   ],
   "source": [
    "from sklearn.metrics import accuracy_score, precision_score, recall_score, f1_score\n",
    "\n",
    "svc_accuracy = accuracy_score(y_test, svc_pred)\n",
    "svc_precision = precision_score(y_test, svc_pred)\n",
    "svc_recall = recall_score(y_test, svc_pred)\n",
    "svc_f1 = f1_score(y_test, svc_pred)\n",
    "\n",
    "results = pd.DataFrame({\n",
    "    'Metric': ['Accuracy', 'Precision', 'Recall', 'F1 Score'],\n",
    "    'Score': [svc_accuracy, svc_precision, svc_recall, svc_f1]\n",
    "})\n",
    "\n",
    "print(results)"
   ]
  },
  {
   "cell_type": "markdown",
   "id": "1349b9b3",
   "metadata": {},
   "source": [
    "## 2. Random Forest"
   ]
  },
  {
   "cell_type": "markdown",
   "id": "0ec8725e",
   "metadata": {},
   "source": [
    "### Import thư viện"
   ]
  },
  {
   "cell_type": "code",
   "execution_count": 928,
   "id": "cad633f9",
   "metadata": {},
   "outputs": [],
   "source": [
    "from sklearn.model_selection import train_test_split\n",
    "from sklearn.ensemble import RandomForestClassifier\n",
    "\n",
    "from sklearn.metrics import accuracy_score, precision_score, recall_score, f1_score"
   ]
  },
  {
   "cell_type": "markdown",
   "id": "18e792d5",
   "metadata": {},
   "source": [
    "### Chọn nhãn, biến mục tiêu và chia tập train - test"
   ]
  },
  {
   "cell_type": "code",
   "execution_count": 929,
   "id": "02e72dfa",
   "metadata": {},
   "outputs": [],
   "source": [
    "X = stroke_dummy.drop(columns=['stroke'])  # Features\n",
    "y = stroke_dummy['stroke']  # Target variable\n",
    "\n",
    "# Split the data for train and test\n",
    "X_train, X_test, y_train, y_test = train_test_split(X, y, train_size = 0.75 , random_state = 123)"
   ]
  },
  {
   "cell_type": "code",
   "execution_count": 930,
   "id": "e7e92340",
   "metadata": {},
   "outputs": [
    {
     "data": {
      "text/plain": [
       "stroke\n",
       "0    1220\n",
       "1      58\n",
       "Name: count, dtype: int64"
      ]
     },
     "execution_count": 930,
     "metadata": {},
     "output_type": "execute_result"
    }
   ],
   "source": [
    "y_test.value_counts()"
   ]
  },
  {
   "cell_type": "code",
   "execution_count": 931,
   "id": "4bd42cd4",
   "metadata": {},
   "outputs": [
    {
     "data": {
      "text/plain": [
       "Index(['age', 'hypertension', 'heart_disease', 'avg_glucose_level', 'bmi',\n",
       "       'gender_Female', 'gender_Male', 'ever_married_No', 'ever_married_Yes',\n",
       "       'work_type_Govt_job', 'work_type_Never_worked', 'work_type_Private',\n",
       "       'work_type_Self-employed', 'work_type_children', 'Residence_type_Rural',\n",
       "       'Residence_type_Urban', 'smoking_status_formerly smoked',\n",
       "       'smoking_status_never smoked', 'smoking_status_smokes'],\n",
       "      dtype='object')"
      ]
     },
     "execution_count": 931,
     "metadata": {},
     "output_type": "execute_result"
    }
   ],
   "source": [
    "X_train.columns"
   ]
  },
  {
   "cell_type": "markdown",
   "id": "bd42c8d2",
   "metadata": {},
   "source": [
    "### Áp dụng mô hình Random Forest"
   ]
  },
  {
   "cell_type": "code",
   "execution_count": 932,
   "id": "8defa09c",
   "metadata": {},
   "outputs": [
    {
     "data": {
      "text/html": [
       "<style>#sk-container-id-42 {\n",
       "  /* Definition of color scheme common for light and dark mode */\n",
       "  --sklearn-color-text: black;\n",
       "  --sklearn-color-line: gray;\n",
       "  /* Definition of color scheme for unfitted estimators */\n",
       "  --sklearn-color-unfitted-level-0: #fff5e6;\n",
       "  --sklearn-color-unfitted-level-1: #f6e4d2;\n",
       "  --sklearn-color-unfitted-level-2: #ffe0b3;\n",
       "  --sklearn-color-unfitted-level-3: chocolate;\n",
       "  /* Definition of color scheme for fitted estimators */\n",
       "  --sklearn-color-fitted-level-0: #f0f8ff;\n",
       "  --sklearn-color-fitted-level-1: #d4ebff;\n",
       "  --sklearn-color-fitted-level-2: #b3dbfd;\n",
       "  --sklearn-color-fitted-level-3: cornflowerblue;\n",
       "\n",
       "  /* Specific color for light theme */\n",
       "  --sklearn-color-text-on-default-background: var(--sg-text-color, var(--theme-code-foreground, var(--jp-content-font-color1, black)));\n",
       "  --sklearn-color-background: var(--sg-background-color, var(--theme-background, var(--jp-layout-color0, white)));\n",
       "  --sklearn-color-border-box: var(--sg-text-color, var(--theme-code-foreground, var(--jp-content-font-color1, black)));\n",
       "  --sklearn-color-icon: #696969;\n",
       "\n",
       "  @media (prefers-color-scheme: dark) {\n",
       "    /* Redefinition of color scheme for dark theme */\n",
       "    --sklearn-color-text-on-default-background: var(--sg-text-color, var(--theme-code-foreground, var(--jp-content-font-color1, white)));\n",
       "    --sklearn-color-background: var(--sg-background-color, var(--theme-background, var(--jp-layout-color0, #111)));\n",
       "    --sklearn-color-border-box: var(--sg-text-color, var(--theme-code-foreground, var(--jp-content-font-color1, white)));\n",
       "    --sklearn-color-icon: #878787;\n",
       "  }\n",
       "}\n",
       "\n",
       "#sk-container-id-42 {\n",
       "  color: var(--sklearn-color-text);\n",
       "}\n",
       "\n",
       "#sk-container-id-42 pre {\n",
       "  padding: 0;\n",
       "}\n",
       "\n",
       "#sk-container-id-42 input.sk-hidden--visually {\n",
       "  border: 0;\n",
       "  clip: rect(1px 1px 1px 1px);\n",
       "  clip: rect(1px, 1px, 1px, 1px);\n",
       "  height: 1px;\n",
       "  margin: -1px;\n",
       "  overflow: hidden;\n",
       "  padding: 0;\n",
       "  position: absolute;\n",
       "  width: 1px;\n",
       "}\n",
       "\n",
       "#sk-container-id-42 div.sk-dashed-wrapped {\n",
       "  border: 1px dashed var(--sklearn-color-line);\n",
       "  margin: 0 0.4em 0.5em 0.4em;\n",
       "  box-sizing: border-box;\n",
       "  padding-bottom: 0.4em;\n",
       "  background-color: var(--sklearn-color-background);\n",
       "}\n",
       "\n",
       "#sk-container-id-42 div.sk-container {\n",
       "  /* jupyter's `normalize.less` sets `[hidden] { display: none; }`\n",
       "     but bootstrap.min.css set `[hidden] { display: none !important; }`\n",
       "     so we also need the `!important` here to be able to override the\n",
       "     default hidden behavior on the sphinx rendered scikit-learn.org.\n",
       "     See: https://github.com/scikit-learn/scikit-learn/issues/21755 */\n",
       "  display: inline-block !important;\n",
       "  position: relative;\n",
       "}\n",
       "\n",
       "#sk-container-id-42 div.sk-text-repr-fallback {\n",
       "  display: none;\n",
       "}\n",
       "\n",
       "div.sk-parallel-item,\n",
       "div.sk-serial,\n",
       "div.sk-item {\n",
       "  /* draw centered vertical line to link estimators */\n",
       "  background-image: linear-gradient(var(--sklearn-color-text-on-default-background), var(--sklearn-color-text-on-default-background));\n",
       "  background-size: 2px 100%;\n",
       "  background-repeat: no-repeat;\n",
       "  background-position: center center;\n",
       "}\n",
       "\n",
       "/* Parallel-specific style estimator block */\n",
       "\n",
       "#sk-container-id-42 div.sk-parallel-item::after {\n",
       "  content: \"\";\n",
       "  width: 100%;\n",
       "  border-bottom: 2px solid var(--sklearn-color-text-on-default-background);\n",
       "  flex-grow: 1;\n",
       "}\n",
       "\n",
       "#sk-container-id-42 div.sk-parallel {\n",
       "  display: flex;\n",
       "  align-items: stretch;\n",
       "  justify-content: center;\n",
       "  background-color: var(--sklearn-color-background);\n",
       "  position: relative;\n",
       "}\n",
       "\n",
       "#sk-container-id-42 div.sk-parallel-item {\n",
       "  display: flex;\n",
       "  flex-direction: column;\n",
       "}\n",
       "\n",
       "#sk-container-id-42 div.sk-parallel-item:first-child::after {\n",
       "  align-self: flex-end;\n",
       "  width: 50%;\n",
       "}\n",
       "\n",
       "#sk-container-id-42 div.sk-parallel-item:last-child::after {\n",
       "  align-self: flex-start;\n",
       "  width: 50%;\n",
       "}\n",
       "\n",
       "#sk-container-id-42 div.sk-parallel-item:only-child::after {\n",
       "  width: 0;\n",
       "}\n",
       "\n",
       "/* Serial-specific style estimator block */\n",
       "\n",
       "#sk-container-id-42 div.sk-serial {\n",
       "  display: flex;\n",
       "  flex-direction: column;\n",
       "  align-items: center;\n",
       "  background-color: var(--sklearn-color-background);\n",
       "  padding-right: 1em;\n",
       "  padding-left: 1em;\n",
       "}\n",
       "\n",
       "\n",
       "/* Toggleable style: style used for estimator/Pipeline/ColumnTransformer box that is\n",
       "clickable and can be expanded/collapsed.\n",
       "- Pipeline and ColumnTransformer use this feature and define the default style\n",
       "- Estimators will overwrite some part of the style using the `sk-estimator` class\n",
       "*/\n",
       "\n",
       "/* Pipeline and ColumnTransformer style (default) */\n",
       "\n",
       "#sk-container-id-42 div.sk-toggleable {\n",
       "  /* Default theme specific background. It is overwritten whether we have a\n",
       "  specific estimator or a Pipeline/ColumnTransformer */\n",
       "  background-color: var(--sklearn-color-background);\n",
       "}\n",
       "\n",
       "/* Toggleable label */\n",
       "#sk-container-id-42 label.sk-toggleable__label {\n",
       "  cursor: pointer;\n",
       "  display: block;\n",
       "  width: 100%;\n",
       "  margin-bottom: 0;\n",
       "  padding: 0.5em;\n",
       "  box-sizing: border-box;\n",
       "  text-align: center;\n",
       "}\n",
       "\n",
       "#sk-container-id-42 label.sk-toggleable__label-arrow:before {\n",
       "  /* Arrow on the left of the label */\n",
       "  content: \"▸\";\n",
       "  float: left;\n",
       "  margin-right: 0.25em;\n",
       "  color: var(--sklearn-color-icon);\n",
       "}\n",
       "\n",
       "#sk-container-id-42 label.sk-toggleable__label-arrow:hover:before {\n",
       "  color: var(--sklearn-color-text);\n",
       "}\n",
       "\n",
       "/* Toggleable content - dropdown */\n",
       "\n",
       "#sk-container-id-42 div.sk-toggleable__content {\n",
       "  max-height: 0;\n",
       "  max-width: 0;\n",
       "  overflow: hidden;\n",
       "  text-align: left;\n",
       "  /* unfitted */\n",
       "  background-color: var(--sklearn-color-unfitted-level-0);\n",
       "}\n",
       "\n",
       "#sk-container-id-42 div.sk-toggleable__content.fitted {\n",
       "  /* fitted */\n",
       "  background-color: var(--sklearn-color-fitted-level-0);\n",
       "}\n",
       "\n",
       "#sk-container-id-42 div.sk-toggleable__content pre {\n",
       "  margin: 0.2em;\n",
       "  border-radius: 0.25em;\n",
       "  color: var(--sklearn-color-text);\n",
       "  /* unfitted */\n",
       "  background-color: var(--sklearn-color-unfitted-level-0);\n",
       "}\n",
       "\n",
       "#sk-container-id-42 div.sk-toggleable__content.fitted pre {\n",
       "  /* unfitted */\n",
       "  background-color: var(--sklearn-color-fitted-level-0);\n",
       "}\n",
       "\n",
       "#sk-container-id-42 input.sk-toggleable__control:checked~div.sk-toggleable__content {\n",
       "  /* Expand drop-down */\n",
       "  max-height: 200px;\n",
       "  max-width: 100%;\n",
       "  overflow: auto;\n",
       "}\n",
       "\n",
       "#sk-container-id-42 input.sk-toggleable__control:checked~label.sk-toggleable__label-arrow:before {\n",
       "  content: \"▾\";\n",
       "}\n",
       "\n",
       "/* Pipeline/ColumnTransformer-specific style */\n",
       "\n",
       "#sk-container-id-42 div.sk-label input.sk-toggleable__control:checked~label.sk-toggleable__label {\n",
       "  color: var(--sklearn-color-text);\n",
       "  background-color: var(--sklearn-color-unfitted-level-2);\n",
       "}\n",
       "\n",
       "#sk-container-id-42 div.sk-label.fitted input.sk-toggleable__control:checked~label.sk-toggleable__label {\n",
       "  background-color: var(--sklearn-color-fitted-level-2);\n",
       "}\n",
       "\n",
       "/* Estimator-specific style */\n",
       "\n",
       "/* Colorize estimator box */\n",
       "#sk-container-id-42 div.sk-estimator input.sk-toggleable__control:checked~label.sk-toggleable__label {\n",
       "  /* unfitted */\n",
       "  background-color: var(--sklearn-color-unfitted-level-2);\n",
       "}\n",
       "\n",
       "#sk-container-id-42 div.sk-estimator.fitted input.sk-toggleable__control:checked~label.sk-toggleable__label {\n",
       "  /* fitted */\n",
       "  background-color: var(--sklearn-color-fitted-level-2);\n",
       "}\n",
       "\n",
       "#sk-container-id-42 div.sk-label label.sk-toggleable__label,\n",
       "#sk-container-id-42 div.sk-label label {\n",
       "  /* The background is the default theme color */\n",
       "  color: var(--sklearn-color-text-on-default-background);\n",
       "}\n",
       "\n",
       "/* On hover, darken the color of the background */\n",
       "#sk-container-id-42 div.sk-label:hover label.sk-toggleable__label {\n",
       "  color: var(--sklearn-color-text);\n",
       "  background-color: var(--sklearn-color-unfitted-level-2);\n",
       "}\n",
       "\n",
       "/* Label box, darken color on hover, fitted */\n",
       "#sk-container-id-42 div.sk-label.fitted:hover label.sk-toggleable__label.fitted {\n",
       "  color: var(--sklearn-color-text);\n",
       "  background-color: var(--sklearn-color-fitted-level-2);\n",
       "}\n",
       "\n",
       "/* Estimator label */\n",
       "\n",
       "#sk-container-id-42 div.sk-label label {\n",
       "  font-family: monospace;\n",
       "  font-weight: bold;\n",
       "  display: inline-block;\n",
       "  line-height: 1.2em;\n",
       "}\n",
       "\n",
       "#sk-container-id-42 div.sk-label-container {\n",
       "  text-align: center;\n",
       "}\n",
       "\n",
       "/* Estimator-specific */\n",
       "#sk-container-id-42 div.sk-estimator {\n",
       "  font-family: monospace;\n",
       "  border: 1px dotted var(--sklearn-color-border-box);\n",
       "  border-radius: 0.25em;\n",
       "  box-sizing: border-box;\n",
       "  margin-bottom: 0.5em;\n",
       "  /* unfitted */\n",
       "  background-color: var(--sklearn-color-unfitted-level-0);\n",
       "}\n",
       "\n",
       "#sk-container-id-42 div.sk-estimator.fitted {\n",
       "  /* fitted */\n",
       "  background-color: var(--sklearn-color-fitted-level-0);\n",
       "}\n",
       "\n",
       "/* on hover */\n",
       "#sk-container-id-42 div.sk-estimator:hover {\n",
       "  /* unfitted */\n",
       "  background-color: var(--sklearn-color-unfitted-level-2);\n",
       "}\n",
       "\n",
       "#sk-container-id-42 div.sk-estimator.fitted:hover {\n",
       "  /* fitted */\n",
       "  background-color: var(--sklearn-color-fitted-level-2);\n",
       "}\n",
       "\n",
       "/* Specification for estimator info (e.g. \"i\" and \"?\") */\n",
       "\n",
       "/* Common style for \"i\" and \"?\" */\n",
       "\n",
       ".sk-estimator-doc-link,\n",
       "a:link.sk-estimator-doc-link,\n",
       "a:visited.sk-estimator-doc-link {\n",
       "  float: right;\n",
       "  font-size: smaller;\n",
       "  line-height: 1em;\n",
       "  font-family: monospace;\n",
       "  background-color: var(--sklearn-color-background);\n",
       "  border-radius: 1em;\n",
       "  height: 1em;\n",
       "  width: 1em;\n",
       "  text-decoration: none !important;\n",
       "  margin-left: 1ex;\n",
       "  /* unfitted */\n",
       "  border: var(--sklearn-color-unfitted-level-1) 1pt solid;\n",
       "  color: var(--sklearn-color-unfitted-level-1);\n",
       "}\n",
       "\n",
       ".sk-estimator-doc-link.fitted,\n",
       "a:link.sk-estimator-doc-link.fitted,\n",
       "a:visited.sk-estimator-doc-link.fitted {\n",
       "  /* fitted */\n",
       "  border: var(--sklearn-color-fitted-level-1) 1pt solid;\n",
       "  color: var(--sklearn-color-fitted-level-1);\n",
       "}\n",
       "\n",
       "/* On hover */\n",
       "div.sk-estimator:hover .sk-estimator-doc-link:hover,\n",
       ".sk-estimator-doc-link:hover,\n",
       "div.sk-label-container:hover .sk-estimator-doc-link:hover,\n",
       ".sk-estimator-doc-link:hover {\n",
       "  /* unfitted */\n",
       "  background-color: var(--sklearn-color-unfitted-level-3);\n",
       "  color: var(--sklearn-color-background);\n",
       "  text-decoration: none;\n",
       "}\n",
       "\n",
       "div.sk-estimator.fitted:hover .sk-estimator-doc-link.fitted:hover,\n",
       ".sk-estimator-doc-link.fitted:hover,\n",
       "div.sk-label-container:hover .sk-estimator-doc-link.fitted:hover,\n",
       ".sk-estimator-doc-link.fitted:hover {\n",
       "  /* fitted */\n",
       "  background-color: var(--sklearn-color-fitted-level-3);\n",
       "  color: var(--sklearn-color-background);\n",
       "  text-decoration: none;\n",
       "}\n",
       "\n",
       "/* Span, style for the box shown on hovering the info icon */\n",
       ".sk-estimator-doc-link span {\n",
       "  display: none;\n",
       "  z-index: 9999;\n",
       "  position: relative;\n",
       "  font-weight: normal;\n",
       "  right: .2ex;\n",
       "  padding: .5ex;\n",
       "  margin: .5ex;\n",
       "  width: min-content;\n",
       "  min-width: 20ex;\n",
       "  max-width: 50ex;\n",
       "  color: var(--sklearn-color-text);\n",
       "  box-shadow: 2pt 2pt 4pt #999;\n",
       "  /* unfitted */\n",
       "  background: var(--sklearn-color-unfitted-level-0);\n",
       "  border: .5pt solid var(--sklearn-color-unfitted-level-3);\n",
       "}\n",
       "\n",
       ".sk-estimator-doc-link.fitted span {\n",
       "  /* fitted */\n",
       "  background: var(--sklearn-color-fitted-level-0);\n",
       "  border: var(--sklearn-color-fitted-level-3);\n",
       "}\n",
       "\n",
       ".sk-estimator-doc-link:hover span {\n",
       "  display: block;\n",
       "}\n",
       "\n",
       "/* \"?\"-specific style due to the `<a>` HTML tag */\n",
       "\n",
       "#sk-container-id-42 a.estimator_doc_link {\n",
       "  float: right;\n",
       "  font-size: 1rem;\n",
       "  line-height: 1em;\n",
       "  font-family: monospace;\n",
       "  background-color: var(--sklearn-color-background);\n",
       "  border-radius: 1rem;\n",
       "  height: 1rem;\n",
       "  width: 1rem;\n",
       "  text-decoration: none;\n",
       "  /* unfitted */\n",
       "  color: var(--sklearn-color-unfitted-level-1);\n",
       "  border: var(--sklearn-color-unfitted-level-1) 1pt solid;\n",
       "}\n",
       "\n",
       "#sk-container-id-42 a.estimator_doc_link.fitted {\n",
       "  /* fitted */\n",
       "  border: var(--sklearn-color-fitted-level-1) 1pt solid;\n",
       "  color: var(--sklearn-color-fitted-level-1);\n",
       "}\n",
       "\n",
       "/* On hover */\n",
       "#sk-container-id-42 a.estimator_doc_link:hover {\n",
       "  /* unfitted */\n",
       "  background-color: var(--sklearn-color-unfitted-level-3);\n",
       "  color: var(--sklearn-color-background);\n",
       "  text-decoration: none;\n",
       "}\n",
       "\n",
       "#sk-container-id-42 a.estimator_doc_link.fitted:hover {\n",
       "  /* fitted */\n",
       "  background-color: var(--sklearn-color-fitted-level-3);\n",
       "}\n",
       "</style><div id=\"sk-container-id-42\" class=\"sk-top-container\"><div class=\"sk-text-repr-fallback\"><pre>RandomForestClassifier(random_state=29)</pre><b>In a Jupyter environment, please rerun this cell to show the HTML representation or trust the notebook. <br />On GitHub, the HTML representation is unable to render, please try loading this page with nbviewer.org.</b></div><div class=\"sk-container\" hidden><div class=\"sk-item\"><div class=\"sk-estimator fitted sk-toggleable\"><input class=\"sk-toggleable__control sk-hidden--visually\" id=\"sk-estimator-id-42\" type=\"checkbox\" checked><label for=\"sk-estimator-id-42\" class=\"sk-toggleable__label fitted sk-toggleable__label-arrow fitted\">&nbsp;&nbsp;RandomForestClassifier<a class=\"sk-estimator-doc-link fitted\" rel=\"noreferrer\" target=\"_blank\" href=\"https://scikit-learn.org/1.4/modules/generated/sklearn.ensemble.RandomForestClassifier.html\">?<span>Documentation for RandomForestClassifier</span></a><span class=\"sk-estimator-doc-link fitted\">i<span>Fitted</span></span></label><div class=\"sk-toggleable__content fitted\"><pre>RandomForestClassifier(random_state=29)</pre></div> </div></div></div></div>"
      ],
      "text/plain": [
       "RandomForestClassifier(random_state=29)"
      ]
     },
     "execution_count": 932,
     "metadata": {},
     "output_type": "execute_result"
    }
   ],
   "source": [
    "# Random Forest train\n",
    "rf = RandomForestClassifier(random_state=29)\n",
    "rf.fit(X_train, y_train)"
   ]
  },
  {
   "cell_type": "code",
   "execution_count": 933,
   "id": "479a469e",
   "metadata": {},
   "outputs": [],
   "source": [
    "y_pred = rf.predict(X_test)"
   ]
  },
  {
   "cell_type": "code",
   "execution_count": 934,
   "id": "e9e9a797",
   "metadata": {},
   "outputs": [
    {
     "name": "stdout",
     "output_type": "stream",
     "text": [
      "      Metric     Score\n",
      "0   Accuracy  0.952269\n",
      "1  Precision  0.285714\n",
      "2     Recall  0.034483\n",
      "3   F1 Score  0.061538\n"
     ]
    }
   ],
   "source": [
    "rf_accuracy = accuracy_score(y_test, y_pred)\n",
    "rf_precision = precision_score(y_test, y_pred)\n",
    "rf_recall = recall_score(y_test, y_pred)\n",
    "rf_f1 = f1_score(y_test, y_pred)\n",
    "\n",
    "results = pd.DataFrame({\n",
    "    'Metric': ['Accuracy', 'Precision', 'Recall', 'F1 Score'],\n",
    "    'Score': [rf_accuracy, rf_precision, rf_recall, rf_f1]\n",
    "})\n",
    "\n",
    "print(results)"
   ]
  },
  {
   "cell_type": "markdown",
   "id": "fbd6d5f2",
   "metadata": {},
   "source": [
    "Các chỉ số Precision, Recall và F1 Score đều khá thấp, điều này có thể chỉ ra rằng mô hình đang gặp khó khăn trong việc dự đoán chính xác lớp dương tính. Điều này có thể xảy ra trong các tình huống dữ liệu bị lệch (rất ít mẫu dương tính so với mẫu âm tính). Trong trường hợp này, có thể cần xem xét các kỹ thuật như tái cân bằng dữ liệu (resampling), điều chỉnh ngưỡng dự đoán, hoặc sử dụng các thuật toán khác phù hợp hơn với dữ liệu lệch."
   ]
  },
  {
   "cell_type": "markdown",
   "id": "07c00cea",
   "metadata": {},
   "source": [
    "## 3. K-Nearest Neighbors (KNN)"
   ]
  },
  {
   "cell_type": "markdown",
   "id": "d71b1250",
   "metadata": {},
   "source": [
    "### Import thư viện"
   ]
  },
  {
   "cell_type": "code",
   "execution_count": 935,
   "id": "837fc49a",
   "metadata": {},
   "outputs": [],
   "source": [
    "from sklearn.neighbors import KNeighborsClassifier\n",
    "from sklearn.preprocessing import StandardScaler"
   ]
  },
  {
   "cell_type": "markdown",
   "id": "b7aa272f",
   "metadata": {},
   "source": [
    "### Chọn nhãn, biến mục tiêu và chia tập train - test\n"
   ]
  },
  {
   "cell_type": "code",
   "execution_count": 936,
   "id": "71dd11da",
   "metadata": {},
   "outputs": [],
   "source": [
    "# Chia dữ liệu thành tập huấn luyện và tập kiểm tra\n",
    "X_train, X_test, y_train, y_test = train_test_split(X, y, test_size=0.70, random_state=123)\n",
    "\n",
    "# Chuẩn hóa dữ liệu\n",
    "scaler = StandardScaler()\n",
    "X_train = scaler.fit_transform(X_train)\n",
    "X_test = scaler.transform(X_test)"
   ]
  },
  {
   "cell_type": "markdown",
   "id": "e004517c",
   "metadata": {},
   "source": [
    "### Áp dụng mô hình KNN"
   ]
  },
  {
   "cell_type": "code",
   "execution_count": 937,
   "id": "105396ba",
   "metadata": {},
   "outputs": [
    {
     "data": {
      "text/html": [
       "<style>#sk-container-id-43 {\n",
       "  /* Definition of color scheme common for light and dark mode */\n",
       "  --sklearn-color-text: black;\n",
       "  --sklearn-color-line: gray;\n",
       "  /* Definition of color scheme for unfitted estimators */\n",
       "  --sklearn-color-unfitted-level-0: #fff5e6;\n",
       "  --sklearn-color-unfitted-level-1: #f6e4d2;\n",
       "  --sklearn-color-unfitted-level-2: #ffe0b3;\n",
       "  --sklearn-color-unfitted-level-3: chocolate;\n",
       "  /* Definition of color scheme for fitted estimators */\n",
       "  --sklearn-color-fitted-level-0: #f0f8ff;\n",
       "  --sklearn-color-fitted-level-1: #d4ebff;\n",
       "  --sklearn-color-fitted-level-2: #b3dbfd;\n",
       "  --sklearn-color-fitted-level-3: cornflowerblue;\n",
       "\n",
       "  /* Specific color for light theme */\n",
       "  --sklearn-color-text-on-default-background: var(--sg-text-color, var(--theme-code-foreground, var(--jp-content-font-color1, black)));\n",
       "  --sklearn-color-background: var(--sg-background-color, var(--theme-background, var(--jp-layout-color0, white)));\n",
       "  --sklearn-color-border-box: var(--sg-text-color, var(--theme-code-foreground, var(--jp-content-font-color1, black)));\n",
       "  --sklearn-color-icon: #696969;\n",
       "\n",
       "  @media (prefers-color-scheme: dark) {\n",
       "    /* Redefinition of color scheme for dark theme */\n",
       "    --sklearn-color-text-on-default-background: var(--sg-text-color, var(--theme-code-foreground, var(--jp-content-font-color1, white)));\n",
       "    --sklearn-color-background: var(--sg-background-color, var(--theme-background, var(--jp-layout-color0, #111)));\n",
       "    --sklearn-color-border-box: var(--sg-text-color, var(--theme-code-foreground, var(--jp-content-font-color1, white)));\n",
       "    --sklearn-color-icon: #878787;\n",
       "  }\n",
       "}\n",
       "\n",
       "#sk-container-id-43 {\n",
       "  color: var(--sklearn-color-text);\n",
       "}\n",
       "\n",
       "#sk-container-id-43 pre {\n",
       "  padding: 0;\n",
       "}\n",
       "\n",
       "#sk-container-id-43 input.sk-hidden--visually {\n",
       "  border: 0;\n",
       "  clip: rect(1px 1px 1px 1px);\n",
       "  clip: rect(1px, 1px, 1px, 1px);\n",
       "  height: 1px;\n",
       "  margin: -1px;\n",
       "  overflow: hidden;\n",
       "  padding: 0;\n",
       "  position: absolute;\n",
       "  width: 1px;\n",
       "}\n",
       "\n",
       "#sk-container-id-43 div.sk-dashed-wrapped {\n",
       "  border: 1px dashed var(--sklearn-color-line);\n",
       "  margin: 0 0.4em 0.5em 0.4em;\n",
       "  box-sizing: border-box;\n",
       "  padding-bottom: 0.4em;\n",
       "  background-color: var(--sklearn-color-background);\n",
       "}\n",
       "\n",
       "#sk-container-id-43 div.sk-container {\n",
       "  /* jupyter's `normalize.less` sets `[hidden] { display: none; }`\n",
       "     but bootstrap.min.css set `[hidden] { display: none !important; }`\n",
       "     so we also need the `!important` here to be able to override the\n",
       "     default hidden behavior on the sphinx rendered scikit-learn.org.\n",
       "     See: https://github.com/scikit-learn/scikit-learn/issues/21755 */\n",
       "  display: inline-block !important;\n",
       "  position: relative;\n",
       "}\n",
       "\n",
       "#sk-container-id-43 div.sk-text-repr-fallback {\n",
       "  display: none;\n",
       "}\n",
       "\n",
       "div.sk-parallel-item,\n",
       "div.sk-serial,\n",
       "div.sk-item {\n",
       "  /* draw centered vertical line to link estimators */\n",
       "  background-image: linear-gradient(var(--sklearn-color-text-on-default-background), var(--sklearn-color-text-on-default-background));\n",
       "  background-size: 2px 100%;\n",
       "  background-repeat: no-repeat;\n",
       "  background-position: center center;\n",
       "}\n",
       "\n",
       "/* Parallel-specific style estimator block */\n",
       "\n",
       "#sk-container-id-43 div.sk-parallel-item::after {\n",
       "  content: \"\";\n",
       "  width: 100%;\n",
       "  border-bottom: 2px solid var(--sklearn-color-text-on-default-background);\n",
       "  flex-grow: 1;\n",
       "}\n",
       "\n",
       "#sk-container-id-43 div.sk-parallel {\n",
       "  display: flex;\n",
       "  align-items: stretch;\n",
       "  justify-content: center;\n",
       "  background-color: var(--sklearn-color-background);\n",
       "  position: relative;\n",
       "}\n",
       "\n",
       "#sk-container-id-43 div.sk-parallel-item {\n",
       "  display: flex;\n",
       "  flex-direction: column;\n",
       "}\n",
       "\n",
       "#sk-container-id-43 div.sk-parallel-item:first-child::after {\n",
       "  align-self: flex-end;\n",
       "  width: 50%;\n",
       "}\n",
       "\n",
       "#sk-container-id-43 div.sk-parallel-item:last-child::after {\n",
       "  align-self: flex-start;\n",
       "  width: 50%;\n",
       "}\n",
       "\n",
       "#sk-container-id-43 div.sk-parallel-item:only-child::after {\n",
       "  width: 0;\n",
       "}\n",
       "\n",
       "/* Serial-specific style estimator block */\n",
       "\n",
       "#sk-container-id-43 div.sk-serial {\n",
       "  display: flex;\n",
       "  flex-direction: column;\n",
       "  align-items: center;\n",
       "  background-color: var(--sklearn-color-background);\n",
       "  padding-right: 1em;\n",
       "  padding-left: 1em;\n",
       "}\n",
       "\n",
       "\n",
       "/* Toggleable style: style used for estimator/Pipeline/ColumnTransformer box that is\n",
       "clickable and can be expanded/collapsed.\n",
       "- Pipeline and ColumnTransformer use this feature and define the default style\n",
       "- Estimators will overwrite some part of the style using the `sk-estimator` class\n",
       "*/\n",
       "\n",
       "/* Pipeline and ColumnTransformer style (default) */\n",
       "\n",
       "#sk-container-id-43 div.sk-toggleable {\n",
       "  /* Default theme specific background. It is overwritten whether we have a\n",
       "  specific estimator or a Pipeline/ColumnTransformer */\n",
       "  background-color: var(--sklearn-color-background);\n",
       "}\n",
       "\n",
       "/* Toggleable label */\n",
       "#sk-container-id-43 label.sk-toggleable__label {\n",
       "  cursor: pointer;\n",
       "  display: block;\n",
       "  width: 100%;\n",
       "  margin-bottom: 0;\n",
       "  padding: 0.5em;\n",
       "  box-sizing: border-box;\n",
       "  text-align: center;\n",
       "}\n",
       "\n",
       "#sk-container-id-43 label.sk-toggleable__label-arrow:before {\n",
       "  /* Arrow on the left of the label */\n",
       "  content: \"▸\";\n",
       "  float: left;\n",
       "  margin-right: 0.25em;\n",
       "  color: var(--sklearn-color-icon);\n",
       "}\n",
       "\n",
       "#sk-container-id-43 label.sk-toggleable__label-arrow:hover:before {\n",
       "  color: var(--sklearn-color-text);\n",
       "}\n",
       "\n",
       "/* Toggleable content - dropdown */\n",
       "\n",
       "#sk-container-id-43 div.sk-toggleable__content {\n",
       "  max-height: 0;\n",
       "  max-width: 0;\n",
       "  overflow: hidden;\n",
       "  text-align: left;\n",
       "  /* unfitted */\n",
       "  background-color: var(--sklearn-color-unfitted-level-0);\n",
       "}\n",
       "\n",
       "#sk-container-id-43 div.sk-toggleable__content.fitted {\n",
       "  /* fitted */\n",
       "  background-color: var(--sklearn-color-fitted-level-0);\n",
       "}\n",
       "\n",
       "#sk-container-id-43 div.sk-toggleable__content pre {\n",
       "  margin: 0.2em;\n",
       "  border-radius: 0.25em;\n",
       "  color: var(--sklearn-color-text);\n",
       "  /* unfitted */\n",
       "  background-color: var(--sklearn-color-unfitted-level-0);\n",
       "}\n",
       "\n",
       "#sk-container-id-43 div.sk-toggleable__content.fitted pre {\n",
       "  /* unfitted */\n",
       "  background-color: var(--sklearn-color-fitted-level-0);\n",
       "}\n",
       "\n",
       "#sk-container-id-43 input.sk-toggleable__control:checked~div.sk-toggleable__content {\n",
       "  /* Expand drop-down */\n",
       "  max-height: 200px;\n",
       "  max-width: 100%;\n",
       "  overflow: auto;\n",
       "}\n",
       "\n",
       "#sk-container-id-43 input.sk-toggleable__control:checked~label.sk-toggleable__label-arrow:before {\n",
       "  content: \"▾\";\n",
       "}\n",
       "\n",
       "/* Pipeline/ColumnTransformer-specific style */\n",
       "\n",
       "#sk-container-id-43 div.sk-label input.sk-toggleable__control:checked~label.sk-toggleable__label {\n",
       "  color: var(--sklearn-color-text);\n",
       "  background-color: var(--sklearn-color-unfitted-level-2);\n",
       "}\n",
       "\n",
       "#sk-container-id-43 div.sk-label.fitted input.sk-toggleable__control:checked~label.sk-toggleable__label {\n",
       "  background-color: var(--sklearn-color-fitted-level-2);\n",
       "}\n",
       "\n",
       "/* Estimator-specific style */\n",
       "\n",
       "/* Colorize estimator box */\n",
       "#sk-container-id-43 div.sk-estimator input.sk-toggleable__control:checked~label.sk-toggleable__label {\n",
       "  /* unfitted */\n",
       "  background-color: var(--sklearn-color-unfitted-level-2);\n",
       "}\n",
       "\n",
       "#sk-container-id-43 div.sk-estimator.fitted input.sk-toggleable__control:checked~label.sk-toggleable__label {\n",
       "  /* fitted */\n",
       "  background-color: var(--sklearn-color-fitted-level-2);\n",
       "}\n",
       "\n",
       "#sk-container-id-43 div.sk-label label.sk-toggleable__label,\n",
       "#sk-container-id-43 div.sk-label label {\n",
       "  /* The background is the default theme color */\n",
       "  color: var(--sklearn-color-text-on-default-background);\n",
       "}\n",
       "\n",
       "/* On hover, darken the color of the background */\n",
       "#sk-container-id-43 div.sk-label:hover label.sk-toggleable__label {\n",
       "  color: var(--sklearn-color-text);\n",
       "  background-color: var(--sklearn-color-unfitted-level-2);\n",
       "}\n",
       "\n",
       "/* Label box, darken color on hover, fitted */\n",
       "#sk-container-id-43 div.sk-label.fitted:hover label.sk-toggleable__label.fitted {\n",
       "  color: var(--sklearn-color-text);\n",
       "  background-color: var(--sklearn-color-fitted-level-2);\n",
       "}\n",
       "\n",
       "/* Estimator label */\n",
       "\n",
       "#sk-container-id-43 div.sk-label label {\n",
       "  font-family: monospace;\n",
       "  font-weight: bold;\n",
       "  display: inline-block;\n",
       "  line-height: 1.2em;\n",
       "}\n",
       "\n",
       "#sk-container-id-43 div.sk-label-container {\n",
       "  text-align: center;\n",
       "}\n",
       "\n",
       "/* Estimator-specific */\n",
       "#sk-container-id-43 div.sk-estimator {\n",
       "  font-family: monospace;\n",
       "  border: 1px dotted var(--sklearn-color-border-box);\n",
       "  border-radius: 0.25em;\n",
       "  box-sizing: border-box;\n",
       "  margin-bottom: 0.5em;\n",
       "  /* unfitted */\n",
       "  background-color: var(--sklearn-color-unfitted-level-0);\n",
       "}\n",
       "\n",
       "#sk-container-id-43 div.sk-estimator.fitted {\n",
       "  /* fitted */\n",
       "  background-color: var(--sklearn-color-fitted-level-0);\n",
       "}\n",
       "\n",
       "/* on hover */\n",
       "#sk-container-id-43 div.sk-estimator:hover {\n",
       "  /* unfitted */\n",
       "  background-color: var(--sklearn-color-unfitted-level-2);\n",
       "}\n",
       "\n",
       "#sk-container-id-43 div.sk-estimator.fitted:hover {\n",
       "  /* fitted */\n",
       "  background-color: var(--sklearn-color-fitted-level-2);\n",
       "}\n",
       "\n",
       "/* Specification for estimator info (e.g. \"i\" and \"?\") */\n",
       "\n",
       "/* Common style for \"i\" and \"?\" */\n",
       "\n",
       ".sk-estimator-doc-link,\n",
       "a:link.sk-estimator-doc-link,\n",
       "a:visited.sk-estimator-doc-link {\n",
       "  float: right;\n",
       "  font-size: smaller;\n",
       "  line-height: 1em;\n",
       "  font-family: monospace;\n",
       "  background-color: var(--sklearn-color-background);\n",
       "  border-radius: 1em;\n",
       "  height: 1em;\n",
       "  width: 1em;\n",
       "  text-decoration: none !important;\n",
       "  margin-left: 1ex;\n",
       "  /* unfitted */\n",
       "  border: var(--sklearn-color-unfitted-level-1) 1pt solid;\n",
       "  color: var(--sklearn-color-unfitted-level-1);\n",
       "}\n",
       "\n",
       ".sk-estimator-doc-link.fitted,\n",
       "a:link.sk-estimator-doc-link.fitted,\n",
       "a:visited.sk-estimator-doc-link.fitted {\n",
       "  /* fitted */\n",
       "  border: var(--sklearn-color-fitted-level-1) 1pt solid;\n",
       "  color: var(--sklearn-color-fitted-level-1);\n",
       "}\n",
       "\n",
       "/* On hover */\n",
       "div.sk-estimator:hover .sk-estimator-doc-link:hover,\n",
       ".sk-estimator-doc-link:hover,\n",
       "div.sk-label-container:hover .sk-estimator-doc-link:hover,\n",
       ".sk-estimator-doc-link:hover {\n",
       "  /* unfitted */\n",
       "  background-color: var(--sklearn-color-unfitted-level-3);\n",
       "  color: var(--sklearn-color-background);\n",
       "  text-decoration: none;\n",
       "}\n",
       "\n",
       "div.sk-estimator.fitted:hover .sk-estimator-doc-link.fitted:hover,\n",
       ".sk-estimator-doc-link.fitted:hover,\n",
       "div.sk-label-container:hover .sk-estimator-doc-link.fitted:hover,\n",
       ".sk-estimator-doc-link.fitted:hover {\n",
       "  /* fitted */\n",
       "  background-color: var(--sklearn-color-fitted-level-3);\n",
       "  color: var(--sklearn-color-background);\n",
       "  text-decoration: none;\n",
       "}\n",
       "\n",
       "/* Span, style for the box shown on hovering the info icon */\n",
       ".sk-estimator-doc-link span {\n",
       "  display: none;\n",
       "  z-index: 9999;\n",
       "  position: relative;\n",
       "  font-weight: normal;\n",
       "  right: .2ex;\n",
       "  padding: .5ex;\n",
       "  margin: .5ex;\n",
       "  width: min-content;\n",
       "  min-width: 20ex;\n",
       "  max-width: 50ex;\n",
       "  color: var(--sklearn-color-text);\n",
       "  box-shadow: 2pt 2pt 4pt #999;\n",
       "  /* unfitted */\n",
       "  background: var(--sklearn-color-unfitted-level-0);\n",
       "  border: .5pt solid var(--sklearn-color-unfitted-level-3);\n",
       "}\n",
       "\n",
       ".sk-estimator-doc-link.fitted span {\n",
       "  /* fitted */\n",
       "  background: var(--sklearn-color-fitted-level-0);\n",
       "  border: var(--sklearn-color-fitted-level-3);\n",
       "}\n",
       "\n",
       ".sk-estimator-doc-link:hover span {\n",
       "  display: block;\n",
       "}\n",
       "\n",
       "/* \"?\"-specific style due to the `<a>` HTML tag */\n",
       "\n",
       "#sk-container-id-43 a.estimator_doc_link {\n",
       "  float: right;\n",
       "  font-size: 1rem;\n",
       "  line-height: 1em;\n",
       "  font-family: monospace;\n",
       "  background-color: var(--sklearn-color-background);\n",
       "  border-radius: 1rem;\n",
       "  height: 1rem;\n",
       "  width: 1rem;\n",
       "  text-decoration: none;\n",
       "  /* unfitted */\n",
       "  color: var(--sklearn-color-unfitted-level-1);\n",
       "  border: var(--sklearn-color-unfitted-level-1) 1pt solid;\n",
       "}\n",
       "\n",
       "#sk-container-id-43 a.estimator_doc_link.fitted {\n",
       "  /* fitted */\n",
       "  border: var(--sklearn-color-fitted-level-1) 1pt solid;\n",
       "  color: var(--sklearn-color-fitted-level-1);\n",
       "}\n",
       "\n",
       "/* On hover */\n",
       "#sk-container-id-43 a.estimator_doc_link:hover {\n",
       "  /* unfitted */\n",
       "  background-color: var(--sklearn-color-unfitted-level-3);\n",
       "  color: var(--sklearn-color-background);\n",
       "  text-decoration: none;\n",
       "}\n",
       "\n",
       "#sk-container-id-43 a.estimator_doc_link.fitted:hover {\n",
       "  /* fitted */\n",
       "  background-color: var(--sklearn-color-fitted-level-3);\n",
       "}\n",
       "</style><div id=\"sk-container-id-43\" class=\"sk-top-container\"><div class=\"sk-text-repr-fallback\"><pre>KNeighborsClassifier()</pre><b>In a Jupyter environment, please rerun this cell to show the HTML representation or trust the notebook. <br />On GitHub, the HTML representation is unable to render, please try loading this page with nbviewer.org.</b></div><div class=\"sk-container\" hidden><div class=\"sk-item\"><div class=\"sk-estimator fitted sk-toggleable\"><input class=\"sk-toggleable__control sk-hidden--visually\" id=\"sk-estimator-id-43\" type=\"checkbox\" checked><label for=\"sk-estimator-id-43\" class=\"sk-toggleable__label fitted sk-toggleable__label-arrow fitted\">&nbsp;&nbsp;KNeighborsClassifier<a class=\"sk-estimator-doc-link fitted\" rel=\"noreferrer\" target=\"_blank\" href=\"https://scikit-learn.org/1.4/modules/generated/sklearn.neighbors.KNeighborsClassifier.html\">?<span>Documentation for KNeighborsClassifier</span></a><span class=\"sk-estimator-doc-link fitted\">i<span>Fitted</span></span></label><div class=\"sk-toggleable__content fitted\"><pre>KNeighborsClassifier()</pre></div> </div></div></div></div>"
      ],
      "text/plain": [
       "KNeighborsClassifier()"
      ]
     },
     "execution_count": 937,
     "metadata": {},
     "output_type": "execute_result"
    }
   ],
   "source": [
    "# Áp dụng mô hình KNN\n",
    "knn = KNeighborsClassifier()\n",
    "knn.fit(X_train, y_train)\n",
    "\n"
   ]
  },
  {
   "cell_type": "code",
   "execution_count": 938,
   "id": "d724f903",
   "metadata": {},
   "outputs": [
    {
     "data": {
      "text/plain": [
       "0.9505171931786414"
      ]
     },
     "execution_count": 938,
     "metadata": {},
     "output_type": "execute_result"
    }
   ],
   "source": [
    "# Dự đoán trên tập kiểm tra\n",
    "y_pred = knn.predict(X_test)\n",
    "\n",
    "knn_accuracy = accuracy_score(y_test, y_pred)\n",
    "knn_accuracy"
   ]
  },
  {
   "cell_type": "code",
   "execution_count": 939,
   "id": "c8be86a6",
   "metadata": {},
   "outputs": [
    {
     "name": "stdout",
     "output_type": "stream",
     "text": [
      "   n_neighbors  accuracy\n",
      "0            1  0.919765\n",
      "1            2  0.948281\n",
      "2            3  0.944367\n",
      "3            4  0.949958\n",
      "4            5  0.950517\n",
      "5            6  0.949679\n",
      "6            7  0.949679\n",
      "7            8  0.949399\n",
      "8            9  0.949399\n",
      "9           10  0.949679\n"
     ]
    }
   ],
   "source": [
    "# Tạo danh sách để lưu trữ kết quả\n",
    "results = []\n",
    "\n",
    "# Vòng lặp qua các giá trị n_neighbors từ 1 đến 10\n",
    "for n in range(1, 11):\n",
    "    knn = KNeighborsClassifier(n_neighbors=n)\n",
    "    knn.fit(X_train, y_train)\n",
    "    y_pred = knn.predict(X_test)\n",
    "    accuracy = accuracy_score(y_test, y_pred)\n",
    "    results.append((n, accuracy))\n",
    "\n",
    "# Tạo DataFrame để hiển thị kết quả\n",
    "results_df = pd.DataFrame(results, columns=['n_neighbors', 'accuracy'])\n",
    "\n",
    "# In ra kết quả dưới dạng bảng\n",
    "print(results_df)"
   ]
  },
  {
   "cell_type": "markdown",
   "id": "5bb4f2dd",
   "metadata": {},
   "source": [
    "### Accuracy đạt kết quả khi n_neighbors = 5"
   ]
  },
  {
   "cell_type": "code",
   "execution_count": 940,
   "id": "4c08b799",
   "metadata": {},
   "outputs": [],
   "source": [
    "# Áp dụng mô hình KNN\n",
    "knn = KNeighborsClassifier(n_neighbors=5)\n",
    "knn.fit(X_train, y_train)\n",
    "\n",
    "# Dự đoán trên tập kiểm tra\n",
    "y_pred = knn.predict(X_test)"
   ]
  },
  {
   "cell_type": "code",
   "execution_count": 941,
   "id": "09753341",
   "metadata": {},
   "outputs": [
    {
     "name": "stdout",
     "output_type": "stream",
     "text": [
      "      Metric     Score\n",
      "0   Accuracy  0.950517\n",
      "1  Precision  0.636364\n",
      "2     Recall  0.038889\n",
      "3   F1 Score  0.073298\n"
     ]
    }
   ],
   "source": [
    "knn_accuracy = accuracy_score(y_test, y_pred)\n",
    "knn_precision = precision_score(y_test, y_pred)\n",
    "knn_recall = recall_score(y_test, y_pred)\n",
    "knn_f1 = f1_score(y_test, y_pred)\n",
    "\n",
    "results_knn = pd.DataFrame({\n",
    "    'Metric': ['Accuracy', 'Precision', 'Recall', 'F1 Score'],\n",
    "    'Score': [knn_accuracy, knn_precision, knn_recall, knn_f1]\n",
    "})\n",
    "\n",
    "print(results_knn)"
   ]
  },
  {
   "cell_type": "markdown",
   "id": "3f99011f",
   "metadata": {},
   "source": [
    "Kết quả đánh giá cho thấy mô hình KNN có vẻ không phù hợp với dữ liệu này, đặc biệt là với những bài toán cần phải phát hiện các trường hợp dương tính chính xác và đầy đủ. Điều này có thể do dữ liệu không cân bằng hoặc do mô hình KNN chưa được tối ưu hóa đúng cách. Có thể cần thử nghiệm với các mô hình khác, kỹ thuật xử lý dữ liệu hoặc điều chỉnh tham số K để cải thiện hiệu suất."
   ]
  },
  {
   "cell_type": "markdown",
   "id": "fb37fe18",
   "metadata": {},
   "source": [
    "# Xử lý mất cân bằng\n",
    "* Trong tập dữ liệu này, số lượng người không bị đột quỵ nhiều hơn rất nhiều so với số lượng người bị đột quỵ . Điều này có thể ảnh hưởng đến hiệu suất của các mô hình học máy.\n",
    "##### Phương pháp:\n",
    "* sử dụng SMOTE để xử lý sự mất cân bằng dữ liệu. Để sử dụng SMOTE, tất cả các biến phân loại phải được chuyển đổi thành số nguyên (int).\n",
    "* sử dụng mã hóa nhãn (Label Encoding) thay vì One-Hot Encoding cho các biến phân loại, vì sau sẽ tạo một mô hình PyTorch sử dụng Embeddings."
   ]
  },
  {
   "cell_type": "code",
   "execution_count": 942,
   "id": "29651479",
   "metadata": {},
   "outputs": [],
   "source": [
    "df1 = pd.read_csv(\"healthcare-dataset-stroke-data.csv\")\n",
    "df1.drop('id', axis=1, inplace=True)"
   ]
  },
  {
   "cell_type": "code",
   "execution_count": 943,
   "id": "95bf008b",
   "metadata": {},
   "outputs": [],
   "source": [
    "df1['bmi'].fillna(df1['bmi'].mean(), inplace=True)"
   ]
  },
  {
   "cell_type": "code",
   "execution_count": 944,
   "id": "db4be257",
   "metadata": {},
   "outputs": [
    {
     "data": {
      "text/plain": [
       "gender\n",
       "Female    2994\n",
       "Male      2115\n",
       "Name: count, dtype: int64"
      ]
     },
     "execution_count": 944,
     "metadata": {},
     "output_type": "execute_result"
    }
   ],
   "source": [
    "df1.drop(df1[df1['gender']== 'Other'].index, inplace=True)\n",
    "df1[\"gender\"].value_counts()"
   ]
  },
  {
   "cell_type": "code",
   "execution_count": 945,
   "id": "fef8228a",
   "metadata": {},
   "outputs": [
    {
     "name": "stdout",
     "output_type": "stream",
     "text": [
      "Số người không bị đột quỵ: :  4860\n",
      "Số người không bị đột quỵ :  249\n",
      "Số lượng ngoại lệ trong avg_glucose_level có đột quỵ = 1 là :  (83, 11)\n",
      "Số lượng ngoại lệ trong bmi với đột quỵ = 1 là :  (3, 11)\n"
     ]
    }
   ],
   "source": [
    "print(\"Số người không bị đột quỵ: : \", df1['stroke'].value_counts()[0])\n",
    "print(\"Số người không bị đột quỵ : \", df1['stroke'].value_counts()[1])\n",
    "cond1 = df1['avg_glucose_level'] > 170\n",
    "cond2 = df1['stroke'] == 1\n",
    "print(\"Số lượng ngoại lệ trong avg_glucose_level có đột quỵ = 1 là : \", df1[cond1 & cond2].shape)\n",
    "cond3 = df1['bmi'] > 47\n",
    "cond4 = df1['stroke'] == 1\n",
    "print(\"Số lượng ngoại lệ trong bmi với đột quỵ = 1 là : \", df1[cond3 & cond4].shape)"
   ]
  },
  {
   "cell_type": "code",
   "execution_count": 946,
   "id": "a1c2b472",
   "metadata": {},
   "outputs": [
    {
     "name": "stdout",
     "output_type": "stream",
     "text": [
      "Kích thước trước khi loại bỏ các ngoại lệ BMI :  (5109, 11)\n",
      "Kích thước sau khi loại bỏ các ngoại lệ BMI :  (4992, 11)\n"
     ]
    }
   ],
   "source": [
    "\n",
    "print(\"Kích thước trước khi loại bỏ các ngoại lệ BMI : \",df1.shape)\n",
    "df1.drop(df1[df1['bmi'] > 47].index, inplace = True)\n",
    "print(\"Kích thước sau khi loại bỏ các ngoại lệ BMI : \",df1.shape)"
   ]
  },
  {
   "cell_type": "code",
   "execution_count": 947,
   "id": "68fe08fe",
   "metadata": {},
   "outputs": [
    {
     "data": {
      "text/plain": [
       "gender                object\n",
       "age                  float64\n",
       "hypertension           int64\n",
       "heart_disease          int64\n",
       "ever_married          object\n",
       "work_type             object\n",
       "Residence_type        object\n",
       "avg_glucose_level    float64\n",
       "bmi                  float64\n",
       "smoking_status        object\n",
       "stroke                 int64\n",
       "dtype: object"
      ]
     },
     "execution_count": 947,
     "metadata": {},
     "output_type": "execute_result"
    }
   ],
   "source": [
    "df1.dtypes"
   ]
  },
  {
   "cell_type": "code",
   "execution_count": 948,
   "id": "32299857",
   "metadata": {},
   "outputs": [],
   "source": [
    "# Nhãn Mã hóa các biến phân loại\n",
    "from sklearn.preprocessing import LabelEncoder\n",
    "object_cols = [\"gender\",\"ever_married\",\"work_type\",\"Residence_type\",\"smoking_status\"]\n",
    "label_encoder = LabelEncoder()\n",
    "for col in object_cols:\n",
    "    label_encoder.fit(df1[col])\n",
    "    df1[col] = label_encoder.transform(df1[col])"
   ]
  },
  {
   "cell_type": "code",
   "execution_count": 949,
   "id": "74e47a88",
   "metadata": {},
   "outputs": [
    {
     "data": {
      "image/png": "[encoded data removed]",
      "text/plain": [
       "<Figure size 800x600 with 1 Axes>"
      ]
     },
     "metadata": {},
     "output_type": "display_data"
    }
   ],
   "source": [
    "# Using SMOTE\n",
    "from imblearn.over_sampling import SMOTE\n",
    "sampler = SMOTE(random_state=42)\n",
    "X = df1.drop(['stroke'], axis=1)\n",
    "y = df1[['stroke']]\n",
    "X, y = sampler.fit_resample(X, y['stroke'].values.ravel())\n",
    "y = pd.DataFrame({'stroke': y})\n",
    "\n",
    "# Vẽ biểu đồ countplot với palette khác nhau\n",
    "plt.figure(figsize=(8, 6))\n",
    "sns.countplot(data=y, x='stroke', palette='Set2') \n",
    "plt.title('Count plot for Stroke after SMOTE')\n",
    "plt.show()"
   ]
  },
  {
   "cell_type": "code",
   "execution_count": 950,
   "id": "8e6b864b",
   "metadata": {},
   "outputs": [
    {
     "data": {
      "text/html": [
       "<div>\n",
       "<style scoped>\n",
       "    .dataframe tbody tr th:only-of-type {\n",
       "        vertical-align: middle;\n",
       "    }\n",
       "\n",
       "    .dataframe tbody tr th {\n",
       "        vertical-align: top;\n",
       "    }\n",
       "\n",
       "    .dataframe thead th {\n",
       "        text-align: right;\n",
       "    }\n",
       "</style>\n",
       "<table border=\"1\" class=\"dataframe\">\n",
       "  <thead>\n",
       "    <tr style=\"text-align: right;\">\n",
       "      <th></th>\n",
       "      <th>gender</th>\n",
       "      <th>age</th>\n",
       "      <th>hypertension</th>\n",
       "      <th>heart_disease</th>\n",
       "      <th>ever_married</th>\n",
       "      <th>work_type</th>\n",
       "      <th>Residence_type</th>\n",
       "      <th>avg_glucose_level</th>\n",
       "      <th>bmi</th>\n",
       "      <th>smoking_status</th>\n",
       "      <th>stroke</th>\n",
       "    </tr>\n",
       "  </thead>\n",
       "  <tbody>\n",
       "    <tr>\n",
       "      <th>0</th>\n",
       "      <td>1</td>\n",
       "      <td>67.0</td>\n",
       "      <td>0</td>\n",
       "      <td>1</td>\n",
       "      <td>1</td>\n",
       "      <td>2</td>\n",
       "      <td>1</td>\n",
       "      <td>228.69</td>\n",
       "      <td>36.600000</td>\n",
       "      <td>1</td>\n",
       "      <td>1</td>\n",
       "    </tr>\n",
       "    <tr>\n",
       "      <th>1</th>\n",
       "      <td>0</td>\n",
       "      <td>61.0</td>\n",
       "      <td>0</td>\n",
       "      <td>0</td>\n",
       "      <td>1</td>\n",
       "      <td>3</td>\n",
       "      <td>0</td>\n",
       "      <td>202.21</td>\n",
       "      <td>28.893237</td>\n",
       "      <td>2</td>\n",
       "      <td>1</td>\n",
       "    </tr>\n",
       "    <tr>\n",
       "      <th>2</th>\n",
       "      <td>1</td>\n",
       "      <td>80.0</td>\n",
       "      <td>0</td>\n",
       "      <td>1</td>\n",
       "      <td>1</td>\n",
       "      <td>2</td>\n",
       "      <td>0</td>\n",
       "      <td>105.92</td>\n",
       "      <td>32.500000</td>\n",
       "      <td>2</td>\n",
       "      <td>1</td>\n",
       "    </tr>\n",
       "    <tr>\n",
       "      <th>3</th>\n",
       "      <td>0</td>\n",
       "      <td>49.0</td>\n",
       "      <td>0</td>\n",
       "      <td>0</td>\n",
       "      <td>1</td>\n",
       "      <td>2</td>\n",
       "      <td>1</td>\n",
       "      <td>171.23</td>\n",
       "      <td>34.400000</td>\n",
       "      <td>3</td>\n",
       "      <td>1</td>\n",
       "    </tr>\n",
       "    <tr>\n",
       "      <th>4</th>\n",
       "      <td>0</td>\n",
       "      <td>79.0</td>\n",
       "      <td>1</td>\n",
       "      <td>0</td>\n",
       "      <td>1</td>\n",
       "      <td>3</td>\n",
       "      <td>0</td>\n",
       "      <td>174.12</td>\n",
       "      <td>24.000000</td>\n",
       "      <td>2</td>\n",
       "      <td>1</td>\n",
       "    </tr>\n",
       "  </tbody>\n",
       "</table>\n",
       "</div>"
      ],
      "text/plain": [
       "   gender   age  hypertension  heart_disease  ever_married  work_type  \\\n",
       "0       1  67.0             0              1             1          2   \n",
       "1       0  61.0             0              0             1          3   \n",
       "2       1  80.0             0              1             1          2   \n",
       "3       0  49.0             0              0             1          2   \n",
       "4       0  79.0             1              0             1          3   \n",
       "\n",
       "   Residence_type  avg_glucose_level        bmi  smoking_status  stroke  \n",
       "0               1             228.69  36.600000               1       1  \n",
       "1               0             202.21  28.893237               2       1  \n",
       "2               0             105.92  32.500000               2       1  \n",
       "3               1             171.23  34.400000               3       1  \n",
       "4               0             174.12  24.000000               2       1  "
      ]
     },
     "execution_count": 950,
     "metadata": {},
     "output_type": "execute_result"
    }
   ],
   "source": [
    "# Nối lại tập dữ liệu\n",
    "df1 = pd.concat([X,y],axis = 1)\n",
    "df1.head()"
   ]
  },
  {
   "cell_type": "code",
   "execution_count": 951,
   "id": "9e057fe0",
   "metadata": {},
   "outputs": [],
   "source": [
    "# xáo trộn tập dữ liệu trước khi phát triển mô hình\n",
    "df1 = df1.sample(frac = 1)"
   ]
  },
  {
   "cell_type": "markdown",
   "id": "0d70d5ec",
   "metadata": {},
   "source": [
    "# 4. PyTorch Model Development\n"
   ]
  },
  {
   "cell_type": "code",
   "execution_count": 952,
   "id": "e92e9d1f",
   "metadata": {},
   "outputs": [],
   "source": [
    "import torch\n",
    "import torch.nn as nn"
   ]
  },
  {
   "cell_type": "code",
   "execution_count": 953,
   "id": "32993182",
   "metadata": {},
   "outputs": [],
   "source": [
    "cat_cols = [\"gender\",\"hypertension\",\"heart_disease\",\"ever_married\",\"work_type\",\"Residence_type\",\"smoking_status\"]\n",
    "cont_cols = [\"age\",\"avg_glucose_level\",\"bmi\"]\n",
    "y_col = [\"stroke\"]\n"
   ]
  },
  {
   "cell_type": "code",
   "execution_count": 954,
   "id": "f00775b9",
   "metadata": {},
   "outputs": [],
   "source": [
    " \n",
    "for cat in cat_cols:\n",
    "    df1[cat] = df1[cat].astype('category')"
   ]
  },
  {
   "cell_type": "code",
   "execution_count": 955,
   "id": "0cf6887b",
   "metadata": {},
   "outputs": [
    {
     "data": {
      "text/plain": [
       "gender               category\n",
       "age                   float64\n",
       "hypertension         category\n",
       "heart_disease        category\n",
       "ever_married         category\n",
       "work_type            category\n",
       "Residence_type       category\n",
       "avg_glucose_level     float64\n",
       "bmi                   float64\n",
       "smoking_status       category\n",
       "stroke                  int64\n",
       "dtype: object"
      ]
     },
     "execution_count": 955,
     "metadata": {},
     "output_type": "execute_result"
    }
   ],
   "source": [
    "df1.dtypes   "
   ]
  },
  {
   "cell_type": "code",
   "execution_count": 956,
   "id": "d35b35f1",
   "metadata": {},
   "outputs": [
    {
     "data": {
      "text/plain": [
       "array([[1, 0, 0, 0, 2, 1, 2],\n",
       "       [0, 0, 0, 0, 2, 0, 0],\n",
       "       [0, 0, 0, 1, 0, 1, 2],\n",
       "       [0, 0, 0, 1, 3, 0, 1],\n",
       "       [0, 0, 0, 0, 4, 1, 0]], dtype=int8)"
      ]
     },
     "execution_count": 956,
     "metadata": {},
     "output_type": "execute_result"
    }
   ],
   "source": [
    "# xếp chồng các cột phân loại\n",
    "cats = np.stack([df1[col].cat.codes.values for col in cat_cols], 1)\n",
    "cats[:5]"
   ]
  },
  {
   "cell_type": "code",
   "execution_count": 957,
   "id": "81633e16",
   "metadata": {},
   "outputs": [
    {
     "data": {
      "text/plain": [
       "tensor([[1, 0, 0, 0, 2, 1, 2],\n",
       "        [0, 0, 0, 0, 2, 0, 0],\n",
       "        [0, 0, 0, 1, 0, 1, 2],\n",
       "        [0, 0, 0, 1, 3, 0, 1],\n",
       "        [0, 0, 0, 0, 4, 1, 0]])"
      ]
     },
     "execution_count": 957,
     "metadata": {},
     "output_type": "execute_result"
    }
   ],
   "source": [
    "# chuyển đổi ngăn xếp thành tensor\n",
    "cats = torch.tensor(cats, dtype = torch.int64)\n",
    "cats[:5]"
   ]
  },
  {
   "cell_type": "code",
   "execution_count": 958,
   "id": "0f53c13f",
   "metadata": {},
   "outputs": [
    {
     "data": {
      "text/plain": [
       "tensor([[ 28.0000,  75.9200,  22.8000],\n",
       "        [ 69.5302,  77.6930,  25.0342],\n",
       "        [ 45.0000,  73.7100,  34.1000],\n",
       "        [ 74.5891,  77.2220,  28.1905],\n",
       "        [  2.0000, 102.9200,  17.6000]])"
      ]
     },
     "execution_count": 958,
     "metadata": {},
     "output_type": "execute_result"
    }
   ],
   "source": [
    "# xếp chồng các cột liên tục và chuyển đổi sang tensor\n",
    "conts = np.stack([df1[col].values for col in cont_cols], 1)\n",
    "conts = torch.tensor(conts, dtype=torch.float)\n",
    "conts[:5]"
   ]
  },
  {
   "cell_type": "code",
   "execution_count": 959,
   "id": "09f8af26",
   "metadata": {},
   "outputs": [
    {
     "data": {
      "text/plain": [
       "tensor([0, 1, 0, 1, 0])"
      ]
     },
     "execution_count": 959,
     "metadata": {},
     "output_type": "execute_result"
    }
   ],
   "source": [
    "# chuyển đổi biến mục tiêu thành tensor và làm phẳng\n",
    "y = torch.tensor(df1[y_col].values).flatten()\n",
    "y[:5]"
   ]
  },
  {
   "cell_type": "code",
   "execution_count": 960,
   "id": "8f0ef748",
   "metadata": {},
   "outputs": [
    {
     "name": "stdout",
     "output_type": "stream",
     "text": [
      "torch.Size([9492, 7])\n",
      "torch.Size([9492, 3])\n",
      "torch.Size([9492])\n"
     ]
    }
   ],
   "source": [
    "print(cats.shape)\n",
    "print(conts.shape)\n",
    "print(y.shape)"
   ]
  },
  {
   "cell_type": "code",
   "execution_count": 961,
   "id": "b2f7f45a",
   "metadata": {},
   "outputs": [
    {
     "data": {
      "text/plain": [
       "[(2, 1), (2, 1), (2, 1), (2, 1), (5, 3), (2, 1), (4, 2)]"
      ]
     },
     "execution_count": 961,
     "metadata": {},
     "output_type": "execute_result"
    }
   ],
   "source": [
    "cat_szs = [len(df1[col].cat.categories) for col in cat_cols]\n",
    "emb_szs = [(size, min(50, (size+1)//2)) for size in cat_szs]\n",
    "emb_szs"
   ]
  },
  {
   "cell_type": "code",
   "execution_count": 962,
   "id": "57d79253",
   "metadata": {},
   "outputs": [],
   "source": [
    " \n",
    "class TabularModel(nn.Module):\n",
    "\n",
    "    def __init__(self, emb_szs, n_cont, out_sz, layers, p=0.5):\n",
    "        super().__init__()\n",
    "        self.embeds = nn.ModuleList([nn.Embedding(ni, nf) for ni,nf in emb_szs])\n",
    "        self.emb_drop = nn.Dropout(p)\n",
    "        self.bn_cont = nn.BatchNorm1d(n_cont)\n",
    "        \n",
    "        layerlist = []\n",
    "        n_emb = sum((nf for ni,nf in emb_szs))\n",
    "        n_in = n_emb + n_cont\n",
    "        \n",
    "        for i in layers:\n",
    "            layerlist.append(nn.Linear(n_in,i)) \n",
    "            layerlist.append(nn.ReLU(inplace=True))\n",
    "            layerlist.append(nn.BatchNorm1d(i))\n",
    "            layerlist.append(nn.Dropout(p))\n",
    "            n_in = i\n",
    "        layerlist.append(nn.Linear(layers[-1],out_sz))\n",
    "            \n",
    "        self.layers = nn.Sequential(*layerlist)\n",
    "    \n",
    "    def forward(self, x_cat, x_cont):\n",
    "        embeddings = []\n",
    "        for i,e in enumerate(self.embeds):\n",
    "            embeddings.append(e(x_cat[:,i]))\n",
    "        x = torch.cat(embeddings, 1)\n",
    "        x = self.emb_drop(x)\n",
    "        \n",
    "        x_cont = self.bn_cont(x_cont)\n",
    "        x = torch.cat([x, x_cont], 1)\n",
    "        x = self.layers(x)\n",
    "        return x"
   ]
  },
  {
   "cell_type": "code",
   "execution_count": 963,
   "id": "57af90b0",
   "metadata": {},
   "outputs": [
    {
     "data": {
      "text/plain": [
       "TabularModel(\n",
       "  (embeds): ModuleList(\n",
       "    (0-3): 4 x Embedding(2, 1)\n",
       "    (4): Embedding(5, 3)\n",
       "    (5): Embedding(2, 1)\n",
       "    (6): Embedding(4, 2)\n",
       "  )\n",
       "  (emb_drop): Dropout(p=0.2, inplace=False)\n",
       "  (bn_cont): BatchNorm1d(3, eps=1e-05, momentum=0.1, affine=True, track_running_stats=True)\n",
       "  (layers): Sequential(\n",
       "    (0): Linear(in_features=13, out_features=400, bias=True)\n",
       "    (1): ReLU(inplace=True)\n",
       "    (2): BatchNorm1d(400, eps=1e-05, momentum=0.1, affine=True, track_running_stats=True)\n",
       "    (3): Dropout(p=0.2, inplace=False)\n",
       "    (4): Linear(in_features=400, out_features=200, bias=True)\n",
       "    (5): ReLU(inplace=True)\n",
       "    (6): BatchNorm1d(200, eps=1e-05, momentum=0.1, affine=True, track_running_stats=True)\n",
       "    (7): Dropout(p=0.2, inplace=False)\n",
       "    (8): Linear(in_features=200, out_features=100, bias=True)\n",
       "    (9): ReLU(inplace=True)\n",
       "    (10): BatchNorm1d(100, eps=1e-05, momentum=0.1, affine=True, track_running_stats=True)\n",
       "    (11): Dropout(p=0.2, inplace=False)\n",
       "    (12): Linear(in_features=100, out_features=2, bias=True)\n",
       "  )\n",
       ")"
      ]
     },
     "execution_count": 963,
     "metadata": {},
     "output_type": "execute_result"
    }
   ],
   "source": [
    "torch.manual_seed(42)\n",
    "model = TabularModel(emb_szs, conts.shape[1], 2, [400,200,100], p=0.2)\n",
    "model"
   ]
  },
  {
   "cell_type": "code",
   "execution_count": 964,
   "id": "858584fe",
   "metadata": {},
   "outputs": [
    {
     "data": {
      "text/plain": [
       "TabularModel(\n",
       "  (embeds): ModuleList(\n",
       "    (0-3): 4 x Embedding(2, 1)\n",
       "    (4): Embedding(5, 3)\n",
       "    (5): Embedding(2, 1)\n",
       "    (6): Embedding(4, 2)\n",
       "  )\n",
       "  (emb_drop): Dropout(p=0.2, inplace=False)\n",
       "  (bn_cont): BatchNorm1d(3, eps=1e-05, momentum=0.1, affine=True, track_running_stats=True)\n",
       "  (layers): Sequential(\n",
       "    (0): Linear(in_features=13, out_features=400, bias=True)\n",
       "    (1): ReLU(inplace=True)\n",
       "    (2): BatchNorm1d(400, eps=1e-05, momentum=0.1, affine=True, track_running_stats=True)\n",
       "    (3): Dropout(p=0.2, inplace=False)\n",
       "    (4): Linear(in_features=400, out_features=200, bias=True)\n",
       "    (5): ReLU(inplace=True)\n",
       "    (6): BatchNorm1d(200, eps=1e-05, momentum=0.1, affine=True, track_running_stats=True)\n",
       "    (7): Dropout(p=0.2, inplace=False)\n",
       "    (8): Linear(in_features=200, out_features=100, bias=True)\n",
       "    (9): ReLU(inplace=True)\n",
       "    (10): BatchNorm1d(100, eps=1e-05, momentum=0.1, affine=True, track_running_stats=True)\n",
       "    (11): Dropout(p=0.2, inplace=False)\n",
       "    (12): Linear(in_features=100, out_features=2, bias=True)\n",
       "  )\n",
       ")"
      ]
     },
     "execution_count": 964,
     "metadata": {},
     "output_type": "execute_result"
    }
   ],
   "source": [
    "torch.manual_seed(42)\n",
    "model = TabularModel(emb_szs, conts.shape[1], 2, [400,200,100], p=0.2)\n",
    "model"
   ]
  },
  {
   "cell_type": "code",
   "execution_count": 965,
   "id": "80299126",
   "metadata": {},
   "outputs": [],
   "source": [
    "criterion = nn.CrossEntropyLoss()\n",
    "optimizer = torch.optim.Adam(model.parameters(), lr=0.001)"
   ]
  },
  {
   "cell_type": "code",
   "execution_count": 966,
   "id": "1ade7490",
   "metadata": {},
   "outputs": [],
   "source": [
    "batch_size = 9000\n",
    "test_size = 492\n",
    "\n",
    "cat_train = cats[:batch_size-test_size]\n",
    "cat_test = cats[batch_size-test_size:batch_size]\n",
    "con_train = conts[:batch_size-test_size]\n",
    "con_test = conts[batch_size-test_size:batch_size]\n",
    "y_train = y[:batch_size-test_size]\n",
    "y_test = y[batch_size-test_size:batch_size]"
   ]
  },
  {
   "cell_type": "code",
   "execution_count": 967,
   "id": "f879c43f",
   "metadata": {},
   "outputs": [
    {
     "name": "stdout",
     "output_type": "stream",
     "text": [
      "8508\n",
      "492\n"
     ]
    }
   ],
   "source": [
    "print(len(cat_train))\n",
    "print(len(cat_test))"
   ]
  },
  {
   "cell_type": "code",
   "execution_count": 968,
   "id": "69f0b8a6",
   "metadata": {},
   "outputs": [
    {
     "name": "stdout",
     "output_type": "stream",
     "text": [
      "epoch:   1  loss: 0.78529215\n",
      "epoch:  26  loss: 0.39030147\n",
      "epoch:  51  loss: 0.36971700\n",
      "epoch:  76  loss: 0.35802174\n",
      "epoch: 101  loss: 0.34266624\n",
      "epoch: 126  loss: 0.33270490\n",
      "epoch: 151  loss: 0.32106733\n",
      "epoch: 176  loss: 0.31011412\n",
      "epoch: 201  loss: 0.30155063\n",
      "epoch: 226  loss: 0.28929338\n",
      "epoch: 251  loss: 0.28591275\n",
      "epoch: 276  loss: 0.27791601\n",
      "epoch: 301  loss: 0.26663384\n",
      "epoch: 320  loss: 0.26165500\n",
      "\n",
      "Duration: 29 seconds\n"
     ]
    }
   ],
   "source": [
    "import time\n",
    "start_time = time.time()\n",
    "\n",
    "epochs = 320\n",
    "losses = []\n",
    "\n",
    "for i in range(epochs):\n",
    "    i+=1\n",
    "    y_pred = model(cat_train, con_train)\n",
    "    loss = criterion(y_pred, y_train)\n",
    "    losses.append(loss.detach().cpu().numpy())\n",
    "    \n",
    "    if i%25 == 1:\n",
    "        print(f'epoch: {i:3}  loss: {loss.item():10.8f}')\n",
    "\n",
    "    optimizer.zero_grad()\n",
    "    loss.backward()\n",
    "    optimizer.step()\n",
    "\n",
    "print(f'epoch: {i:3}  loss: {loss.item():10.8f}') \n",
    "print(f'\\nDuration: {time.time() - start_time:.0f} seconds')"
   ]
  },
  {
   "cell_type": "code",
   "execution_count": 969,
   "id": "e81ae98d",
   "metadata": {},
   "outputs": [
    {
     "data": {
      "image/png": "[encoded data removed]",
      "text/plain": [
       "<Figure size 640x480 with 1 Axes>"
      ]
     },
     "metadata": {},
     "output_type": "display_data"
    }
   ],
   "source": [
    "plt.plot(range(epochs), losses)\n",
    "plt.ylabel('Cross Entropy Loss')\n",
    "plt.xlabel('epoch');"
   ]
  },
  {
   "cell_type": "code",
   "execution_count": 970,
   "id": "42f96865",
   "metadata": {},
   "outputs": [
    {
     "name": "stdout",
     "output_type": "stream",
     "text": [
      "CE Loss: 0.32603589\n"
     ]
    }
   ],
   "source": [
    "with torch.no_grad():\n",
    "    y_val = model(cat_test, con_test)\n",
    "    loss = criterion(y_val, y_test)\n",
    "print(f'CE Loss: {loss:.8f}')"
   ]
  },
  {
   "cell_type": "code",
   "execution_count": 971,
   "id": "4d7f02f2",
   "metadata": {},
   "outputs": [
    {
     "name": "stdout",
     "output_type": "stream",
     "text": [
      "MODEL OUTPUT               ARGMAX  Y_TEST\n",
      "tensor([ 0.4007, -1.3494])    0      0   \n",
      "tensor([ 3.4616, -3.1494])    0      0   \n",
      "tensor([-2.6431,  2.6452])    1      1   \n",
      "tensor([ 0.4742, -0.5199])    0      0   \n",
      "tensor([ 0.7447, -0.1962])    0      0   \n",
      "tensor([0.3690, 0.8679])      1      1   \n",
      "tensor([-1.8050,  2.4639])    1      1   \n",
      "tensor([ 0.4860, -0.1036])    0      0   \n",
      "tensor([-0.9227,  1.4487])    1      1   \n",
      "tensor([-2.7083,  2.6339])    1      1   \n",
      "tensor([ 2.0814, -3.3287])    0      0   \n",
      "tensor([-0.9228,  2.4496])    1      1   \n",
      "tensor([ 0.3859, -0.8073])    0      0   \n",
      "tensor([ 4.8810, -5.4747])    0      0   \n",
      "tensor([ 2.2384, -1.7165])    0      0   \n",
      "tensor([ 1.6206, -1.1963])    0      0   \n",
      "tensor([-1.0944,  1.7828])    1      1   \n",
      "tensor([ 2.9573, -2.8388])    0      0   \n",
      "tensor([-0.0986,  1.0266])    1      1   \n",
      "tensor([-3.3433,  5.3127])    1      1   \n",
      "tensor([ 1.2504, -0.8490])    0      0   \n",
      "tensor([0.8331, 0.0874])      0      1   \n",
      "tensor([-0.0090,  1.6991])    1      0   \n",
      "tensor([ 4.7472, -4.7818])    0      0   \n",
      "tensor([0.1920, 0.7877])      1      1   \n",
      "tensor([ 2.1873, -2.1501])    0      0   \n",
      "tensor([-1.2530,  2.1752])    1      1   \n",
      "tensor([-7.1344,  8.7197])    1      1   \n",
      "tensor([ 2.7881, -1.5961])    0      0   \n",
      "tensor([ 2.5454, -2.8154])    0      0   \n",
      "tensor([ 3.2537, -3.3525])    0      0   \n",
      "tensor([0.7140, 0.8813])      1      1   \n",
      "tensor([ 2.8998, -3.2341])    0      0   \n",
      "tensor([ 3.3311, -1.8327])    0      0   \n",
      "tensor([ 2.4099, -2.0883])    0      0   \n",
      "tensor([-3.1522,  4.1747])    1      1   \n",
      "tensor([-0.3806,  0.6889])    1      1   \n",
      "tensor([-0.8974,  1.5060])    1      1   \n",
      "tensor([3.4049, 0.1634])      0      0   \n",
      "tensor([-1.0939,  1.3966])    1      0   \n",
      "tensor([-1.9854,  1.8704])    1      1   \n",
      "tensor([ 1.7961, -0.3571])    0      0   \n",
      "tensor([-0.8178,  0.8795])    1      1   \n",
      "tensor([0.4674, 1.3506])      1      1   \n",
      "tensor([-1.9731,  2.7320])    1      1   \n",
      "tensor([ 2.5140, -2.5907])    0      0   \n",
      "tensor([ 1.3254, -0.7492])    0      0   \n",
      "tensor([-0.6100, -0.7169])    0      0   \n",
      "tensor([ 3.1770, -3.1281])    0      0   \n",
      "tensor([0.9016, 0.0513])      0      0   \n",
      "tensor([ 2.9534, -5.8299])    0      0   \n",
      "tensor([ 6.0890, -6.9738])    0      0   \n",
      "tensor([0.0460, 0.4334])      1      1   \n",
      "tensor([ 3.7824, -3.6181])    0      0   \n",
      "tensor([ 3.8073, -2.7110])    0      0   \n",
      "tensor([-0.0276,  0.3892])    1      1   \n",
      "tensor([-2.0189,  1.1927])    1      1   \n",
      "tensor([-1.0470,  1.9494])    1      1   \n",
      "tensor([ 1.2597, -0.0351])    0      0   \n",
      "tensor([ 2.1376, -1.5318])    0      0   \n",
      "tensor([ 3.1141, -4.2848])    0      0   \n",
      "tensor([-0.8417,  1.2964])    1      1   \n",
      "tensor([-0.2482,  0.4493])    1      0   \n",
      "tensor([ 2.6818, -2.9054])    0      0   \n",
      "tensor([-1.8340,  3.4670])    1      1   \n",
      "tensor([-0.6210,  0.9143])    1      1   \n",
      "tensor([-1.4565,  3.4767])    1      1   \n",
      "tensor([-1.1969,  0.6972])    1      1   \n",
      "tensor([0.3191, 0.8263])      1      1   \n",
      "tensor([-0.7604,  0.3326])    1      0   \n",
      "tensor([-2.6312,  2.2080])    1      0   \n",
      "tensor([ 3.1620, -4.0143])    0      0   \n",
      "tensor([ 1.3352, -1.4032])    0      0   \n",
      "tensor([-0.9736,  1.6436])    1      1   \n",
      "tensor([-1.3368,  1.1560])    1      1   \n",
      "tensor([-0.8907,  1.0754])    1      1   \n",
      "tensor([ 1.2792, -1.5313])    0      0   \n",
      "tensor([ 4.6489, -5.4534])    0      0   \n",
      "tensor([ 3.7351, -4.9301])    0      0   \n",
      "tensor([ 2.1404, -0.7800])    0      0   \n",
      "tensor([0.4073, 0.9562])      1      1   \n",
      "tensor([-2.2896,  2.6356])    1      1   \n",
      "tensor([-0.0796,  2.3380])    1      1   \n",
      "tensor([-2.0701,  1.7389])    1      1   \n",
      "tensor([-0.4358,  1.3549])    1      1   \n",
      "tensor([-0.2666,  2.4416])    1      1   \n",
      "tensor([ 1.2730, -0.4723])    0      0   \n",
      "tensor([ 1.3157, -1.2332])    0      0   \n",
      "tensor([ 4.6730, -5.0757])    0      0   \n",
      "tensor([ 0.9272, -0.5288])    0      1   \n",
      "tensor([ 4.5565, -6.4192])    0      0   \n",
      "tensor([-1.7063,  0.9745])    1      1   \n",
      "tensor([-0.8217,  1.4019])    1      1   \n",
      "tensor([-0.9846,  2.2712])    1      1   \n",
      "tensor([-1.4015,  1.1039])    1      1   \n",
      "tensor([ 0.4439, -1.2938])    0      0   \n",
      "tensor([ 0.3215, -1.1276])    0      0   \n",
      "tensor([-5.8204,  7.9088])    1      1   \n",
      "tensor([-0.7617,  0.5793])    1      1   \n",
      "tensor([-0.6485,  1.7553])    1      0   \n",
      "tensor([0.1289, 0.3567])      1      1   \n",
      "tensor([-0.4281,  1.4238])    1      1   \n",
      "tensor([-0.9673,  2.0665])    1      1   \n",
      "tensor([ 4.0851, -6.3274])    0      0   \n",
      "tensor([-2.4351,  1.2110])    1      1   \n",
      "tensor([1.0898, 0.6780])      0      1   \n",
      "tensor([-1.9507,  1.6996])    1      1   \n",
      "tensor([ 4.6025, -6.3172])    0      0   \n",
      "tensor([-0.7003, -0.1023])    1      0   \n",
      "tensor([-2.1705,  1.4167])    1      1   \n",
      "tensor([ 4.8907, -6.2293])    0      0   \n",
      "tensor([-4.4054,  5.2188])    1      1   \n",
      "tensor([ 2.2284, -3.9672])    0      0   \n",
      "tensor([-1.7517,  1.8607])    1      1   \n",
      "tensor([ 1.8960, -1.1572])    0      0   \n",
      "tensor([-1.5669,  0.2750])    1      1   \n",
      "tensor([-0.0821,  0.4529])    1      1   \n",
      "tensor([-0.6855,  0.4274])    1      1   \n",
      "tensor([-1.0857,  1.8422])    1      1   \n",
      "tensor([ 0.9087, -2.4613])    0      0   \n",
      "tensor([ 1.7226, -2.3965])    0      0   \n",
      "tensor([ 1.9589, -1.9165])    0      0   \n",
      "tensor([ 3.3230, -2.5632])    0      0   \n",
      "tensor([ 0.4628, -0.1489])    0      1   \n",
      "tensor([-6.4399,  6.9764])    1      1   \n",
      "tensor([ 1.8344, -1.9413])    0      0   \n",
      "tensor([0.3613, 0.2112])      0      0   \n",
      "tensor([ 3.1771, -2.3430])    0      0   \n",
      "tensor([1.1879, 0.3973])      0      0   \n",
      "tensor([-6.6125,  6.0725])    1      1   \n",
      "tensor([-1.8886,  1.2237])    1      1   \n",
      "tensor([ 1.0994, -1.9493])    0      0   \n",
      "tensor([-3.2301,  2.7166])    1      1   \n",
      "tensor([-1.8720,  2.0465])    1      1   \n",
      "tensor([-1.7092,  0.7920])    1      1   \n",
      "tensor([ 1.3907, -1.1802])    0      0   \n",
      "tensor([ 1.4059, -0.1369])    0      1   \n",
      "tensor([0.1396, 0.3648])      1      1   \n",
      "tensor([ 0.6695, -1.8138])    0      0   \n",
      "tensor([ 7.3847, -7.7926])    0      0   \n",
      "tensor([0.0281, 0.9451])      1      1   \n",
      "tensor([-0.1579,  0.9939])    1      1   \n",
      "tensor([-0.3242,  0.2718])    1      1   \n",
      "tensor([-2.4931,  1.7475])    1      1   \n",
      "tensor([0.2578, 0.1153])      0      0   \n",
      "tensor([ 3.5736, -3.8359])    0      0   \n",
      "tensor([ 2.3690, -3.5170])    0      0   \n",
      "tensor([-1.6678,  1.2293])    1      1   \n",
      "tensor([ 2.4673, -1.3897])    0      0   \n",
      "tensor([-1.6165,  1.8672])    1      1   \n",
      "tensor([-0.0044,  0.4411])    1      1   \n",
      "tensor([0.4077, 0.3398])      0      1   \n",
      "tensor([ 4.1359, -4.3055])    0      0   \n",
      "tensor([0.0055, 1.9431])      1      0   \n",
      "tensor([ 4.7831, -6.6028])    0      0   \n",
      "tensor([ 5.0572, -6.1198])    0      0   \n",
      "tensor([ 2.8369, -4.9216])    0      0   \n",
      "tensor([ 3.4821, -3.2452])    0      0   \n",
      "tensor([-0.2424,  0.6871])    1      0   \n",
      "tensor([ 4.1099, -5.1641])    0      0   \n",
      "tensor([-5.4991,  6.9550])    1      1   \n",
      "tensor([-2.2817,  2.3386])    1      1   \n",
      "tensor([-0.7176,  0.7538])    1      0   \n",
      "tensor([0.8760, 0.3050])      0      0   \n",
      "tensor([-5.8929,  6.8179])    1      1   \n",
      "tensor([ 2.7056, -1.2276])    0      0   \n",
      "tensor([-0.4825,  0.5661])    1      0   \n",
      "tensor([ 5.0727, -3.7562])    0      0   \n",
      "tensor([-1.5172,  1.4985])    1      1   \n",
      "tensor([-1.0766,  2.4191])    1      1   \n",
      "tensor([0.8871, 0.8464])      0      1   \n",
      "tensor([ 1.4605, -1.5240])    0      0   \n",
      "tensor([ 11.7352, -10.8009])    0      0   \n",
      "tensor([-2.2269,  2.1229])    1      1   \n",
      "tensor([-1.6868,  1.6570])    1      1   \n",
      "tensor([-3.4391,  2.4172])    1      1   \n",
      "tensor([ 2.4121, -1.7179])    0      0   \n",
      "tensor([-2.6727,  1.6388])    1      1   \n",
      "tensor([-1.6520,  2.3727])    1      1   \n",
      "tensor([-0.6840,  0.3864])    1      1   \n",
      "tensor([-2.7242,  2.4183])    1      1   \n",
      "tensor([ 4.9122, -5.1595])    0      0   \n",
      "tensor([ 1.7823, -1.6840])    0      0   \n",
      "tensor([-1.8396,  2.4554])    1      0   \n",
      "tensor([-0.1627,  1.1822])    1      1   \n",
      "tensor([ 0.9659, -1.0262])    0      0   \n",
      "tensor([0.3664, 0.9585])      1      1   \n",
      "tensor([-0.1694,  1.0203])    1      1   \n",
      "tensor([-0.6977,  1.7990])    1      1   \n",
      "tensor([-0.4276,  0.0596])    1      1   \n",
      "tensor([-0.7387,  0.5953])    1      1   \n",
      "tensor([-2.0252,  1.2536])    1      1   \n",
      "tensor([-1.8310,  2.9705])    1      1   \n",
      "tensor([ 2.0260, -1.7765])    0      0   \n",
      "tensor([-2.9305,  3.0763])    1      1   \n",
      "tensor([ 1.3688, -2.2318])    0      0   \n",
      "tensor([ 4.9427, -7.0319])    0      0   \n",
      "tensor([ 2.8530, -2.9184])    0      0   \n",
      "tensor([ 6.6459, -6.5937])    0      0   \n",
      "tensor([-0.5995,  1.6948])    1      1   \n",
      "\n",
      "181 out of 200 = 90.50% correct\n"
     ]
    }
   ],
   "source": [
    "rows = 200\n",
    "correct = 0\n",
    "groundTruth = []\n",
    "predictedValues = []\n",
    "print(f'{\"MODEL OUTPUT\":26} ARGMAX  Y_TEST')\n",
    "for i in range(rows):\n",
    "    print(f'{str(y_val[i]):26} {y_val[i].argmax():^7}{y_test[i]:^7}')\n",
    "    predictedValues.append(y_val[i].argmax().item())\n",
    "    groundTruth.append(y_test[i])\n",
    "    if y_val[i].argmax().item() == y_test[i]:\n",
    "        correct += 1\n",
    "print(f'\\n{correct} out of {rows} = {100*correct/rows:.2f}% correct')"
   ]
  },
  {
   "cell_type": "code",
   "execution_count": 972,
   "id": "31e355e8",
   "metadata": {},
   "outputs": [
    {
     "name": "stdout",
     "output_type": "stream",
     "text": [
      "      Metric     Score\n",
      "0   Accuracy  0.905000\n",
      "1  Precision  0.885714\n",
      "2     Recall  0.930000\n",
      "3   F1 Score  0.907317\n"
     ]
    }
   ],
   "source": [
    "from sklearn.metrics import f1_score, accuracy_score, precision_score, recall_score\n",
    "import pandas as pd\n",
    "\n",
    "# Tính toán các chỉ số đánh giá\n",
    "ann_accuracy = accuracy_score(groundTruth, predictedValues)\n",
    "ann_precision = precision_score(groundTruth, predictedValues)\n",
    "ann_recall = recall_score(groundTruth, predictedValues)\n",
    "ann_f1 = f1_score(groundTruth, predictedValues)\n",
    "\n",
    "# Tạo dataframe kết quả\n",
    "results = pd.DataFrame({\n",
    "    'Metric': ['Accuracy', 'Precision', 'Recall', 'F1 Score'],\n",
    "    'Score': [ann_accuracy, ann_precision, ann_recall, ann_f1]\n",
    "})\n",
    "\n",
    "print(results)"
   ]
  },
  {
   "cell_type": "markdown",
   "id": "dba688c5",
   "metadata": {},
   "source": [
    "Mô hình ANN đạt được kết quả ấn tượng với giá trị hàm mất mát Cross Entropy là 0.32603589. Độ chính xác và F1-score của mô hình này đều cao là 90%, cho thấy khả năng phân loại chính xác nguy cơ đột quỵ dựa trên các đặc trưng đầu vào. Điều này chứng tỏ ANN có khả năng học và tổng quát hóa tốt từ dữ liệu phức tạp."
   ]
  },
  {
   "cell_type": "markdown",
   "id": "90f8873b",
   "metadata": {},
   "source": [
    "# 5. Decision Tree"
   ]
  },
  {
   "cell_type": "code",
   "execution_count": 973,
   "id": "c75fb5e6",
   "metadata": {},
   "outputs": [],
   "source": [
    "from sklearn.tree import DecisionTreeClassifier\n",
    "from sklearn.metrics import accuracy_score, f1_score, classification_report, precision_score, recall_score\n",
    "from sklearn.model_selection import train_test_split\n",
    "from sklearn.model_selection import GridSearchCV\n",
    "import pandas as pd"
   ]
  },
  {
   "cell_type": "code",
   "execution_count": 974,
   "id": "6de619d6",
   "metadata": {},
   "outputs": [],
   "source": [
    "# Kết hợp các tính năng phân loại và liên tục\n",
    "X_combined = np.hstack((cats, conts))\n",
    "X_train, X_test, y_train, y_test = train_test_split(X_combined, y, test_size=0.2, random_state=42)"
   ]
  },
  {
   "cell_type": "code",
   "execution_count": 975,
   "id": "c603413f",
   "metadata": {},
   "outputs": [],
   "source": [
    "# Xác định the parameter grid\n",
    "param_grid = {\n",
    "    'max_depth': [3, 5, 7, 10],\n",
    "    'min_samples_split': [2, 5, 10],\n",
    "    'min_samples_leaf': [1, 2, 4],\n",
    "    'criterion': ['gini', 'entropy']\n",
    "}\n",
    "# Tạo the Decision Tree Classifier\n",
    "cart_model = DecisionTreeClassifier(random_state=42)\n"
   ]
  },
  {
   "cell_type": "code",
   "execution_count": 976,
   "id": "293ec264",
   "metadata": {},
   "outputs": [
    {
     "name": "stdout",
     "output_type": "stream",
     "text": [
      "Fitting 5 folds for each of 72 candidates, totalling 360 fits\n",
      "Best parameters found: {'criterion': 'gini', 'max_depth': 10, 'min_samples_leaf': 1, 'min_samples_split': 2}\n"
     ]
    }
   ],
   "source": [
    "# Khởi tạo tìm kiếm lưới\n",
    "grid_search = GridSearchCV(estimator=cart_model, param_grid=param_grid, cv=5, n_jobs=-1, verbose=2)\n",
    "# Fit Grid Search\n",
    "grid_search.fit(X_train, y_train)\n",
    "\n",
    "# Get the best parameters\n",
    "best_params = grid_search.best_params_\n",
    "print(f\"Best parameters found: {best_params}\")"
   ]
  },
  {
   "cell_type": "code",
   "execution_count": 977,
   "id": "5f2b33a0",
   "metadata": {},
   "outputs": [
    {
     "data": {
      "text/html": [
       "<style>#sk-container-id-44 {\n",
       "  /* Definition of color scheme common for light and dark mode */\n",
       "  --sklearn-color-text: black;\n",
       "  --sklearn-color-line: gray;\n",
       "  /* Definition of color scheme for unfitted estimators */\n",
       "  --sklearn-color-unfitted-level-0: #fff5e6;\n",
       "  --sklearn-color-unfitted-level-1: #f6e4d2;\n",
       "  --sklearn-color-unfitted-level-2: #ffe0b3;\n",
       "  --sklearn-color-unfitted-level-3: chocolate;\n",
       "  /* Definition of color scheme for fitted estimators */\n",
       "  --sklearn-color-fitted-level-0: #f0f8ff;\n",
       "  --sklearn-color-fitted-level-1: #d4ebff;\n",
       "  --sklearn-color-fitted-level-2: #b3dbfd;\n",
       "  --sklearn-color-fitted-level-3: cornflowerblue;\n",
       "\n",
       "  /* Specific color for light theme */\n",
       "  --sklearn-color-text-on-default-background: var(--sg-text-color, var(--theme-code-foreground, var(--jp-content-font-color1, black)));\n",
       "  --sklearn-color-background: var(--sg-background-color, var(--theme-background, var(--jp-layout-color0, white)));\n",
       "  --sklearn-color-border-box: var(--sg-text-color, var(--theme-code-foreground, var(--jp-content-font-color1, black)));\n",
       "  --sklearn-color-icon: #696969;\n",
       "\n",
       "  @media (prefers-color-scheme: dark) {\n",
       "    /* Redefinition of color scheme for dark theme */\n",
       "    --sklearn-color-text-on-default-background: var(--sg-text-color, var(--theme-code-foreground, var(--jp-content-font-color1, white)));\n",
       "    --sklearn-color-background: var(--sg-background-color, var(--theme-background, var(--jp-layout-color0, #111)));\n",
       "    --sklearn-color-border-box: var(--sg-text-color, var(--theme-code-foreground, var(--jp-content-font-color1, white)));\n",
       "    --sklearn-color-icon: #878787;\n",
       "  }\n",
       "}\n",
       "\n",
       "#sk-container-id-44 {\n",
       "  color: var(--sklearn-color-text);\n",
       "}\n",
       "\n",
       "#sk-container-id-44 pre {\n",
       "  padding: 0;\n",
       "}\n",
       "\n",
       "#sk-container-id-44 input.sk-hidden--visually {\n",
       "  border: 0;\n",
       "  clip: rect(1px 1px 1px 1px);\n",
       "  clip: rect(1px, 1px, 1px, 1px);\n",
       "  height: 1px;\n",
       "  margin: -1px;\n",
       "  overflow: hidden;\n",
       "  padding: 0;\n",
       "  position: absolute;\n",
       "  width: 1px;\n",
       "}\n",
       "\n",
       "#sk-container-id-44 div.sk-dashed-wrapped {\n",
       "  border: 1px dashed var(--sklearn-color-line);\n",
       "  margin: 0 0.4em 0.5em 0.4em;\n",
       "  box-sizing: border-box;\n",
       "  padding-bottom: 0.4em;\n",
       "  background-color: var(--sklearn-color-background);\n",
       "}\n",
       "\n",
       "#sk-container-id-44 div.sk-container {\n",
       "  /* jupyter's `normalize.less` sets `[hidden] { display: none; }`\n",
       "     but bootstrap.min.css set `[hidden] { display: none !important; }`\n",
       "     so we also need the `!important` here to be able to override the\n",
       "     default hidden behavior on the sphinx rendered scikit-learn.org.\n",
       "     See: https://github.com/scikit-learn/scikit-learn/issues/21755 */\n",
       "  display: inline-block !important;\n",
       "  position: relative;\n",
       "}\n",
       "\n",
       "#sk-container-id-44 div.sk-text-repr-fallback {\n",
       "  display: none;\n",
       "}\n",
       "\n",
       "div.sk-parallel-item,\n",
       "div.sk-serial,\n",
       "div.sk-item {\n",
       "  /* draw centered vertical line to link estimators */\n",
       "  background-image: linear-gradient(var(--sklearn-color-text-on-default-background), var(--sklearn-color-text-on-default-background));\n",
       "  background-size: 2px 100%;\n",
       "  background-repeat: no-repeat;\n",
       "  background-position: center center;\n",
       "}\n",
       "\n",
       "/* Parallel-specific style estimator block */\n",
       "\n",
       "#sk-container-id-44 div.sk-parallel-item::after {\n",
       "  content: \"\";\n",
       "  width: 100%;\n",
       "  border-bottom: 2px solid var(--sklearn-color-text-on-default-background);\n",
       "  flex-grow: 1;\n",
       "}\n",
       "\n",
       "#sk-container-id-44 div.sk-parallel {\n",
       "  display: flex;\n",
       "  align-items: stretch;\n",
       "  justify-content: center;\n",
       "  background-color: var(--sklearn-color-background);\n",
       "  position: relative;\n",
       "}\n",
       "\n",
       "#sk-container-id-44 div.sk-parallel-item {\n",
       "  display: flex;\n",
       "  flex-direction: column;\n",
       "}\n",
       "\n",
       "#sk-container-id-44 div.sk-parallel-item:first-child::after {\n",
       "  align-self: flex-end;\n",
       "  width: 50%;\n",
       "}\n",
       "\n",
       "#sk-container-id-44 div.sk-parallel-item:last-child::after {\n",
       "  align-self: flex-start;\n",
       "  width: 50%;\n",
       "}\n",
       "\n",
       "#sk-container-id-44 div.sk-parallel-item:only-child::after {\n",
       "  width: 0;\n",
       "}\n",
       "\n",
       "/* Serial-specific style estimator block */\n",
       "\n",
       "#sk-container-id-44 div.sk-serial {\n",
       "  display: flex;\n",
       "  flex-direction: column;\n",
       "  align-items: center;\n",
       "  background-color: var(--sklearn-color-background);\n",
       "  padding-right: 1em;\n",
       "  padding-left: 1em;\n",
       "}\n",
       "\n",
       "\n",
       "/* Toggleable style: style used for estimator/Pipeline/ColumnTransformer box that is\n",
       "clickable and can be expanded/collapsed.\n",
       "- Pipeline and ColumnTransformer use this feature and define the default style\n",
       "- Estimators will overwrite some part of the style using the `sk-estimator` class\n",
       "*/\n",
       "\n",
       "/* Pipeline and ColumnTransformer style (default) */\n",
       "\n",
       "#sk-container-id-44 div.sk-toggleable {\n",
       "  /* Default theme specific background. It is overwritten whether we have a\n",
       "  specific estimator or a Pipeline/ColumnTransformer */\n",
       "  background-color: var(--sklearn-color-background);\n",
       "}\n",
       "\n",
       "/* Toggleable label */\n",
       "#sk-container-id-44 label.sk-toggleable__label {\n",
       "  cursor: pointer;\n",
       "  display: block;\n",
       "  width: 100%;\n",
       "  margin-bottom: 0;\n",
       "  padding: 0.5em;\n",
       "  box-sizing: border-box;\n",
       "  text-align: center;\n",
       "}\n",
       "\n",
       "#sk-container-id-44 label.sk-toggleable__label-arrow:before {\n",
       "  /* Arrow on the left of the label */\n",
       "  content: \"▸\";\n",
       "  float: left;\n",
       "  margin-right: 0.25em;\n",
       "  color: var(--sklearn-color-icon);\n",
       "}\n",
       "\n",
       "#sk-container-id-44 label.sk-toggleable__label-arrow:hover:before {\n",
       "  color: var(--sklearn-color-text);\n",
       "}\n",
       "\n",
       "/* Toggleable content - dropdown */\n",
       "\n",
       "#sk-container-id-44 div.sk-toggleable__content {\n",
       "  max-height: 0;\n",
       "  max-width: 0;\n",
       "  overflow: hidden;\n",
       "  text-align: left;\n",
       "  /* unfitted */\n",
       "  background-color: var(--sklearn-color-unfitted-level-0);\n",
       "}\n",
       "\n",
       "#sk-container-id-44 div.sk-toggleable__content.fitted {\n",
       "  /* fitted */\n",
       "  background-color: var(--sklearn-color-fitted-level-0);\n",
       "}\n",
       "\n",
       "#sk-container-id-44 div.sk-toggleable__content pre {\n",
       "  margin: 0.2em;\n",
       "  border-radius: 0.25em;\n",
       "  color: var(--sklearn-color-text);\n",
       "  /* unfitted */\n",
       "  background-color: var(--sklearn-color-unfitted-level-0);\n",
       "}\n",
       "\n",
       "#sk-container-id-44 div.sk-toggleable__content.fitted pre {\n",
       "  /* unfitted */\n",
       "  background-color: var(--sklearn-color-fitted-level-0);\n",
       "}\n",
       "\n",
       "#sk-container-id-44 input.sk-toggleable__control:checked~div.sk-toggleable__content {\n",
       "  /* Expand drop-down */\n",
       "  max-height: 200px;\n",
       "  max-width: 100%;\n",
       "  overflow: auto;\n",
       "}\n",
       "\n",
       "#sk-container-id-44 input.sk-toggleable__control:checked~label.sk-toggleable__label-arrow:before {\n",
       "  content: \"▾\";\n",
       "}\n",
       "\n",
       "/* Pipeline/ColumnTransformer-specific style */\n",
       "\n",
       "#sk-container-id-44 div.sk-label input.sk-toggleable__control:checked~label.sk-toggleable__label {\n",
       "  color: var(--sklearn-color-text);\n",
       "  background-color: var(--sklearn-color-unfitted-level-2);\n",
       "}\n",
       "\n",
       "#sk-container-id-44 div.sk-label.fitted input.sk-toggleable__control:checked~label.sk-toggleable__label {\n",
       "  background-color: var(--sklearn-color-fitted-level-2);\n",
       "}\n",
       "\n",
       "/* Estimator-specific style */\n",
       "\n",
       "/* Colorize estimator box */\n",
       "#sk-container-id-44 div.sk-estimator input.sk-toggleable__control:checked~label.sk-toggleable__label {\n",
       "  /* unfitted */\n",
       "  background-color: var(--sklearn-color-unfitted-level-2);\n",
       "}\n",
       "\n",
       "#sk-container-id-44 div.sk-estimator.fitted input.sk-toggleable__control:checked~label.sk-toggleable__label {\n",
       "  /* fitted */\n",
       "  background-color: var(--sklearn-color-fitted-level-2);\n",
       "}\n",
       "\n",
       "#sk-container-id-44 div.sk-label label.sk-toggleable__label,\n",
       "#sk-container-id-44 div.sk-label label {\n",
       "  /* The background is the default theme color */\n",
       "  color: var(--sklearn-color-text-on-default-background);\n",
       "}\n",
       "\n",
       "/* On hover, darken the color of the background */\n",
       "#sk-container-id-44 div.sk-label:hover label.sk-toggleable__label {\n",
       "  color: var(--sklearn-color-text);\n",
       "  background-color: var(--sklearn-color-unfitted-level-2);\n",
       "}\n",
       "\n",
       "/* Label box, darken color on hover, fitted */\n",
       "#sk-container-id-44 div.sk-label.fitted:hover label.sk-toggleable__label.fitted {\n",
       "  color: var(--sklearn-color-text);\n",
       "  background-color: var(--sklearn-color-fitted-level-2);\n",
       "}\n",
       "\n",
       "/* Estimator label */\n",
       "\n",
       "#sk-container-id-44 div.sk-label label {\n",
       "  font-family: monospace;\n",
       "  font-weight: bold;\n",
       "  display: inline-block;\n",
       "  line-height: 1.2em;\n",
       "}\n",
       "\n",
       "#sk-container-id-44 div.sk-label-container {\n",
       "  text-align: center;\n",
       "}\n",
       "\n",
       "/* Estimator-specific */\n",
       "#sk-container-id-44 div.sk-estimator {\n",
       "  font-family: monospace;\n",
       "  border: 1px dotted var(--sklearn-color-border-box);\n",
       "  border-radius: 0.25em;\n",
       "  box-sizing: border-box;\n",
       "  margin-bottom: 0.5em;\n",
       "  /* unfitted */\n",
       "  background-color: var(--sklearn-color-unfitted-level-0);\n",
       "}\n",
       "\n",
       "#sk-container-id-44 div.sk-estimator.fitted {\n",
       "  /* fitted */\n",
       "  background-color: var(--sklearn-color-fitted-level-0);\n",
       "}\n",
       "\n",
       "/* on hover */\n",
       "#sk-container-id-44 div.sk-estimator:hover {\n",
       "  /* unfitted */\n",
       "  background-color: var(--sklearn-color-unfitted-level-2);\n",
       "}\n",
       "\n",
       "#sk-container-id-44 div.sk-estimator.fitted:hover {\n",
       "  /* fitted */\n",
       "  background-color: var(--sklearn-color-fitted-level-2);\n",
       "}\n",
       "\n",
       "/* Specification for estimator info (e.g. \"i\" and \"?\") */\n",
       "\n",
       "/* Common style for \"i\" and \"?\" */\n",
       "\n",
       ".sk-estimator-doc-link,\n",
       "a:link.sk-estimator-doc-link,\n",
       "a:visited.sk-estimator-doc-link {\n",
       "  float: right;\n",
       "  font-size: smaller;\n",
       "  line-height: 1em;\n",
       "  font-family: monospace;\n",
       "  background-color: var(--sklearn-color-background);\n",
       "  border-radius: 1em;\n",
       "  height: 1em;\n",
       "  width: 1em;\n",
       "  text-decoration: none !important;\n",
       "  margin-left: 1ex;\n",
       "  /* unfitted */\n",
       "  border: var(--sklearn-color-unfitted-level-1) 1pt solid;\n",
       "  color: var(--sklearn-color-unfitted-level-1);\n",
       "}\n",
       "\n",
       ".sk-estimator-doc-link.fitted,\n",
       "a:link.sk-estimator-doc-link.fitted,\n",
       "a:visited.sk-estimator-doc-link.fitted {\n",
       "  /* fitted */\n",
       "  border: var(--sklearn-color-fitted-level-1) 1pt solid;\n",
       "  color: var(--sklearn-color-fitted-level-1);\n",
       "}\n",
       "\n",
       "/* On hover */\n",
       "div.sk-estimator:hover .sk-estimator-doc-link:hover,\n",
       ".sk-estimator-doc-link:hover,\n",
       "div.sk-label-container:hover .sk-estimator-doc-link:hover,\n",
       ".sk-estimator-doc-link:hover {\n",
       "  /* unfitted */\n",
       "  background-color: var(--sklearn-color-unfitted-level-3);\n",
       "  color: var(--sklearn-color-background);\n",
       "  text-decoration: none;\n",
       "}\n",
       "\n",
       "div.sk-estimator.fitted:hover .sk-estimator-doc-link.fitted:hover,\n",
       ".sk-estimator-doc-link.fitted:hover,\n",
       "div.sk-label-container:hover .sk-estimator-doc-link.fitted:hover,\n",
       ".sk-estimator-doc-link.fitted:hover {\n",
       "  /* fitted */\n",
       "  background-color: var(--sklearn-color-fitted-level-3);\n",
       "  color: var(--sklearn-color-background);\n",
       "  text-decoration: none;\n",
       "}\n",
       "\n",
       "/* Span, style for the box shown on hovering the info icon */\n",
       ".sk-estimator-doc-link span {\n",
       "  display: none;\n",
       "  z-index: 9999;\n",
       "  position: relative;\n",
       "  font-weight: normal;\n",
       "  right: .2ex;\n",
       "  padding: .5ex;\n",
       "  margin: .5ex;\n",
       "  width: min-content;\n",
       "  min-width: 20ex;\n",
       "  max-width: 50ex;\n",
       "  color: var(--sklearn-color-text);\n",
       "  box-shadow: 2pt 2pt 4pt #999;\n",
       "  /* unfitted */\n",
       "  background: var(--sklearn-color-unfitted-level-0);\n",
       "  border: .5pt solid var(--sklearn-color-unfitted-level-3);\n",
       "}\n",
       "\n",
       ".sk-estimator-doc-link.fitted span {\n",
       "  /* fitted */\n",
       "  background: var(--sklearn-color-fitted-level-0);\n",
       "  border: var(--sklearn-color-fitted-level-3);\n",
       "}\n",
       "\n",
       ".sk-estimator-doc-link:hover span {\n",
       "  display: block;\n",
       "}\n",
       "\n",
       "/* \"?\"-specific style due to the `<a>` HTML tag */\n",
       "\n",
       "#sk-container-id-44 a.estimator_doc_link {\n",
       "  float: right;\n",
       "  font-size: 1rem;\n",
       "  line-height: 1em;\n",
       "  font-family: monospace;\n",
       "  background-color: var(--sklearn-color-background);\n",
       "  border-radius: 1rem;\n",
       "  height: 1rem;\n",
       "  width: 1rem;\n",
       "  text-decoration: none;\n",
       "  /* unfitted */\n",
       "  color: var(--sklearn-color-unfitted-level-1);\n",
       "  border: var(--sklearn-color-unfitted-level-1) 1pt solid;\n",
       "}\n",
       "\n",
       "#sk-container-id-44 a.estimator_doc_link.fitted {\n",
       "  /* fitted */\n",
       "  border: var(--sklearn-color-fitted-level-1) 1pt solid;\n",
       "  color: var(--sklearn-color-fitted-level-1);\n",
       "}\n",
       "\n",
       "/* On hover */\n",
       "#sk-container-id-44 a.estimator_doc_link:hover {\n",
       "  /* unfitted */\n",
       "  background-color: var(--sklearn-color-unfitted-level-3);\n",
       "  color: var(--sklearn-color-background);\n",
       "  text-decoration: none;\n",
       "}\n",
       "\n",
       "#sk-container-id-44 a.estimator_doc_link.fitted:hover {\n",
       "  /* fitted */\n",
       "  background-color: var(--sklearn-color-fitted-level-3);\n",
       "}\n",
       "</style><div id=\"sk-container-id-44\" class=\"sk-top-container\"><div class=\"sk-text-repr-fallback\"><pre>DecisionTreeClassifier(max_depth=10, random_state=42)</pre><b>In a Jupyter environment, please rerun this cell to show the HTML representation or trust the notebook. <br />On GitHub, the HTML representation is unable to render, please try loading this page with nbviewer.org.</b></div><div class=\"sk-container\" hidden><div class=\"sk-item\"><div class=\"sk-estimator fitted sk-toggleable\"><input class=\"sk-toggleable__control sk-hidden--visually\" id=\"sk-estimator-id-44\" type=\"checkbox\" checked><label for=\"sk-estimator-id-44\" class=\"sk-toggleable__label fitted sk-toggleable__label-arrow fitted\">&nbsp;&nbsp;DecisionTreeClassifier<a class=\"sk-estimator-doc-link fitted\" rel=\"noreferrer\" target=\"_blank\" href=\"https://scikit-learn.org/1.4/modules/generated/sklearn.tree.DecisionTreeClassifier.html\">?<span>Documentation for DecisionTreeClassifier</span></a><span class=\"sk-estimator-doc-link fitted\">i<span>Fitted</span></span></label><div class=\"sk-toggleable__content fitted\"><pre>DecisionTreeClassifier(max_depth=10, random_state=42)</pre></div> </div></div></div></div>"
      ],
      "text/plain": [
       "DecisionTreeClassifier(max_depth=10, random_state=42)"
      ]
     },
     "execution_count": 977,
     "metadata": {},
     "output_type": "execute_result"
    }
   ],
   "source": [
    "best_cart_model = DecisionTreeClassifier(**best_params, random_state=42)\n",
    "best_cart_model.fit(X_train, y_train)"
   ]
  },
  {
   "cell_type": "code",
   "execution_count": 978,
   "id": "8da07494",
   "metadata": {},
   "outputs": [
    {
     "name": "stdout",
     "output_type": "stream",
     "text": [
      "      Metric     Score\n",
      "0   Accuracy  0.889942\n",
      "1  Precision  0.854206\n",
      "2     Recall  0.945191\n",
      "3   F1 Score  0.897398\n"
     ]
    }
   ],
   "source": [
    "# Dự đoán on the test data\n",
    "y_pred = best_cart_model.predict(X_test)\n",
    "\n",
    "# Đánh giá hiệu suất\n",
    "# Tính các chỉ số đánh giá\n",
    "dt_accuracy = accuracy_score(y_test, y_pred)\n",
    "dt_precision = precision_score(y_test, y_pred)\n",
    "dt_recall = recall_score(y_test, y_pred)\n",
    "dt_f1 = f1_score(y_test, y_pred)\n",
    "\n",
    "# Tạo dataframe kết quả\n",
    "results = pd.DataFrame({\n",
    "    'Metric': ['Accuracy', 'Precision', 'Recall', 'F1 Score'],\n",
    "    'Score': [dt_accuracy, dt_precision, dt_recall, dt_f1]\n",
    "})\n",
    "\n",
    "print(results)"
   ]
  },
  {
   "cell_type": "markdown",
   "id": "7baa2cdd",
   "metadata": {},
   "source": [
    "Mô hình Cây Quyết Định (CART): Mô hình CART cũng đạt được hiệu suất cao với độ chính xác 88% và F1-score là 0.89. Báo cáo phân loại cho thấy mô hình dự đoán chính xác và hiệu quả cho cả hai lớp. Quá trình tìm kiếm tham số tối ưu thông qua GridSearchCV giúp mô hình đạt được cấu hình tốt nhất, nâng cao hiệu suất tổng thể."
   ]
  },
  {
   "cell_type": "markdown",
   "id": "51da31df",
   "metadata": {},
   "source": [
    "Tóm lại, cả hai mô hình ANN và CART đều chứng minh được hiệu suất tốt trong việc dự đoán nguy cơ đột quỵ. ANN cho thấy khả năng mạnh mẽ trong việc xử lý dữ liệu phức tạp và phi tuyến tính, trong khi CART cung cấp các dự đoán dễ hiểu và chính xác với thời gian huấn luyện nhanh chóng. Việc lựa chọn mô hình nào phù hợp phụ thuộc vào yêu cầu cụ thể của bài toán và sự ưu tiên giữa hiệu suất dự đoán và khả năng giải thích mô hình"
   ]
  },
  {
   "cell_type": "markdown",
   "id": "d5128d33",
   "metadata": {},
   "source": [
    "# 6. Hồi quy Logarit"
   ]
  },
  {
   "cell_type": "markdown",
   "id": "3e53a9bc",
   "metadata": {},
   "source": [
    "## Thông tin về Ma trận hỗn loạn và đường cong ROC"
   ]
  },
  {
   "cell_type": "code",
   "execution_count": 36,
   "id": "657a1eb7",
   "metadata": {},
   "outputs": [],
   "source": [
    "import pandas as pd\n",
    "import numpy as np\n",
    "import seaborn as sns\n",
    "import matplotlib.pyplot as plt\n",
    "import warnings\n",
    "\n",
    "from sklearn.metrics import classification_report, f1_score\n",
    "from xgboost import XGBClassifier\n",
    "from sklearn.model_selection import train_test_split\n",
    "from sklearn.linear_model import LogisticRegression\n",
    "from sklearn.metrics import accuracy_score, roc_curve, roc_auc_score, classification_report, confusion_matrix, recall_score, precision_score, f1_score\n",
    "from sklearn.impute import SimpleImputer"
   ]
  },
  {
   "cell_type": "code",
   "execution_count": 37,
   "id": "0875b647",
   "metadata": {},
   "outputs": [],
   "source": [
    "def plot_confusion_matrix(model, y_test, y_pred, case):\n",
    "    cm = confusion_matrix(y_test, y_pred)\n",
    "    \n",
    "    # Vẽ confusion matrix\n",
    "    plt.figure(figsize=(8, 6))\n",
    "    sns.heatmap(cm, annot=True, cmap='Greens', fmt='g')\n",
    "    plt.xlabel('Predicted labels')\n",
    "    plt.ylabel('True labels')\n",
    "    plt.title(f'Confusion Matrix - {type(model).__name__}')\n",
    "    plt.show()"
   ]
  },
  {
   "cell_type": "code",
   "execution_count": 38,
   "id": "ef64dd89",
   "metadata": {},
   "outputs": [],
   "source": [
    "def plot_roc_curve(model, X_test, y_test, case):\n",
    "    y_pred_proba = model.predict_proba(X_test)[:,1]\n",
    "    \n",
    "    fpr, tpr, thresholds = roc_curve(y_test, y_pred_proba)\n",
    "    \n",
    "    roc_auc = roc_auc_score(y_test, y_pred_proba)\n",
    "    \n",
    "    # Vẽ ROC curve\n",
    "    plt.figure(figsize=(8, 6))\n",
    "    plt.plot(fpr, tpr, color='blue', lw=2, label=f'ROC curve (AUC = {roc_auc:.2f})')\n",
    "    plt.plot([0, 1], [0, 1], color='red', linestyle='--')\n",
    "    plt.xlim([0.0, 1.0])\n",
    "    plt.ylim([0.0, 1.05])\n",
    "    plt.xlabel('False Positive Rate')\n",
    "    plt.ylabel('True Positive Rate')\n",
    "    plt.title(f'ROC Curve - {type(model).__name__}')\n",
    "    plt.legend(loc=\"lower right\")\n",
    "    plt.show()"
   ]
  },
  {
   "cell_type": "code",
   "execution_count": 39,
   "id": "d4716839",
   "metadata": {},
   "outputs": [],
   "source": [
    "X = stroke_dummy.drop('stroke', axis=1)\n",
    "y = stroke_dummy['stroke']\n",
    "\n",
    "X_train, X_test, y_train, y_test = train_test_split(X, y, test_size = 0.2, random_state = 22)"
   ]
  },
  {
   "cell_type": "markdown",
   "id": "3b4b6bdf",
   "metadata": {},
   "source": [
    "## Áp dụng mô hình Hồi quy Logarit"
   ]
  },
  {
   "cell_type": "code",
   "execution_count": 30,
   "id": "fc274987",
   "metadata": {},
   "outputs": [],
   "source": [
    "imputer = SimpleImputer(strategy='mean')\n",
    "X_train = imputer.fit_transform(X_train)\n",
    "X_test = imputer.transform(X_test)"
   ]
  },
  {
   "cell_type": "code",
   "execution_count": 31,
   "id": "5cad9b3f",
   "metadata": {},
   "outputs": [
    {
     "name": "stdout",
     "output_type": "stream",
     "text": [
      "      Metric     Score\n",
      "0   Accuracy  0.757339\n",
      "1  Precision  0.141264\n",
      "2     Recall  0.690909\n",
      "3   F1 Score  0.234568\n"
     ]
    }
   ],
   "source": [
    "class_weight = {0: 1, 1: sum(y_train==0)/sum(y_train==1)}\n",
    "\n",
    "logistic = LogisticRegression(\n",
    "    max_iter=100,\n",
    "    random_state=42,\n",
    "    solver='liblinear',\n",
    "    class_weight=class_weight,\n",
    "    penalty='l2',\n",
    "    C=1.0\n",
    ")\n",
    "\n",
    "logistic.fit(X_train, y_train)\n",
    "\n",
    "logistic_accuracy = logistic.score(X_test, y_test)\n",
    "\n",
    "y_pred_logistic = logistic.predict(X_test)\n",
    "\n",
    "# Tính các chỉ số đánh giá\n",
    "lr_accuracy = logistic.score(X_test, y_test)\n",
    "lr_precision = precision_score(y_test, y_pred_logistic)\n",
    "lr_recall = recall_score(y_test, y_pred_logistic)\n",
    "lr_f1 = f1_score(y_test, y_pred_logistic)\n",
    "\n",
    "# Tạo dataframe kết quả\n",
    "results = pd.DataFrame({\n",
    "    'Metric': ['Accuracy', 'Precision', 'Recall', 'F1 Score'],\n",
    "    'Score': [lr_accuracy, lr_precision, lr_recall, lr_f1]\n",
    "})\n",
    "\n",
    "print(results)"
   ]
  },
  {
   "cell_type": "markdown",
   "id": "c22aa417",
   "metadata": {},
   "source": [
    "Chỉ số Precision và F1 Score của mô hình đều khá thấp, điều này chỉ ra rằng mô hình đang gặp khó khăn trong việc dự đoán chính xác lớp dương tính (positive class). Nguyên nhân của việc Precision và F1 Score thấp có thể do tập dữ liệu bị lệch, tức là số lượng mẫu dương tính (positive samples) rất ít so với số lượng mẫu âm tính (negative samples). Trong trường hợp này, có thể cần xem xét các kỹ thuật như tái cân bằng dữ liệu (resampling), điều chỉnh ngưỡng dự đoán, hoặc sử dụng các thuật toán khác phù hợp hơn với dữ liệu lệch."
   ]
  },
  {
   "cell_type": "code",
   "execution_count": 33,
   "id": "af6f8295",
   "metadata": {},
   "outputs": [
    {
     "data": {
      "image/png": "[encoded data removed]",
      "text/plain": [
       "<Figure size 800x600 with 2 Axes>"
      ]
     },
     "metadata": {},
     "output_type": "display_data"
    }
   ],
   "source": [
    "plot_confusion_matrix(logistic, y_test, y_pred_logistic, 2)"
   ]
  },
  {
   "cell_type": "markdown",
   "id": "c235e592",
   "metadata": {},
   "source": [
    "Trong biểu đồ dữ liệu âm tính giả chiếm đa số, kế tiếp là dương tính giả.\n",
    "Hai dòng dương tính thật và âm tính giả chiếm không đáng kể.\n"
   ]
  },
  {
   "cell_type": "code",
   "execution_count": 34,
   "id": "31cad932",
   "metadata": {},
   "outputs": [
    {
     "data": {
      "image/png": "[encoded data removed]",
      "text/plain": [
       "<Figure size 800x600 with 1 Axes>"
      ]
     },
     "metadata": {},
     "output_type": "display_data"
    }
   ],
   "source": [
    "plot_roc_curve(logistic, X_test, y_test, 2)"
   ]
  },
  {
   "cell_type": "markdown",
   "id": "d1d2b7d0",
   "metadata": {},
   "source": [
    "Trong biểu đồ cho thấy giá trị AUC = 0,83 nằm trong khoảng từ 0,8 đến 0,9, điều này cho thấy mô hình có chất lượng phân loại tốt."
   ]
  },
  {
   "cell_type": "markdown",
   "id": "1f13c740",
   "metadata": {},
   "source": [
    "# 7. XGBoost"
   ]
  },
  {
   "cell_type": "code",
   "execution_count": 40,
   "id": "c769cb82",
   "metadata": {},
   "outputs": [
    {
     "name": "stdout",
     "output_type": "stream",
     "text": [
      "Best Params: {'colsample_bytree': 0.811649063413779, 'gamma': 0.3308980248526492, 'learning_rate': 0.02906750508580709, 'max_depth': 9, 'min_child_weight': 8, 'n_estimators': 86, 'subsample': 0.864803089169032}\n",
      "Best Score: 0.25346723451986614\n",
      "      Metric     Score\n",
      "0   Accuracy  0.868885\n",
      "1  Precision  0.193798\n",
      "2     Recall  0.454545\n",
      "3   F1 Score  0.271739\n"
     ]
    }
   ],
   "source": [
    "from sklearn.model_selection import RandomizedSearchCV\n",
    "from scipy.stats import uniform, randint\n",
    "\n",
    "# Tạo mô hình XGBoost\n",
    "xgb = XGBClassifier(\n",
    "    colsample_bytree=0.7,\n",
    "    gamma=0.2,\n",
    "    learning_rate=0.01,\n",
    "    max_depth=7,\n",
    "    min_child_weight=5,\n",
    "    n_estimators=100,\n",
    "    subsample=0.5,\n",
    "    scale_pos_weight=sum(y_train==0)/sum(y_train==1), \n",
    "    eval_metric='logloss',\n",
    "    use_label_encoder=False \n",
    ")\n",
    "# Định nghĩa không gian tham số\n",
    "param_dist = {\n",
    "    'max_depth': randint(3, 10),\n",
    "    'min_child_weight': randint(1, 10),\n",
    "    'gamma': uniform(0, 1),\n",
    "    'subsample': uniform(0.5, 0.5),\n",
    "    'colsample_bytree': uniform(0.5, 0.5),\n",
    "    'learning_rate': uniform(0.01, 0.3),\n",
    "    'n_estimators': randint(50, 200)\n",
    "}\n",
    "\n",
    "# Tạo đối tượng RandomizedSearchCV\n",
    "random_search = RandomizedSearchCV(\n",
    "    xgb, param_distributions=param_dist, n_iter=50, scoring='f1', cv=5, random_state=42, n_jobs=-1\n",
    ")\n",
    "\n",
    "# Huấn luyện mô hình tối ưu\n",
    "random_search.fit(X_train, y_train)\n",
    "\n",
    "# In ra kết quả tối ưu\n",
    "print('Best Params:', random_search.best_params_)\n",
    "print('Best Score:', random_search.best_score_)\n",
    "\n",
    "# Dự đoán trên tập kiểm tra\n",
    "y_pred_xgb = random_search.predict(X_test)\n",
    "\n",
    "# Tính các chỉ số đánh giá\n",
    "xgb_accuracy = accuracy_score(y_test, y_pred_xgb)\n",
    "xgb_precision = precision_score(y_test, y_pred_xgb)\n",
    "xgb_recall = recall_score(y_test, y_pred_xgb)\n",
    "xgb_f1 = f1_score(y_test, y_pred_xgb)\n",
    "\n",
    "# Tạo dataframe kết quả\n",
    "results = pd.DataFrame({\n",
    "    'Metric': ['Accuracy', 'Precision', 'Recall', 'F1 Score'],\n",
    "    'Score': [xgb_accuracy, xgb_precision, xgb_recall, xgb_f1]\n",
    "})\n",
    "\n",
    "print(results)"
   ]
  },
  {
   "cell_type": "code",
   "execution_count": 41,
   "id": "3ba7ff12",
   "metadata": {},
   "outputs": [
    {
     "data": {
      "image/png": "[encoded data removed]",
      "text/plain": [
       "<Figure size 800x600 with 2 Axes>"
      ]
     },
     "metadata": {},
     "output_type": "display_data"
    }
   ],
   "source": [
    "plot_confusion_matrix(xgb, y_test, y_pred_xgb, 2)"
   ]
  },
  {
   "cell_type": "markdown",
   "id": "0d14df55",
   "metadata": {},
   "source": [
    "## So sánh đánh giá các mô hình và đưa ra kết luận"
   ]
  },
  {
   "cell_type": "markdown",
   "id": "e5a83859",
   "metadata": {},
   "source": [
    " | Model   | Accuracy      | Precision      | Recall | F1 Score  |\n",
    "|---------|----------|----------|----------|--------|\n",
    "| SVM | 0.952234 | 0.995466 | 0.908124 |0.949791|\n",
    "| Random Forest | 0.952269 | 0.285714 | 0.034483 |0.061538|\n",
    "| KNN | 0.950517 | 0.636364 | 0.038889 |0.073298|\n",
    "| PyTorch Model | 0.905000 | 0.885714 | 0.930000 |0.907317|\n",
    "| Decision Tree | 0.889942 | 0.854206 | 0.945191 |0.897398|\n",
    "| Hồi quy Logistic | 0.757339 | 0.141264 | 0.690909 |0.234568|\n",
    "| XGBoost | 0.868885 | 0.193798 | 0.45454 |0.271739|"
   ]
  },
  {
   "cell_type": "markdown",
   "id": "cc0f4245",
   "metadata": {},
   "source": [
    "•\tSVM (Support Vector Machine): Mô hình SVM đạt được kết quả rất tốt trên các chỉ số đánh giá với độ chính xác 95,22%, độ chính xác dương 99,58%, độ nhạy 90,78% và điểm F1 94,98%. Đây là mô hình có hiệu suất cao nhất trong số các mô hình đã thử nghiệm.\n",
    "\n",
    "•\tRandom Forest: Mặc dù độ chính xác của Random Forest cũng khá cao 95,23%, nhưng các chỉ số khác như độ chính xác dương 28,57%, độ nhạy 3,45% và điểm F1 6,15% lại tương đối thấp. Điều này gợi ý rằng mô hình có khả năng phát hiện các trường hợp dương còn hạn chế.\n",
    "\n",
    "•\tKNN (K-Nearest Neighbors): Tương tự như Random Forest, KNN có độ chính xác tổng thể 95,05% nhưng các chỉ số khác như độ chính xác dương 63,64%, độ nhạy 3,89% và điểm F1 7,33% cũng thấp. Điều này cho thấy mô hình KNN cũng chưa thể phát hiện đầy đủ các trường hợp dương.\n",
    "\n",
    "•\tPyTorch Model: ANN đạt được kết quả tương đối tốt với độ chính xác 90,5%, độ chính xác dương 88,57%, độ nhạy 93% và điểm F1 90,73%. Mô hình này có thể cân bằng tốt giữa độ chính xác và độ nhạy.\n",
    "\n",
    "•\tDecision Tree: Decision Tree đạt được kết quả tương đối tốt với độ chính xác 88,99%, độ chính xác dương 85,42%, độ nhạy 94,52% và điểm F1 89,73%.\n",
    "\n",
    "•\tHồi Quy Logistic: Mô hình Hồi Quy Logistic có kết quả tương đối kém với độ chính xác 75,73%, độ chính xác dương 14,12%, độ nhạy 69,09% và điểm F1 23,54%. Đây là mô hình có hiệu suất thấp nhất trong số các mô hình đã thử.\n",
    "\n",
    "•\tXGBoost: XGBoost đạt được độ chính xác 86,89%, độ chính xác dương 19,37%, độ nhạy 45,45% và điểm F1 27,17%. Kết quả của mô hình này cũng chưa thực sự ấn tượng.\n",
    "\n",
    "•\tNhìn chung, mô hình SVM đã cho kết quả rất tốt và có thể là lựa chọn tối ưu cho bài toán dự đoán đột quỵ. Các mô hình như ANN, Random Forest và KNN cũng có tiềm năng và có thể được cải thiện thêm.\n"
   ]
  },
  {
   "cell_type": "markdown",
   "id": "d8d66bad",
   "metadata": {},
   "source": [
    "## Dựa trên tổng thể các chỉ số, mô hình SVM có vẻ là mô hình có hiệu suất dự đoán tốt nhất, với các chỉ số cao nhất về độ chính xác (Accuracy), độ chính xác (Precision), và điểm F1 (F1 Score). Mặc dù ANN có recall cao nhất, nhưng các chỉ số khác của ANN thấp hơn SVM.\n",
    "## Vì vậy, mô hình SVM được đánh giá là mô hình có dự đoán chính xác nhất trong trường hợp này. \n"
   ]
  },
  {
   "cell_type": "code",
   "execution_count": null,
   "id": "0f0f59d6",
   "metadata": {},
   "outputs": [],
   "source": []
  }
 ],
 "metadata": {
  "kernelspec": {
   "display_name": "Python 3 (ipykernel)",
   "language": "python",
   "name": "python3"
  },
  "language_info": {
   "codemirror_mode": {
    "name": "ipython",
    "version": 3
   },
   "file_extension": ".py",
   "mimetype": "text/x-python",
   "name": "python",
   "nbconvert_exporter": "python",
   "pygments_lexer": "ipython3",
   "version": "3.9.13"
  }
 },
 "nbformat": 4,
 "nbformat_minor": 5
}
